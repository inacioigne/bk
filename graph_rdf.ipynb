{
 "cells": [
  {
   "cell_type": "code",
   "execution_count": 3,
   "metadata": {},
   "outputs": [
    {
     "ename": "ModuleNotFoundError",
     "evalue": "No module named 'src'",
     "output_type": "error",
     "traceback": [
      "\u001b[1;31m---------------------------------------------------------------------------\u001b[0m",
      "\u001b[1;31mModuleNotFoundError\u001b[0m                       Traceback (most recent call last)",
      "Cell \u001b[1;32mIn[3], line 1\u001b[0m\n\u001b[1;32m----> 1\u001b[0m \u001b[38;5;28;01mfrom\u001b[39;00m \u001b[38;5;21;01msrc\u001b[39;00m\u001b[38;5;21;01m.\u001b[39;00m\u001b[38;5;21;01mschemas\u001b[39;00m\u001b[38;5;21;01m.\u001b[39;00m\u001b[38;5;21;01mcatalog\u001b[39;00m\u001b[38;5;21;01m.\u001b[39;00m\u001b[38;5;21;01minstance\u001b[39;00m \u001b[38;5;28;01mimport\u001b[39;00m BfInstance\n",
      "\u001b[1;31mModuleNotFoundError\u001b[0m: No module named 'src'"
     ]
    }
   ],
   "source": [
    "from src.schemas.catalog.instance import BfInstance"
   ]
  },
  {
   "cell_type": "code",
   "execution_count": 2,
   "metadata": {},
   "outputs": [
    {
     "data": {
      "text/plain": [
       "<Graph identifier=N9d974734d18e4c1ba510a86393cd800a (<class 'rdflib.graph.Graph'>)>"
      ]
     },
     "execution_count": 2,
     "metadata": {},
     "output_type": "execute_result"
    }
   ],
   "source": [
    "graph = Graph()\n",
    "\n",
    "graph.parse(\"http://id.loc.gov/authorities/names/n79018099\")\n",
    "graph.serialize(\"Wilson.ttl\")"
   ]
  },
  {
   "cell_type": "code",
   "execution_count": 1,
   "metadata": {},
   "outputs": [],
   "source": [
    "req = {\n",
    "    \"instanceOf\": {\n",
    "        \"value\": \"https://bibliokeia.com/works/8\"\n",
    "    },\n",
    "    \"adminMetadata\": {\n",
    "        \"status\": {\n",
    "            \"value\": \"http://id.loc.gov/vocabulary/mstatus/n\",\n",
    "            \"label\": \"Novo\"\n",
    "        },\n",
    "        \"descriptionConventions\": {\n",
    "            \"value\": \"http://id.loc.gov/vocabulary/descriptionConventions/aacr\",\n",
    "            \"label\": \"AACr\"\n",
    "        }\n",
    "    },\n",
    "    \"resource\": [\n",
    "        {\n",
    "            \"type\": {\n",
    "                \"value\": \"Instance\",\n",
    "                \"label\": \"Instância\"\n",
    "            }\n",
    "        },\n",
    "        {\n",
    "            \"type\": {\n",
    "                \"value\": \"Print\",\n",
    "                \"label\": \"Impresso\"\n",
    "            }\n",
    "        }\n",
    "    ],\n",
    "    \"title\": {\n",
    "        \"mainTitle\": \"Sol de feira\"\n",
    "    },\n",
    "    \"physicalDetails\": {\n",
    "        \"carrier\": {\n",
    "            \"value\": \"http://id.loc.gov/vocabulary/carriers/nc\",\n",
    "            \"label\": \"\"\n",
    "        },\n",
    "        \"extent\": \"212 p.\",\n",
    "        \"issuance\": {\n",
    "            \"value\": \"http://id.loc.gov/vocabulary/issuance/mono\",\n",
    "            \"label\": \"\"\n",
    "        },\n",
    "        \"media\": {\n",
    "            \"value\": \"http://id.loc.gov/vocabulary/mediaTypes/n\",\n",
    "            \"label\": \"\"\n",
    "        }\n",
    "    },\n",
    "    \"provisionActivity\": [\n",
    "        {\n",
    "            \"place\": {\n",
    "                \"base\": \"bk\",\n",
    "                \"value\": \"https://bibliokeia.com/authority/81\",\n",
    "                \"label\": \"Manaus (Brazil)\"\n",
    "            },\n",
    "            \"agent\": {\n",
    "                \"base\": \"bk\",\n",
    "                \"value\": \"https://bibliokeia.com/authority/82\",\n",
    "                \"label\": \"Companhia das Letras\"\n",
    "            },\n",
    "            \"date\": \"2012\"\n",
    "        }\n",
    "    ],\n",
    "    \"image\": {\n",
    "        \"cover\": \"https://m.media-amazon.com/images/I/41wBgTiEP4L._SY445_SX342_.jpg\"\n",
    "    }\n",
    "}\n"
   ]
  },
  {
   "cell_type": "code",
   "execution_count": null,
   "metadata": {},
   "outputs": [],
   "source": [
    "BfInstance(req)"
   ]
  }
 ],
 "metadata": {
  "kernelspec": {
   "display_name": "venv",
   "language": "python",
   "name": "python3"
  },
  "language_info": {
   "codemirror_mode": {
    "name": "ipython",
    "version": 3
   },
   "file_extension": ".py",
   "mimetype": "text/x-python",
   "name": "python",
   "nbconvert_exporter": "python",
   "pygments_lexer": "ipython3",
   "version": "3.12.0"
  }
 },
 "nbformat": 4,
 "nbformat_minor": 2
}
