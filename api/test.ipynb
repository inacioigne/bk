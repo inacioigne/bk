{
 "cells": [
  {
   "cell_type": "code",
   "execution_count": 1,
   "metadata": {},
   "outputs": [],
   "source": [
    "from src.function.catalog.solr.work import DocWork\n",
    "from src.schemas.catalog.bibframe.work import Work"
   ]
  },
  {
   "cell_type": "code",
   "execution_count": 1,
   "metadata": {},
   "outputs": [],
   "source": [
    "from src.db.models import Catalog\n",
    "from src.db.init_db import session\n",
    "from sqlalchemy import exc\n",
    "from src.schemas.catalog.bibframe.work import Work\n",
    "from src.function.catalog.work.graphWork import MakeGraphWork"
   ]
  },
  {
   "cell_type": "code",
   "execution_count": 8,
   "metadata": {},
   "outputs": [
    {
     "name": "stdout",
     "output_type": "stream",
     "text": [
      "EXE: (mariadb.IntegrityError) Duplicate entry '1' for key 'PRIMARY'\n",
      "[SQL: INSERT INTO catalog (id, type, uri) VALUES (?, ?, ?)]\n",
      "[parameters: (1, 'work', 'uri')]\n",
      "(Background on this error at: https://sqlalche.me/e/20/gkpj)\n"
     ]
    }
   ],
   "source": [
    "try:\n",
    "    w = Catalog(id=1, type=\"work\", uri='uri') \n",
    "    session.add(w) \n",
    "    session.commit()\n",
    "except exc.IntegrityError as e:\n",
    "    session.rollback()\n",
    "    print(f\"EXE: {e}\")\n",
    "finally:\n",
    "    session.close()"
   ]
  },
  {
   "cell_type": "code",
   "execution_count": 5,
   "metadata": {},
   "outputs": [
    {
     "data": {
      "text/plain": [
       "{'adminMetadata': {'assigner': 'http://id.loc.gov/vocabulary/organizations/brmninpa',\n",
       "  'descriptionModifier': 'http://id.loc.gov/vocabulary/organizations/brmninpa',\n",
       "  'changeDate': None,\n",
       "  'creationDate': datetime.date(2023, 11, 25),\n",
       "  'descriptionLanguage': 'http://id.loc.gov/vocabulary/languages/por',\n",
       "  'descriptionConventions': 'http://id.loc.gov/vocabulary/descriptionConventions/local',\n",
       "  'generationProcess': 'BiblioKeia v.1',\n",
       "  'generationDate': '2023-11-25T20:33:11',\n",
       "  'status': {'value': 'n', 'label': 'novo'}},\n",
       " 'identifiersLocal': '1',\n",
       " 'type': 'Text',\n",
       " 'content': {'label': 'text',\n",
       "  'lang': None,\n",
       "  'uri': 'http://id.loc.gov/vocabulary/contentTypes/txt',\n",
       "  'type': 'http://id.loc.gov/ontologies/bibframe/Content'},\n",
       " 'language': [{'label': 'English',\n",
       "   'lang': 'en',\n",
       "   'uri': 'http://id.loc.gov/vocabulary/languages/eng',\n",
       "   'type': 'http://id.loc.gov/ontologies/bibframe/Language'}],\n",
       " 'title': {'type': 'bf:Title',\n",
       "  'mainTitle': 'Plants.',\n",
       "  'subtitle': '',\n",
       "  'label': None},\n",
       " 'classification': None,\n",
       " 'contribution': None,\n",
       " 'subject': None,\n",
       " 'genreForm': None,\n",
       " 'note': None,\n",
       " 'summary': None,\n",
       " 'tableOfContents': None,\n",
       " 'supplementaryContent': None,\n",
       " 'illustrativeContent': None,\n",
       " 'intendedAudience': None,\n",
       " 'geographicCoverage': None,\n",
       " 'isPartOf': 'https://bibliokeia.com/catalog/works'}"
      ]
     },
     "execution_count": 5,
     "metadata": {},
     "output_type": "execute_result"
    }
   ],
   "source": [
    "obj = {\n",
    "    \"identifiersLocal\": \"1\",\n",
    "    \"adminMetadata\": {\n",
    "        \"status\": {\n",
    "            \"label\": \"novo\",\n",
    "            \"value\": \"n\"\n",
    "        }\n",
    "    },\n",
    "    \"isPartOf\": \"https://bibliokeia.com/catalog/works\",\n",
    "    \"type\": \"Text\",\n",
    "    \"title\": {\n",
    "        \"mainTitle\": \"Plants.\",\n",
    "        \"subtitle\": \"\"\n",
    "    },\n",
    "    \"content\": {\n",
    "        \"label\": \"text\",\n",
    "        \"type\": \"http://id.loc.gov/ontologies/bibframe/Content\",\n",
    "        \"uri\": \"http://id.loc.gov/vocabulary/contentTypes/txt\"\n",
    "    },\n",
    "    \"language\": [\n",
    "        {\n",
    "            \"label\": \"English\",\n",
    "            \"lang\": \"en\",\n",
    "            \"type\": \"http://id.loc.gov/ontologies/bibframe/Language\",\n",
    "            \"uri\": \"http://id.loc.gov/vocabulary/languages/eng\"\n",
    "        }\n",
    "    ]\n",
    "}\n",
    "\n",
    "request = Work(**obj)\n",
    "request.model_dump()"
   ]
  },
  {
   "cell_type": "code",
   "execution_count": 4,
   "metadata": {},
   "outputs": [],
   "source": [
    "graph = MakeGraphWork(request)\n",
    "print(graph)"
   ]
  },
  {
   "cell_type": "code",
   "execution_count": 6,
   "metadata": {},
   "outputs": [],
   "source": [
    "from pyfuseki import FusekiUpdate\n",
    "from src.schemas.settings import Settings"
   ]
  },
  {
   "cell_type": "code",
   "execution_count": 4,
   "metadata": {},
   "outputs": [
    {
     "ename": "NameError",
     "evalue": "name 'Settings' is not defined",
     "output_type": "error",
     "traceback": [
      "\u001b[1;31m---------------------------------------------------------------------------\u001b[0m",
      "\u001b[1;31mNameError\u001b[0m                                 Traceback (most recent call last)",
      "\u001b[1;32mc:\\Users\\Inácio\\Documents\\BiblioKeia\\bk\\api\\test.ipynb Cell 8\u001b[0m line \u001b[0;36m1\n\u001b[1;32m----> <a href='vscode-notebook-cell:/c%3A/Users/In%C3%A1cio/Documents/BiblioKeia/bk/api/test.ipynb#X11sZmlsZQ%3D%3D?line=0'>1</a>\u001b[0m settings \u001b[39m=\u001b[39m Settings()\n\u001b[0;32m      <a href='vscode-notebook-cell:/c%3A/Users/In%C3%A1cio/Documents/BiblioKeia/bk/api/test.ipynb#X11sZmlsZQ%3D%3D?line=1'>2</a>\u001b[0m fuseki \u001b[39m=\u001b[39m FusekiUpdate(settings\u001b[39m.\u001b[39mfuseki, \u001b[39m'\u001b[39m\u001b[39mbk\u001b[39m\u001b[39m'\u001b[39m) \n",
      "\u001b[1;31mNameError\u001b[0m: name 'Settings' is not defined"
     ]
    }
   ],
   "source": [
    "settings = Settings()\n",
    "fuseki = FusekiUpdate(settings.fuseki, 'bk') "
   ]
  },
  {
   "cell_type": "code",
   "execution_count": 8,
   "metadata": {},
   "outputs": [],
   "source": [
    "response = fuseki.run_sparql(graph) "
   ]
  },
  {
   "cell_type": "code",
   "execution_count": 6,
   "metadata": {},
   "outputs": [],
   "source": [
    "responseSolr = DocWork(request) "
   ]
  },
  {
   "cell_type": "code",
   "execution_count": 7,
   "metadata": {},
   "outputs": [
    {
     "data": {
      "text/plain": [
       "'{\\n  \"responseHeader\":{\\n    \"status\":0,\\n    \"QTime\":2123\\n  }\\n}'"
      ]
     },
     "execution_count": 7,
     "metadata": {},
     "output_type": "execute_result"
    }
   ],
   "source": [
    "responseSolr"
   ]
  }
 ],
 "metadata": {
  "kernelspec": {
   "display_name": "Python 3",
   "language": "python",
   "name": "python3"
  },
  "language_info": {
   "codemirror_mode": {
    "name": "ipython",
    "version": 3
   },
   "file_extension": ".py",
   "mimetype": "text/x-python",
   "name": "python",
   "nbconvert_exporter": "python",
   "pygments_lexer": "ipython3",
   "version": "3.12.0"
  }
 },
 "nbformat": 4,
 "nbformat_minor": 2
}
