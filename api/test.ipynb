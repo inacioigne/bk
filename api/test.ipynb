{
 "cells": [
  {
   "cell_type": "code",
   "execution_count": 1,
   "metadata": {},
   "outputs": [],
   "source": [
    "from src.function.catalog.solr.work import DocWork\n",
    "from src.schemas.catalog.bibframe.work import Work\n",
    "import json"
   ]
  },
  {
   "cell_type": "code",
   "execution_count": 6,
   "metadata": {},
   "outputs": [
    {
     "data": {
      "text/plain": [
       "{'identifiersLocal': '2',\n",
       " 'adminMetadata': {'status': {'label': 'novo', 'value': 'n'}},\n",
       " 'isPartOf': 'https://bibliokeia.com/catalog/works',\n",
       " 'contribution': [{'agent': 'https://bibliokeia.com/authority/PersonalName/3',\n",
       "   'label': 'Munro, Alice',\n",
       "   'role': 'http://id.loc.gov/vocabulary/relators/aut',\n",
       "   'roleLabel': 'Autor'}],\n",
       " 'subject': [{'label': 'FicÃ§Ã£o',\n",
       "   'lang': 'por',\n",
       "   'uri': 'https://bibliokeia.com/authority/Topic/2',\n",
       "   'type': 'Topic'}],\n",
       " 'type': 'Text',\n",
       " 'title': {'mainTitle': 'Ã“dio, amizade, namoro, amor, casamento',\n",
       "  'subtitle': ''},\n",
       " 'content': {'label': 'Texto',\n",
       "  'uri': 'http://id.loc.gov/vocabulary/contentTypes/txt'},\n",
       " 'language': [{'label': 'por',\n",
       "   'uri': 'http://id.loc.gov/vocabulary/languages/por'}]}"
      ]
     },
     "execution_count": 6,
     "metadata": {},
     "output_type": "execute_result"
    }
   ],
   "source": [
    "with open('test.json') as file:\n",
    "    reader = file.read()\n",
    "    work = json.loads(reader)\n",
    "    file.close()\n",
    "work"
   ]
  },
  {
   "cell_type": "code",
   "execution_count": 8,
   "metadata": {},
   "outputs": [
    {
     "data": {
      "text/plain": [
       "Work(adminMetadata=AdminMetadata(assigner='http://id.loc.gov/vocabulary/organizations/brmninpa', descriptionModifier='http://id.loc.gov/vocabulary/organizations/brmninpa', changeDate=None, creationDate=datetime.date(2023, 11, 29), descriptionLanguage='http://id.loc.gov/vocabulary/languages/por', descriptionConventions='http://id.loc.gov/vocabulary/descriptionConventions/local', generationProcess='BiblioKeia v.1', generationDate='2023-11-29T20:31:12', status=Status(value='n', label='novo')), identifiersLocal='2', type='Text', content=Element(label='Texto', lang=None, uri='http://id.loc.gov/vocabulary/contentTypes/txt', type=None), language=[Element(label='por', lang=None, uri='http://id.loc.gov/vocabulary/languages/por', type=None)], title=Title(type='bf:Title', mainTitle='Ã“dio, amizade, namoro, amor, casamento', subtitle='', label=None), classification=None, contribution=[Contribution(agent='https://bibliokeia.com/authority/PersonalName/3', label='Munro, Alice', role='http://id.loc.gov/vocabulary/relators/aut', roleLabel='Autor')], subject=[Element(label='FicÃ§Ã£o', lang='por', uri='https://bibliokeia.com/authority/Topic/2', type='Topic')], genreForm=None, note=None, summary=None, tableOfContents=None, supplementaryContent=None, illustrativeContent=None, intendedAudience=None, geographicCoverage=None, isPartOf='https://bibliokeia.com/catalog/works')"
      ]
     },
     "execution_count": 8,
     "metadata": {},
     "output_type": "execute_result"
    }
   ],
   "source": [
    "request = Work(**work)\n",
    "request"
   ]
  },
  {
   "cell_type": "code",
   "execution_count": 10,
   "metadata": {},
   "outputs": [
    {
     "data": {
      "text/plain": [
       "{'assigner': 'http://id.loc.gov/vocabulary/organizations/brmninpa',\n",
       " 'descriptionModifier': 'http://id.loc.gov/vocabulary/organizations/brmninpa',\n",
       " 'changeDate': None,\n",
       " 'creationDate': datetime.date(2023, 11, 29),\n",
       " 'descriptionLanguage': 'http://id.loc.gov/vocabulary/languages/por',\n",
       " 'descriptionConventions': 'http://id.loc.gov/vocabulary/descriptionConventions/local',\n",
       " 'generationProcess': 'BiblioKeia v.1',\n",
       " 'generationDate': '2023-11-29T20:31:12',\n",
       " 'status': {'value': 'n', 'label': 'novo'}}"
      ]
     },
     "execution_count": 10,
     "metadata": {},
     "output_type": "execute_result"
    }
   ],
   "source": [
    "request.adminMetadata.model_dump()"
   ]
  },
  {
   "cell_type": "code",
   "execution_count": 25,
   "metadata": {},
   "outputs": [
    {
     "data": {
      "text/plain": [
       "'2023-11-29T00:00:00Z'"
      ]
     },
     "execution_count": 25,
     "metadata": {},
     "output_type": "execute_result"
    }
   ],
   "source": [
    "\n",
    "request.adminMetadata.creationDate.strftime(\"%Y-%m-%dT%H:%M:%SZ\")"
   ]
  },
  {
   "cell_type": "code",
   "execution_count": 16,
   "metadata": {},
   "outputs": [],
   "source": [
    "from datetime import datetime\n",
    "data_hora_atual = datetime.now()"
   ]
  },
  {
   "cell_type": "code",
   "execution_count": 17,
   "metadata": {},
   "outputs": [
    {
     "data": {
      "text/plain": [
       "datetime.datetime(2023, 11, 29, 20, 49, 34, 632723)"
      ]
     },
     "execution_count": 17,
     "metadata": {},
     "output_type": "execute_result"
    }
   ],
   "source": [
    "data_hora_atual"
   ]
  },
  {
   "cell_type": "code",
   "execution_count": null,
   "metadata": {},
   "outputs": [],
   "source": [
    "YYYY-MM-DDThh:mm:ssZ\n",
    "1972-05-20T17:33:18Z"
   ]
  },
  {
   "cell_type": "code",
   "execution_count": 24,
   "metadata": {},
   "outputs": [
    {
     "data": {
      "text/plain": [
       "'2023-11-29T00:00:00Z'"
      ]
     },
     "execution_count": 24,
     "metadata": {},
     "output_type": "execute_result"
    }
   ],
   "source": [
    "d.strftime(\"%Y-%m-%dT%H:%M:%SZ\")"
   ]
  },
  {
   "cell_type": "code",
   "execution_count": 4,
   "metadata": {},
   "outputs": [
    {
     "ename": "NameError",
     "evalue": "name 'Settings' is not defined",
     "output_type": "error",
     "traceback": [
      "\u001b[1;31m---------------------------------------------------------------------------\u001b[0m",
      "\u001b[1;31mNameError\u001b[0m                                 Traceback (most recent call last)",
      "\u001b[1;32mc:\\Users\\Inácio\\Documents\\BiblioKeia\\bk\\api\\test.ipynb Cell 8\u001b[0m line \u001b[0;36m1\n\u001b[1;32m----> <a href='vscode-notebook-cell:/c%3A/Users/In%C3%A1cio/Documents/BiblioKeia/bk/api/test.ipynb#X11sZmlsZQ%3D%3D?line=0'>1</a>\u001b[0m settings \u001b[39m=\u001b[39m Settings()\n\u001b[0;32m      <a href='vscode-notebook-cell:/c%3A/Users/In%C3%A1cio/Documents/BiblioKeia/bk/api/test.ipynb#X11sZmlsZQ%3D%3D?line=1'>2</a>\u001b[0m fuseki \u001b[39m=\u001b[39m FusekiUpdate(settings\u001b[39m.\u001b[39mfuseki, \u001b[39m'\u001b[39m\u001b[39mbk\u001b[39m\u001b[39m'\u001b[39m) \n",
      "\u001b[1;31mNameError\u001b[0m: name 'Settings' is not defined"
     ]
    }
   ],
   "source": [
    "settings = Settings()\n",
    "fuseki = FusekiUpdate(settings.fuseki, 'bk') "
   ]
  },
  {
   "cell_type": "code",
   "execution_count": 8,
   "metadata": {},
   "outputs": [],
   "source": [
    "response = fuseki.run_sparql(graph) "
   ]
  },
  {
   "cell_type": "code",
   "execution_count": 6,
   "metadata": {},
   "outputs": [],
   "source": [
    "responseSolr = DocWork(request) "
   ]
  },
  {
   "cell_type": "code",
   "execution_count": 7,
   "metadata": {},
   "outputs": [
    {
     "data": {
      "text/plain": [
       "'{\\n  \"responseHeader\":{\\n    \"status\":0,\\n    \"QTime\":2123\\n  }\\n}'"
      ]
     },
     "execution_count": 7,
     "metadata": {},
     "output_type": "execute_result"
    }
   ],
   "source": [
    "responseSolr"
   ]
  }
 ],
 "metadata": {
  "kernelspec": {
   "display_name": "Python 3",
   "language": "python",
   "name": "python3"
  },
  "language_info": {
   "codemirror_mode": {
    "name": "ipython",
    "version": 3
   },
   "file_extension": ".py",
   "mimetype": "text/x-python",
   "name": "python",
   "nbconvert_exporter": "python",
   "pygments_lexer": "ipython3",
   "version": "3.12.0"
  }
 },
 "nbformat": 4,
 "nbformat_minor": 2
}
