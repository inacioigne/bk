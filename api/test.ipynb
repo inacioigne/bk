{
 "cells": [
  {
   "cell_type": "code",
   "execution_count": 1,
   "metadata": {},
   "outputs": [],
   "source": [
    "from src.function.catalog.solr.work import DocWork\n",
    "from src.schemas.catalog.bibframe.work import Work"
   ]
  },
  {
   "cell_type": "code",
   "execution_count": 2,
   "metadata": {},
   "outputs": [
    {
     "data": {
      "text/plain": [
       "{'adminMetadata': {'assigner': 'http://id.loc.gov/vocabulary/organizations/brmninpa',\n",
       "  'descriptionModifier': 'http://id.loc.gov/vocabulary/organizations/brmninpa',\n",
       "  'changeDate': None,\n",
       "  'creationDate': datetime.date(2023, 11, 27),\n",
       "  'descriptionLanguage': 'http://id.loc.gov/vocabulary/languages/por',\n",
       "  'descriptionConventions': 'http://id.loc.gov/vocabulary/descriptionConventions/local',\n",
       "  'generationProcess': 'BiblioKeia v.1',\n",
       "  'generationDate': '2023-11-27T15:10:15',\n",
       "  'status': {'value': 'n', 'label': 'novo'}},\n",
       " 'identifiersLocal': '1',\n",
       " 'type': 'Text',\n",
       " 'content': {'label': 'Texto',\n",
       "  'lang': None,\n",
       "  'uri': 'http://id.loc.gov/vocabulary/contentTypes/txt',\n",
       "  'type': None},\n",
       " 'language': [{'label': 'por',\n",
       "   'lang': None,\n",
       "   'uri': 'http://id.loc.gov/vocabulary/languages/por',\n",
       "   'type': None}],\n",
       " 'title': {'type': 'bf:Title',\n",
       "  'mainTitle': 'Conjecturas e refutações',\n",
       "  'subtitle': 'pensamento científico',\n",
       "  'label': None},\n",
       " 'classification': None,\n",
       " 'contribution': [{'agent': 'https://bibliokeia.com/authority/PersonalName/7',\n",
       "   'label': 'Popper, Karl R.',\n",
       "   'role': 'http://id.loc.gov/vocabulary/relators/aut',\n",
       "   'roleLabel': 'Autor'},\n",
       "  {'agent': 'https://bibliokeia.com/authority/PersonalName/8',\n",
       "   'label': 'Bath, Sérgio',\n",
       "   'role': 'http://id.loc.gov/vocabulary/relators/trl',\n",
       "   'roleLabel': 'Tradutor'}],\n",
       " 'subject': None,\n",
       " 'genreForm': None,\n",
       " 'note': None,\n",
       " 'summary': None,\n",
       " 'tableOfContents': None,\n",
       " 'supplementaryContent': None,\n",
       " 'illustrativeContent': None,\n",
       " 'intendedAudience': None,\n",
       " 'geographicCoverage': None,\n",
       " 'isPartOf': 'https://bibliokeia.com/catalog/works'}"
      ]
     },
     "execution_count": 2,
     "metadata": {},
     "output_type": "execute_result"
    }
   ],
   "source": [
    "obj = {\n",
    "    \"identifiersLocal\": \"1\",\n",
    "    \"adminMetadata\": {\n",
    "        \"status\": {\n",
    "            \"label\": \"novo\",\n",
    "            \"value\": \"n\"\n",
    "        }\n",
    "    },\n",
    "    \"isPartOf\": \"https://bibliokeia.com/catalog/works\",\n",
    "    \"contribution\": [\n",
    "        {\n",
    "            \"agent\": \"https://bibliokeia.com/authority/PersonalName/7\",\n",
    "            \"label\": \"Popper, Karl R.\",\n",
    "            \"role\": \"http://id.loc.gov/vocabulary/relators/aut\",\n",
    "            \"roleLabel\": \"Autor\"\n",
    "        },\n",
    "        {\n",
    "            \"agent\": \"https://bibliokeia.com/authority/PersonalName/8\",\n",
    "            \"label\": \"Bath, Sérgio\",\n",
    "            \"role\": \"http://id.loc.gov/vocabulary/relators/trl\",\n",
    "            \"roleLabel\": \"Tradutor\"\n",
    "        }\n",
    "    ],\n",
    "    \"type\": \"Text\",\n",
    "    \"title\": {\n",
    "        \"mainTitle\": \"Conjecturas e refutações\",\n",
    "        \"subtitle\": \"pensamento científico\"\n",
    "    },\n",
    "    \"content\": {\n",
    "        \"label\": \"Texto\",\n",
    "        \"uri\": \"http://id.loc.gov/vocabulary/contentTypes/txt\"\n",
    "    },\n",
    "    \"language\": [\n",
    "        {\n",
    "            \"label\": \"por\",\n",
    "            \"uri\": \"http://id.loc.gov/vocabulary/languages/por\"\n",
    "        }\n",
    "    ]\n",
    "}\n",
    "\n",
    "request = Work(**obj)\n",
    "request.model_dump()"
   ]
  },
  {
   "cell_type": "code",
   "execution_count": 3,
   "metadata": {},
   "outputs": [
    {
     "name": "stdout",
     "output_type": "stream",
     "text": [
      "PREFIX bkw: <https://bibliokeia.com/catalog/works/> \n",
      "            PREFIX rdf: <http://www.w3.org/1999/02/22-rdf-syntax-ns#>\n",
      "            PREFIX xsd: <http://www.w3.org/2001/XMLSchema#>\n",
      "            PREFIX rdfs: <http://www.w3.org/2000/01/rdf-schema#>\n",
      "            PREFIX bf: <http://id.loc.gov/ontologies/bibframe/>\n",
      "            PREFIX madsrdf: <http://www.loc.gov/mads/rdf/v1#>\n",
      "            PREFIX bflc: <http://id.loc.gov/ontologies/bflc/> \n",
      "            PREFIX menclvl: <http://id.loc.gov/vocabulary/menclvl/>\n",
      "            PREFIX mstatus: <http://id.loc.gov/vocabulary/mstatus/>\n",
      "            PREFIX contentTypes: <http://id.loc.gov/vocabulary/contentTypes/>\n",
      "            PREFIX relators: <http://id.loc.gov/vocabulary/relators/>\n",
      "            PREFIX genreForms: <http://id.loc.gov/authorities/genreForms/>\n",
      "            PREFIX msupplcont: <http://id.loc.gov/vocabulary/msupplcont/>\n",
      "            PREFIX millus: <http://id.loc.gov/vocabulary/millus/>    \n",
      "        \n",
      "    INSERT DATA {\n",
      "        GRAPH bkw:1\n",
      "        {\n",
      "                bkw:1 a bf:Text,\n",
      "                    bf:Work ;\n",
      "                bf:adminMetadata [ a bf:AdminMetadata ;\n",
      "                bf:assigner <http://id.loc.gov/vocabulary/organizations/brmninpa> ;    \n",
      "                bf:creationDate \"2023-11-27\"^^xsd:date ;    \n",
      "                bf:descriptionConventions <http://id.loc.gov/vocabulary/descriptionConventions/local> ;\n",
      "                bf:descriptionLanguage <http://id.loc.gov/vocabulary/languages/por> ;\n",
      "                 bf:generationProcess [ a bf:GenerationProcess ;\n",
      "                    rdfs:label \"BiblioKeia v.1\" ;\n",
      "                    bf:generationDate \"2023-11-27T15:10:15\"^^xsd:dateTime ] ;\n",
      "                bf:identifiedBy [ a bf:Local ;\n",
      "                    bf:assigner <http://id.loc.gov/vocabulary/organizations/brmninpa> ;\n",
      "                    rdf:value \"1\" ] ;\n",
      "                bf:status [ a bf:Status ;\n",
      "                    rdfs:label \"novo\" ;\n",
      "                    bf:code \"n\" ] ] ;\n",
      "                                \n",
      "                bf:content <http://id.loc.gov/vocabulary/contentTypes/txt>  ; \n",
      "                bf:language <http://id.loc.gov/vocabulary/languages/por> ;\n",
      "                bf:title [ a bf:Title ;\n",
      "                bf:mainTitle \"Conjecturas e refutações\" \n",
      "                ; bf:subtitle \"pensamento científico\"  ] ;\n",
      "                bf:contribution [ a bf:Contribution;\n",
      "                bf:agent <https://bibliokeia.com/authority/PersonalName/7> ;\n",
      "                bf:role <http://id.loc.gov/vocabulary/relators/aut> ], [ a bf:Contribution;\n",
      "                bf:agent <https://bibliokeia.com/authority/PersonalName/8> ;\n",
      "                bf:role <http://id.loc.gov/vocabulary/relators/trl> ] ;  \n",
      "                \n",
      "                         \n",
      "                \n",
      "                \n",
      "                \n",
      "                \n",
      "                \n",
      "                \n",
      "                \n",
      "        } }\n",
      "        \n"
     ]
    }
   ],
   "source": [
    "from src.function.catalog.work.graphWork import MakeGraphWork\n",
    "graph = MakeGraphWork(request)\n",
    "print(graph)"
   ]
  },
  {
   "cell_type": "code",
   "execution_count": 6,
   "metadata": {},
   "outputs": [],
   "source": [
    "from pyfuseki import FusekiUpdate\n",
    "from src.schemas.settings import Settings"
   ]
  },
  {
   "cell_type": "code",
   "execution_count": 4,
   "metadata": {},
   "outputs": [
    {
     "ename": "NameError",
     "evalue": "name 'Settings' is not defined",
     "output_type": "error",
     "traceback": [
      "\u001b[1;31m---------------------------------------------------------------------------\u001b[0m",
      "\u001b[1;31mNameError\u001b[0m                                 Traceback (most recent call last)",
      "\u001b[1;32mc:\\Users\\Inácio\\Documents\\BiblioKeia\\bk\\api\\test.ipynb Cell 8\u001b[0m line \u001b[0;36m1\n\u001b[1;32m----> <a href='vscode-notebook-cell:/c%3A/Users/In%C3%A1cio/Documents/BiblioKeia/bk/api/test.ipynb#X11sZmlsZQ%3D%3D?line=0'>1</a>\u001b[0m settings \u001b[39m=\u001b[39m Settings()\n\u001b[0;32m      <a href='vscode-notebook-cell:/c%3A/Users/In%C3%A1cio/Documents/BiblioKeia/bk/api/test.ipynb#X11sZmlsZQ%3D%3D?line=1'>2</a>\u001b[0m fuseki \u001b[39m=\u001b[39m FusekiUpdate(settings\u001b[39m.\u001b[39mfuseki, \u001b[39m'\u001b[39m\u001b[39mbk\u001b[39m\u001b[39m'\u001b[39m) \n",
      "\u001b[1;31mNameError\u001b[0m: name 'Settings' is not defined"
     ]
    }
   ],
   "source": [
    "settings = Settings()\n",
    "fuseki = FusekiUpdate(settings.fuseki, 'bk') "
   ]
  },
  {
   "cell_type": "code",
   "execution_count": 8,
   "metadata": {},
   "outputs": [],
   "source": [
    "response = fuseki.run_sparql(graph) "
   ]
  },
  {
   "cell_type": "code",
   "execution_count": 6,
   "metadata": {},
   "outputs": [],
   "source": [
    "responseSolr = DocWork(request) "
   ]
  },
  {
   "cell_type": "code",
   "execution_count": 7,
   "metadata": {},
   "outputs": [
    {
     "data": {
      "text/plain": [
       "'{\\n  \"responseHeader\":{\\n    \"status\":0,\\n    \"QTime\":2123\\n  }\\n}'"
      ]
     },
     "execution_count": 7,
     "metadata": {},
     "output_type": "execute_result"
    }
   ],
   "source": [
    "responseSolr"
   ]
  }
 ],
 "metadata": {
  "kernelspec": {
   "display_name": "Python 3",
   "language": "python",
   "name": "python3"
  },
  "language_info": {
   "codemirror_mode": {
    "name": "ipython",
    "version": 3
   },
   "file_extension": ".py",
   "mimetype": "text/x-python",
   "name": "python",
   "nbconvert_exporter": "python",
   "pygments_lexer": "ipython3",
   "version": "3.12.0"
  }
 },
 "nbformat": 4,
 "nbformat_minor": 2
}
