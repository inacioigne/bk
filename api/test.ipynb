{
 "cells": [
  {
   "cell_type": "code",
   "execution_count": 1,
   "metadata": {},
   "outputs": [],
   "source": [
    "from src.db.models import Catalog\n",
    "from src.db.init_db import session\n",
    "from sqlalchemy import exc\n",
    "from src.schemas.catalog.bibframe.work import Work\n",
    "from src.function.catalog.work.graphWork import MakeGraphWork"
   ]
  },
  {
   "cell_type": "code",
   "execution_count": 8,
   "metadata": {},
   "outputs": [
    {
     "name": "stdout",
     "output_type": "stream",
     "text": [
      "EXE: (mariadb.IntegrityError) Duplicate entry '1' for key 'PRIMARY'\n",
      "[SQL: INSERT INTO catalog (id, type, uri) VALUES (?, ?, ?)]\n",
      "[parameters: (1, 'work', 'uri')]\n",
      "(Background on this error at: https://sqlalche.me/e/20/gkpj)\n"
     ]
    }
   ],
   "source": [
    "try:\n",
    "    w = Catalog(id=1, type=\"work\", uri='uri') \n",
    "    session.add(w) \n",
    "    session.commit()\n",
    "except exc.IntegrityError as e:\n",
    "    session.rollback()\n",
    "    print(f\"EXE: {e}\")\n",
    "finally:\n",
    "    session.close()"
   ]
  },
  {
   "cell_type": "code",
   "execution_count": 2,
   "metadata": {},
   "outputs": [],
   "source": [
    "obj = {\n",
    "    \"identifiersLocal\": \"1\",\n",
    "    \"adminMetadata\": {\n",
    "        \"status\": {\n",
    "            \"label\": \"novo\",\n",
    "            \"value\": \"n\"\n",
    "        }\n",
    "    },\n",
    "    \"isPartOf\": \"https://bibliokeia.com/catalog/works\",\n",
    "    \"type\": \"Text\",\n",
    "    \"title\": {\n",
    "        \"mainTitle\": \"Plants.\",\n",
    "        \"subtitle\": \"\"\n",
    "    },\n",
    "    \"content\": {\n",
    "        \"label\": \"text\",\n",
    "        \"type\": \"http://id.loc.gov/ontologies/bibframe/Content\",\n",
    "        \"uri\": \"http://id.loc.gov/vocabulary/contentTypes/txt\"\n",
    "    },\n",
    "    \"language\": [\n",
    "        {\n",
    "            \"label\": \"English\",\n",
    "            \"lang\": \"en\",\n",
    "            \"type\": \"http://id.loc.gov/ontologies/bibframe/Language\",\n",
    "            \"uri\": \"http://id.loc.gov/vocabulary/languages/eng\"\n",
    "        }\n",
    "    ]\n",
    "}"
   ]
  },
  {
   "cell_type": "code",
   "execution_count": 3,
   "metadata": {},
   "outputs": [
    {
     "data": {
      "text/plain": [
       "Work(adminMetadata=AdminMetadata(assigner='http://id.loc.gov/vocabulary/organizations/brmninpa', descriptionModifier='http://id.loc.gov/vocabulary/organizations/brmninpa', changeDate=None, creationDate=datetime.date(2023, 11, 24), descriptionLanguage='http://id.loc.gov/vocabulary/languages/por', descriptionConventions='http://id.loc.gov/vocabulary/descriptionConventions/local', generationProcess='BiblioKeia v.1', generationDate='2023-11-24T23:03:17', status=Status(value='n', label='novo')), identifiersLocal='1', type='Text', content=Element(label='text', lang=None, uri='http://id.loc.gov/vocabulary/contentTypes/txt', type='http://id.loc.gov/ontologies/bibframe/Content'), language=[Element(label='English', lang='en', uri='http://id.loc.gov/vocabulary/languages/eng', type='http://id.loc.gov/ontologies/bibframe/Language')], title=Title(type='bf:Title', mainTitle='Plants.', subtitle='', label=None), classification=None, contribution=None, subject=None, genreForm=None, note=None, summary=None, tableOfContents=None, supplementaryContent=None, illustrativeContent=None, intendedAudience=None, geographicCoverage=None, isPartOf='https://bibliokeia.com/catalog/works')"
      ]
     },
     "execution_count": 3,
     "metadata": {},
     "output_type": "execute_result"
    }
   ],
   "source": [
    "request = Work(**obj)\n",
    "request"
   ]
  },
  {
   "cell_type": "code",
   "execution_count": 4,
   "metadata": {},
   "outputs": [
    {
     "data": {
      "text/plain": [
       "{'assigner': 'http://id.loc.gov/vocabulary/organizations/brmninpa',\n",
       " 'descriptionModifier': 'http://id.loc.gov/vocabulary/organizations/brmninpa',\n",
       " 'changeDate': None,\n",
       " 'creationDate': datetime.date(2023, 11, 24),\n",
       " 'descriptionLanguage': 'http://id.loc.gov/vocabulary/languages/por',\n",
       " 'descriptionConventions': 'http://id.loc.gov/vocabulary/descriptionConventions/local',\n",
       " 'generationProcess': 'BiblioKeia v.1',\n",
       " 'generationDate': '2023-11-24T22:40:36',\n",
       " 'status': {'value': 'n', 'label': 'novo'}}"
      ]
     },
     "execution_count": 4,
     "metadata": {},
     "output_type": "execute_result"
    }
   ],
   "source": [
    "request.adminMetadata.model_dump()"
   ]
  },
  {
   "cell_type": "code",
   "execution_count": 4,
   "metadata": {},
   "outputs": [],
   "source": [
    "graph = MakeGraphWork(request)"
   ]
  },
  {
   "cell_type": "code",
   "execution_count": 5,
   "metadata": {},
   "outputs": [
    {
     "name": "stdout",
     "output_type": "stream",
     "text": [
      "PREFIX bkw: <https://bibliokeia.com/catalog/works/> \n",
      "            PREFIX rdf: <http://www.w3.org/1999/02/22-rdf-syntax-ns#>\n",
      "            PREFIX xsd: <http://www.w3.org/2001/XMLSchema#>\n",
      "            PREFIX rdfs: <http://www.w3.org/2000/01/rdf-schema#>\n",
      "            PREFIX bf: <http://id.loc.gov/ontologies/bibframe/>\n",
      "            PREFIX madsrdf: <http://www.loc.gov/mads/rdf/v1#>\n",
      "            PREFIX bflc: <http://id.loc.gov/ontologies/bflc/> \n",
      "            PREFIX menclvl: <http://id.loc.gov/vocabulary/menclvl/>\n",
      "            PREFIX mstatus: <http://id.loc.gov/vocabulary/mstatus/>\n",
      "            PREFIX contentTypes: <http://id.loc.gov/vocabulary/contentTypes/>\n",
      "            PREFIX relators: <http://id.loc.gov/vocabulary/relators/>\n",
      "            PREFIX genreForms: <http://id.loc.gov/authorities/genreForms/>\n",
      "            PREFIX msupplcont: <http://id.loc.gov/vocabulary/msupplcont/>\n",
      "            PREFIX millus: <http://id.loc.gov/vocabulary/millus/>    \n",
      "        \n",
      "    INSERT DATA {\n",
      "        GRAPH bkw:1\n",
      "        {\n",
      "                bkw:1 a bf:Text,\n",
      "                    bf:Work ;\n",
      "                bf:adminMetadata [ a bf:AdminMetadata ;\n",
      "                bf:assigner <http://id.loc.gov/vocabulary/organizations/brmninpa> ;    \n",
      "                bf:creationDate \"2023-11-24\"^^xsd:date ;    \n",
      "                bf:descriptionConventions <http://id.loc.gov/vocabulary/descriptionConventions/local> ;\n",
      "                bf:descriptionLanguage <http://id.loc.gov/vocabulary/languages/por> ;\n",
      "                 bf:generationProcess [ a bf:GenerationProcess ;\n",
      "                    rdfs:label \"BiblioKeia v.1\" ;\n",
      "                    bf:generationDate \"2023-11-24T23:03:17\"^^xsd:dateTime ] ;\n",
      "                bf:identifiedBy [ a bf:Local ;\n",
      "                    bf:assigner <http://id.loc.gov/vocabulary/organizations/brmninpa> ;\n",
      "                    rdf:value \"1\" ] ;\n",
      "                bf:status [ a bf:Status ;\n",
      "                    rdfs:label \"novo\" ;\n",
      "                    bf:code \"n\" ] ] ;\n",
      "                                \n",
      "                bf:content <http://id.loc.gov/vocabulary/contentTypes/txt>  ; \n",
      "                bf:language <http://id.loc.gov/vocabulary/languages/eng> ;\n",
      "                bf:title [ a bf:Title ;\n",
      "                bf:mainTitle \"Plants.\" \n",
      "                 ] ;\n",
      "                  \n",
      "                \n",
      "                         \n",
      "                \n",
      "                \n",
      "                \n",
      "                \n",
      "                \n",
      "                \n",
      "                \n",
      "        } }\n",
      "        \n"
     ]
    }
   ],
   "source": [
    "print(graph)"
   ]
  },
  {
   "cell_type": "code",
   "execution_count": 6,
   "metadata": {},
   "outputs": [],
   "source": [
    "from pyfuseki import FusekiUpdate\n",
    "from src.schemas.settings import Settings"
   ]
  },
  {
   "cell_type": "code",
   "execution_count": 7,
   "metadata": {},
   "outputs": [],
   "source": [
    "settings = Settings()\n",
    "fuseki = FusekiUpdate(settings.fuseki, 'bk') "
   ]
  },
  {
   "cell_type": "code",
   "execution_count": 8,
   "metadata": {},
   "outputs": [],
   "source": [
    "response = fuseki.run_sparql(graph) "
   ]
  }
 ],
 "metadata": {
  "kernelspec": {
   "display_name": "Python 3",
   "language": "python",
   "name": "python3"
  },
  "language_info": {
   "codemirror_mode": {
    "name": "ipython",
    "version": 3
   },
   "file_extension": ".py",
   "mimetype": "text/x-python",
   "name": "python",
   "nbconvert_exporter": "python",
   "pygments_lexer": "ipython3",
   "version": "3.12.0"
  }
 },
 "nbformat": 4,
 "nbformat_minor": 2
}
