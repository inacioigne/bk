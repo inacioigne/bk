{
 "cells": [
  {
   "cell_type": "code",
   "execution_count": 1,
   "metadata": {},
   "outputs": [],
   "source": [
    "from src.db.models import DbInstance\n",
    "import json\n",
    "from src.schemas.catalog.instance import BfInstance\n",
    "from src.db.init_db import session\n",
    "from src.function.catalog.instance.graphInstance import MakeGraphInstance"
   ]
  },
  {
   "cell_type": "code",
   "execution_count": 2,
   "metadata": {},
   "outputs": [],
   "source": [
    "with open('test.json', encoding=\"utf-8\") as file:\n",
    "    reader = file.read()\n",
    "    obj = json.loads(reader)\n",
    "\n",
    "request = BfInstance(**obj)\n",
    "uri = f'https://bibliokeia.com/catalog/instances/{request.identifiersLocal}'\n",
    "work_id = request.instanceOf.uri.split(\"/\")[-1]"
   ]
  },
  {
   "cell_type": "code",
   "execution_count": 4,
   "metadata": {},
   "outputs": [
    {
     "name": "stdout",
     "output_type": "stream",
     "text": [
      "\n",
      "PREFIX bki: <https://bibliokeia.com/resources/instance/> \n",
      "PREFIX rdf: <http://www.w3.org/1999/02/22-rdf-syntax-ns#>\n",
      "    PREFIX xsd: <http://www.w3.org/2001/XMLSchema#>\n",
      "    PREFIX rdfs: <http://www.w3.org/2000/01/rdf-schema#>\n",
      "    PREFIX bf: <http://id.loc.gov/ontologies/bibframe/>\n",
      "    PREFIX madsrdf: <http://www.loc.gov/mads/rdf/v1#>\n",
      "    PREFIX menclvl: <http://id.loc.gov/vocabulary/menclvl/>\n",
      "    PREFIX mstatus: <http://id.loc.gov/vocabulary/mstatus/>\n",
      "    PREFIX contentTypes: <http://id.loc.gov/vocabulary/contentTypes/>\n",
      "    PREFIX relators: <http://id.loc.gov/vocabulary/relators/>\n",
      "    PREFIX genreForms: <http://id.loc.gov/authorities/genreForms/>\n",
      "    PREFIX msupplcont: <http://id.loc.gov/vocabulary/msupplcont/>\n",
      "    PREFIX millus: <http://id.loc.gov/vocabulary/millus/>    \n",
      "        \n",
      "    INSERT DATA {\n",
      "        GRAPH bki:6\n",
      "        {\n",
      "                bki:6 a bf:Instance, \n",
      "                    bf:Print;\n",
      "                bf:adminMetadata [ a bf:AdminMetadata ;\n",
      "                bf:assigner <http://id.loc.gov/vocabulary/organizations/brmninpa> ;    \n",
      "                bf:creationDate \"2023-12-10\"^^xsd:date ;    \n",
      "                bf:descriptionConventions <http://id.loc.gov/vocabulary/descriptionConventions/local> ;\n",
      "                bf:descriptionLanguage <http://id.loc.gov/vocabulary/languages/por> ;\n",
      "                 bf:generationProcess [ a bf:GenerationProcess ;\n",
      "                    rdfs:label \"BiblioKeia v.1\" ;\n",
      "                    bf:generationDate \"2023-12-10T20:07:41\"^^xsd:dateTime ] ;\n",
      "                bf:identifiedBy [ a bf:Local ;\n",
      "                    bf:assigner <http://id.loc.gov/vocabulary/organizations/brmninpa> ;\n",
      "                    rdf:value \"6\" ] ;\n",
      "                bf:status \"n\" ] ;            \n",
      "                bf:title [ a bf:Title ;\n",
      "                bf:mainTitle \"A maçã no escuro\" \n",
      "                 ] ;\n",
      "                bf:carrier <http://id.loc.gov/vocabulary/carriers/nc> ;\n",
      "                f'bf:issuance <http://id.loc.gov/vocabulary/issuance/mono> ;'\n",
      "                f'bf:media <http://id.loc.gov/vocabulary/mediaTypes/n> ;'\n",
      "                \n",
      "                \n",
      "                \n",
      "                 bf:instanceOf <https://bibliokeia.com/catalog/works/7> ; \n",
      "        } }\n",
      "        \n"
     ]
    }
   ],
   "source": [
    "graph = MakeGraphInstance(request)\n",
    "print(graph)"
   ]
  },
  {
   "cell_type": "code",
   "execution_count": 5,
   "metadata": {},
   "outputs": [],
   "source": [
    "from src.function.catalog.solr.docInstance import DocInstance"
   ]
  },
  {
   "cell_type": "code",
   "execution_count": 6,
   "metadata": {},
   "outputs": [
    {
     "data": {
      "text/plain": [
       "'{\\n  \"responseHeader\":{\\n    \"status\":0,\\n    \"QTime\":4148\\n  }\\n}'"
      ]
     },
     "execution_count": 6,
     "metadata": {},
     "output_type": "execute_result"
    }
   ],
   "source": [
    "responseSolr = DocInstance(request)\n",
    "responseSolr"
   ]
  },
  {
   "cell_type": "code",
   "execution_count": 7,
   "metadata": {},
   "outputs": [
    {
     "data": {
      "text/plain": [
       "BfInstance(adminMetadata=AdminMetadata(assigner='http://id.loc.gov/vocabulary/organizations/brmninpa', descriptionModifier='http://id.loc.gov/vocabulary/organizations/brmninpa', changeDate=None, creationDate=datetime.date(2023, 12, 10), descriptionLanguage='http://id.loc.gov/vocabulary/languages/por', descriptionConventions='http://id.loc.gov/vocabulary/descriptionConventions/local', generationProcess='BiblioKeia v.1', generationDate='2023-12-10T19:59:51', status=Status(value='n', label='novo')), identifiersLocal='1', type='Print', media=Element(label='NÃ£o mediado', lang=None, uri='http://id.loc.gov/vocabulary/mediaTypes/n', type=None), issuance=Element(label='Monografia', lang=None, uri='http://id.loc.gov/vocabulary/issuance/mono', type=None), carrier=Element(label='Volume', lang=None, uri='http://id.loc.gov/vocabulary/carriers/nc', type=None), title=Title(type='bf:Title', mainTitle='A maÃ§Ã£ no escuro', subtitle='', label=None), publication=Publication(agent='Companhia das letras', date='2023', place='Rio de Janeiro'), copyrightDate=None, dimensions=None, extent=None, instanceOf=Element(label='A maÃ§Ã£ no escuro', lang=None, uri='https://bibliokeia.com/catalog/works/1', type=None), provisionActivityStatement=None, responsibilityStatement=None, seriesStatement=None)"
      ]
     },
     "execution_count": 7,
     "metadata": {},
     "output_type": "execute_result"
    }
   ],
   "source": [
    "request"
   ]
  }
 ],
 "metadata": {
  "kernelspec": {
   "display_name": "Python 3",
   "language": "python",
   "name": "python3"
  },
  "language_info": {
   "codemirror_mode": {
    "name": "ipython",
    "version": 3
   },
   "file_extension": ".py",
   "mimetype": "text/x-python",
   "name": "python",
   "nbconvert_exporter": "python",
   "pygments_lexer": "ipython3",
   "version": "3.12.0"
  }
 },
 "nbformat": 4,
 "nbformat_minor": 2
}
