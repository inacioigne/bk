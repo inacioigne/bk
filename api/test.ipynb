{
 "cells": [
  {
   "cell_type": "code",
   "execution_count": 1,
   "metadata": {},
   "outputs": [],
   "source": [
    "from src.function.catalog.solr.work import DocWork\n",
    "from src.schemas.catalog.bibframe.work import Work\n",
    "import json"
   ]
  },
  {
   "cell_type": "code",
   "execution_count": 21,
   "metadata": {},
   "outputs": [],
   "source": [
    "from src.schemas.settings import Settings\n",
    "from pyfuseki import FusekiUpdate\n",
    "settings = Settings()\n",
    "fuseki = FusekiUpdate(settings.fuseki, 'bk') \n",
    "\n",
    "from pysolr import Solr\n",
    "solr = Solr(f'{settings.solr}/solr/authority/', timeout=10)"
   ]
  },
  {
   "cell_type": "code",
   "execution_count": 2,
   "metadata": {},
   "outputs": [
    {
     "data": {
      "text/plain": [
       "{'identifiersLocal': '13',\n",
       " 'adminMetadata': {'status': {'label': 'novo', 'value': 'n'}},\n",
       " 'isPartOf': 'https://bibliokeia.com/catalog/works',\n",
       " 'contribution': [{'agent': 'https://bibliokeia.com/authority/PersonalName/3',\n",
       "   'label': 'Popper, Karl R.',\n",
       "   'role': 'http://id.loc.gov/vocabulary/relators/aut',\n",
       "   'roleLabel': 'Autor'}],\n",
       " 'subject': [{'label': 'Metodologia',\n",
       "   'lang': 'por',\n",
       "   'uri': 'https://bibliokeia.com/authority/Topic/1',\n",
       "   'type': 'Topic'}],\n",
       " 'type': 'Text',\n",
       " 'title': {'mainTitle': 'Conjecturas e refutaÃ§Ãµes', 'subtitle': ''},\n",
       " 'content': {'label': 'Texto',\n",
       "  'uri': 'http://id.loc.gov/vocabulary/contentTypes/txt'},\n",
       " 'language': [{'label': 'por',\n",
       "   'uri': 'http://id.loc.gov/vocabulary/languages/por'}]}"
      ]
     },
     "execution_count": 2,
     "metadata": {},
     "output_type": "execute_result"
    }
   ],
   "source": [
    "with open('test.json') as file:\n",
    "    reader = file.read()\n",
    "    work = json.loads(reader)\n",
    "    file.close()\n",
    "work"
   ]
  },
  {
   "cell_type": "code",
   "execution_count": 3,
   "metadata": {},
   "outputs": [
    {
     "data": {
      "text/plain": [
       "Work(adminMetadata=AdminMetadata(assigner='http://id.loc.gov/vocabulary/organizations/brmninpa', descriptionModifier='http://id.loc.gov/vocabulary/organizations/brmninpa', changeDate=None, creationDate=datetime.date(2023, 11, 30), descriptionLanguage='http://id.loc.gov/vocabulary/languages/por', descriptionConventions='http://id.loc.gov/vocabulary/descriptionConventions/local', generationProcess='BiblioKeia v.1', generationDate='2023-11-30T15:33:27', status=Status(value='n', label='novo')), identifiersLocal='13', type='Text', content=Element(label='Texto', lang=None, uri='http://id.loc.gov/vocabulary/contentTypes/txt', type=None), language=[Element(label='por', lang=None, uri='http://id.loc.gov/vocabulary/languages/por', type=None)], title=Title(type='bf:Title', mainTitle='Conjecturas e refutaÃ§Ãµes', subtitle='', label=None), classification=None, contribution=[Contribution(agent='https://bibliokeia.com/authority/PersonalName/3', label='Popper, Karl R.', role='http://id.loc.gov/vocabulary/relators/aut', roleLabel='Autor')], subject=[Element(label='Metodologia', lang='por', uri='https://bibliokeia.com/authority/Topic/1', type='Topic')], genreForm=None, note=None, summary=None, tableOfContents=None, supplementaryContent=None, illustrativeContent=None, intendedAudience=None, geographicCoverage=None, isPartOf='https://bibliokeia.com/catalog/works')"
      ]
     },
     "execution_count": 3,
     "metadata": {},
     "output_type": "execute_result"
    }
   ],
   "source": [
    "request = Work(**work)\n",
    "request"
   ]
  },
  {
   "cell_type": "code",
   "execution_count": 5,
   "metadata": {},
   "outputs": [],
   "source": [
    "contribution = request.contribution[0]"
   ]
  },
  {
   "cell_type": "code",
   "execution_count": 6,
   "metadata": {},
   "outputs": [
    {
     "data": {
      "text/plain": [
       "Contribution(agent='https://bibliokeia.com/authority/PersonalName/3', label='Popper, Karl R.', role='http://id.loc.gov/vocabulary/relators/aut', roleLabel='Autor')"
      ]
     },
     "execution_count": 6,
     "metadata": {},
     "output_type": "execute_result"
    }
   ],
   "source": [
    "contribution"
   ]
  },
  {
   "cell_type": "code",
   "execution_count": 9,
   "metadata": {},
   "outputs": [
    {
     "name": "stdout",
     "output_type": "stream",
     "text": [
      "PREFIX bf: <http://id.loc.gov/ontologies/bibframe/>\n",
      "            INSERT DATA {\n",
      "             GRAPH <https://bibliokeia.com/authority/PersonalName/3> {\n",
      "             <https://bibliokeia.com/authority/PersonalName/3> bf:contributionOf <https://bibliokeia.com/catalog/works/13> .             \n",
      "             } } \n"
     ]
    }
   ],
   "source": [
    "uri = f'https://bibliokeia.com/catalog/works/{request.identifiersLocal}'\n",
    "sparql = f\"\"\"PREFIX bf: <http://id.loc.gov/ontologies/bibframe/>\n",
    "            INSERT DATA {{\n",
    "             GRAPH <{contribution.agent}> {{\n",
    "             <{contribution.agent}> bf:contributionOf <{uri}> .             \n",
    "             }} }} \"\"\"\n",
    "print(sparql)"
   ]
  },
  {
   "cell_type": "code",
   "execution_count": 11,
   "metadata": {},
   "outputs": [
    {
     "data": {
      "text/plain": [
       "<SPARQLWrapper.Wrapper.QueryResult at 0x1ce228d5c70>"
      ]
     },
     "execution_count": 11,
     "metadata": {},
     "output_type": "execute_result"
    }
   ],
   "source": [
    "response = fuseki.run_sparql(sparql) \n",
    "response"
   ]
  },
  {
   "cell_type": "code",
   "execution_count": 13,
   "metadata": {},
   "outputs": [
    {
     "data": {
      "text/plain": [
       "'https://bibliokeia.com/authority/PersonalName/3'"
      ]
     },
     "execution_count": 13,
     "metadata": {},
     "output_type": "execute_result"
    }
   ],
   "source": [
    "contribution.agent"
   ]
  },
  {
   "cell_type": "code",
   "execution_count": 20,
   "metadata": {},
   "outputs": [
    {
     "data": {
      "text/plain": [
       "{'id': '3', 'contributionOf': {'add': {'id': 'testeID', 'label': 'TESTE'}}}"
      ]
     },
     "execution_count": 20,
     "metadata": {},
     "output_type": "execute_result"
    }
   ],
   "source": [
    "doc = {\n",
    "    \"id\": contribution.agent.split(\"/\")[-1],\n",
    "    \"contributionOf\": {\n",
    "        \"add\": {\n",
    "            \"id\": 'testeID',\n",
    "            \"label\": \"TESTE\"}\n",
    "            }\n",
    "}\n",
    "doc"
   ]
  },
  {
   "cell_type": "code",
   "execution_count": 22,
   "metadata": {},
   "outputs": [
    {
     "data": {
      "text/plain": [
       "'{\\n  \"responseHeader\":{\\n    \"status\":0,\\n    \"QTime\":282\\n  }\\n}'"
      ]
     },
     "execution_count": 22,
     "metadata": {},
     "output_type": "execute_result"
    }
   ],
   "source": [
    "responseSolr =  solr.add([doc], commit=True)\n",
    "responseSolr"
   ]
  },
  {
   "cell_type": "code",
   "execution_count": 24,
   "metadata": {},
   "outputs": [
    {
     "data": {
      "text/plain": [
       "{'adminMetadata': {'assigner': 'http://id.loc.gov/vocabulary/organizations/brmninpa',\n",
       "  'descriptionModifier': 'http://id.loc.gov/vocabulary/organizations/brmninpa',\n",
       "  'changeDate': None,\n",
       "  'creationDate': datetime.date(2023, 11, 30),\n",
       "  'descriptionLanguage': 'http://id.loc.gov/vocabulary/languages/por',\n",
       "  'descriptionConventions': 'http://id.loc.gov/vocabulary/descriptionConventions/local',\n",
       "  'generationProcess': 'BiblioKeia v.1',\n",
       "  'generationDate': '2023-11-30T15:33:27',\n",
       "  'status': {'value': 'n', 'label': 'novo'}},\n",
       " 'identifiersLocal': '13',\n",
       " 'type': 'Text',\n",
       " 'content': {'label': 'Texto',\n",
       "  'lang': None,\n",
       "  'uri': 'http://id.loc.gov/vocabulary/contentTypes/txt',\n",
       "  'type': None},\n",
       " 'language': [{'label': 'por',\n",
       "   'lang': None,\n",
       "   'uri': 'http://id.loc.gov/vocabulary/languages/por',\n",
       "   'type': None}],\n",
       " 'title': {'type': 'bf:Title',\n",
       "  'mainTitle': 'Conjecturas e refutaÃ§Ãµes',\n",
       "  'subtitle': '',\n",
       "  'label': None},\n",
       " 'classification': None,\n",
       " 'contribution': [{'agent': 'https://bibliokeia.com/authority/PersonalName/3',\n",
       "   'label': 'Popper, Karl R.',\n",
       "   'role': 'http://id.loc.gov/vocabulary/relators/aut',\n",
       "   'roleLabel': 'Autor'}],\n",
       " 'subject': [{'label': 'Metodologia',\n",
       "   'lang': 'por',\n",
       "   'uri': 'https://bibliokeia.com/authority/Topic/1',\n",
       "   'type': 'Topic'}],\n",
       " 'genreForm': None,\n",
       " 'note': None,\n",
       " 'summary': None,\n",
       " 'tableOfContents': None,\n",
       " 'supplementaryContent': None,\n",
       " 'illustrativeContent': None,\n",
       " 'intendedAudience': None,\n",
       " 'geographicCoverage': None,\n",
       " 'isPartOf': 'https://bibliokeia.com/catalog/works'}"
      ]
     },
     "execution_count": 24,
     "metadata": {},
     "output_type": "execute_result"
    }
   ],
   "source": [
    "request.model_dump()"
   ]
  },
  {
   "cell_type": "code",
   "execution_count": 28,
   "metadata": {},
   "outputs": [
    {
     "data": {
      "text/plain": [
       "Element(label='Metodologia', lang='por', uri='https://bibliokeia.com/authority/Topic/1', type='Topic')"
      ]
     },
     "execution_count": 28,
     "metadata": {},
     "output_type": "execute_result"
    }
   ],
   "source": [
    "subject = request.subject[0]\n",
    "subject"
   ]
  },
  {
   "cell_type": "code",
   "execution_count": 29,
   "metadata": {},
   "outputs": [
    {
     "data": {
      "text/plain": [
       "'https://bibliokeia.com/authority/Topic/1'"
      ]
     },
     "execution_count": 29,
     "metadata": {},
     "output_type": "execute_result"
    }
   ],
   "source": [
    "subject.uri"
   ]
  }
 ],
 "metadata": {
  "kernelspec": {
   "display_name": "Python 3",
   "language": "python",
   "name": "python3"
  },
  "language_info": {
   "codemirror_mode": {
    "name": "ipython",
    "version": 3
   },
   "file_extension": ".py",
   "mimetype": "text/x-python",
   "name": "python",
   "nbconvert_exporter": "python",
   "pygments_lexer": "ipython3",
   "version": "3.12.0"
  }
 },
 "nbformat": 4,
 "nbformat_minor": 2
}
