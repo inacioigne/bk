{
 "cells": [
  {
   "cell_type": "code",
   "execution_count": 1,
   "metadata": {},
   "outputs": [],
   "source": [
    "from pydantic import BaseModel\n",
    "from typing import Optional\n",
    "from rdflib import URIRef, BNode, Literal, Namespace, Graph\n",
    "from rdflib.namespace import RDF, RDFS, DCTERMS\n",
    "from pyfuseki import FusekiUpdate\n",
    "from rdflib.namespace import XSD\n",
    "from datetime import datetime\n",
    "from src.schemas.settings import Settings\n",
    "from pysolr import Solr\n",
    "from src.function.catalog.markeCreateSparql import MakeCreateSparql\n",
    "from src.schemas.catalog.instance import BfInstance\n",
    "from src.schemas.catalog.work import BfWork, BfWorkEdit"
   ]
  },
  {
   "cell_type": "code",
   "execution_count": 2,
   "metadata": {},
   "outputs": [],
   "source": [
    "settings = Settings()\n",
    "solr = Solr(f'{settings.solr}/solr/catalog/', timeout=10)\n",
    "fuseki = FusekiUpdate(settings.fuseki, 'bk') \n"
   ]
  },
  {
   "cell_type": "code",
   "execution_count": 3,
   "metadata": {},
   "outputs": [],
   "source": [
    "req = {\n",
    "    \"instanceOf\": {\n",
    "        \"value\": \"https://bibliokeia.com/works/113\"\n",
    "    },\n",
    "    \"adminMetadata\": {\n",
    "        \"status\": {\n",
    "            \"value\": \"http://id.loc.gov/vocabulary/mstatus/c\",\n",
    "            \"label\": \"Editado\"\n",
    "        },\n",
    "        \"descriptionConventions\": {\n",
    "            \"value\": \"http://id.loc.gov/vocabulary/descriptionConventions/aacr\",\n",
    "            \"label\": \"AACr\"\n",
    "        },\n",
    "        \"creationDate\": \"2024-04-10T16:19:54Z\"\n",
    "    },\n",
    "    \"resourceType\": [\n",
    "        {\n",
    "            \"value\": \"Instance\",\n",
    "            \"label\": \"Instância\"\n",
    "        },\n",
    "        {\n",
    "            \"value\": \"Print\",\n",
    "            \"label\": \"Impresso\"\n",
    "        }\n",
    "    ],\n",
    "    \"title\": {\n",
    "        \"mainTitle\": \"O mestre de Petersburgo\"\n",
    "    },\n",
    "    \"physicalDetails\": {\n",
    "        \"carrier\": {\n",
    "            \"value\": \"http://id.loc.gov/vocabulary/carriers/nc\",\n",
    "            \"label\": \"Volume\"\n",
    "        },\n",
    "        \"extent\": \"152 p.\",\n",
    "        \"issuance\": {\n",
    "            \"value\": \"http://id.loc.gov/vocabulary/issuance/mono\",\n",
    "            \"label\": \"Unidade única\"\n",
    "        },\n",
    "        \"media\": {\n",
    "            \"value\": \"http://id.loc.gov/vocabulary/mediaTypes/n\",\n",
    "            \"label\": \"Não mediado\"\n",
    "        }\n",
    "    },\n",
    "    \"provisionActivity\": [\n",
    "        {\n",
    "            \"place\": \"São Paulo\",\n",
    "            \"agent\": \"Companhia das Letras\",\n",
    "            \"date\": \"2019\"\n",
    "        }\n",
    "    ],\n",
    "    \"image\": {\n",
    "        \"cover\": \"https://m.media-amazon.com/images/I/51zh30TdqAL._SY445_SX342_.jpg\"\n",
    "    }\n",
    "}"
   ]
  },
  {
   "cell_type": "code",
   "execution_count": 4,
   "metadata": {},
   "outputs": [],
   "source": [
    "request = BfInstance(**req)\n",
    "now = datetime.now()\n",
    "request.adminMetadata.changeDate = now\n",
    "request.adminMetadata.identifiedBy =  '58'  "
   ]
  },
  {
   "cell_type": "code",
   "execution_count": 5,
   "metadata": {},
   "outputs": [
    {
     "name": "stdout",
     "output_type": "stream",
     "text": [
      "https://bibliokeia.com/instances/58\n"
     ]
    }
   ],
   "source": [
    "from src.function.catalog.instance.graphInstance import MakeGraphInstance\n",
    "\n",
    "\n",
    "def EditInstance(request):\n",
    "    # Delete graph \n",
    "    instance_id = request.adminMetadata.identifiedBy\n",
    "    uri = f\"{settings.base_url}/instances/{instance_id}\"\n",
    "    print(uri)\n",
    "    sparqlDropItem = f\"DROP GRAPH <{uri}>\"\n",
    "    resDropWork = fuseki.run_sparql(sparqlDropItem)\n",
    "    graph = MakeGraphInstance(request)\n",
    "    sparql = MakeCreateSparql(graph, instance_id, \"instances\")\n",
    "    response = fuseki.run_sparql(sparql) \n",
    "\n",
    "EditInstance(request)"
   ]
  },
  {
   "cell_type": "code",
   "execution_count": 20,
   "metadata": {},
   "outputs": [],
   "source": [
    "request.responsibilityStatement"
   ]
  },
  {
   "cell_type": "code",
   "execution_count": 14,
   "metadata": {},
   "outputs": [
    {
     "name": "stdout",
     "output_type": "stream",
     "text": [
      "DATE: 2024-04-10T16:19:54\n"
     ]
    },
    {
     "data": {
      "text/plain": [
       "{'id': 'work#113',\n",
       " 'hasInstance': {'add': {'id': 'instance#10',\n",
       "   'creationDate': '2024-04-10T16:19:54Z',\n",
       "   'type': ['Instance', 'Print'],\n",
       "   'mainTitle': 'O mestre de Petersburgo',\n",
       "   'subtitle': None,\n",
       "   'carrier': 'Volume',\n",
       "   'extent': '152 p.',\n",
       "   'issuance': 'Unidade única',\n",
       "   'media': 'Não mediado',\n",
       "   'publicationAgent': 'Companhia das Letras',\n",
       "   'publicationDate': 2019,\n",
       "   'publicationPlace': 'São Paulo',\n",
       "   'image': 'https://m.media-amazon.com/images/I/51zh30TdqAL._SY445_SX342_.jpg',\n",
       "   'instanceOf': {'id': 'instance#10/instanceOf/work#113',\n",
       "    'uri': 'https://bibliokeia.com/works/113',\n",
       "    'label': None}}}}"
      ]
     },
     "execution_count": 14,
     "metadata": {},
     "output_type": "execute_result"
    }
   ],
   "source": [
    "def DocInstance(request):\n",
    "\n",
    "    work_id = f'work#{request.instanceOf.value.split(\"/\")[-1]}'\n",
    "    instance_id = f'instance#{request.adminMetadata.identifiedBy}'\n",
    "    provisionActivity = request.provisionActivity[0]\n",
    "    instanceOf = {\n",
    "    'id': f'{instance_id}/instanceOf/{work_id}', \n",
    "    'uri': request.instanceOf.value, \n",
    "    'label': request.instanceOf.label\n",
    "    } \n",
    "    print(\"DATE:\", request.adminMetadata.creationDate.strftime(\"%Y-%m-%dT%H:%M:%S\"))\n",
    "\n",
    "    doc = {\n",
    "        \"id\": instance_id,\n",
    "        \"creationDate\": request.adminMetadata.creationDate.strftime(\"%Y-%m-%dT%H:%M:%SZ\"), \n",
    "        # request.adminMetadata.creationDate.strftime(\"%Y-%m-%dT%H:%M:%S\"),\n",
    "        \"type\": [i.value for i in request.resourceType],\n",
    "        \"mainTitle\": request.title.mainTitle,\n",
    "        \"subtitle\": request.title.subtitle if request.title.subtitle != \"\" else None,\n",
    "        \"carrier\": request.physicalDetails.carrier.label,\n",
    "        \"extent\": request.physicalDetails.extent,\n",
    "        \"issuance\": request.physicalDetails.issuance.label,\n",
    "        \"media\": request.physicalDetails.media.label,\n",
    "        \"publicationAgent\": provisionActivity.agent,\n",
    "        \"publicationDate\": provisionActivity.date,\n",
    "        \"publicationPlace\": provisionActivity.place,      \n",
    "        # \"serie\": request.seriesStatement,\n",
    "        \"image\": request.image.cover,\n",
    "        \"instanceOf\": instanceOf\n",
    "        }\n",
    "\n",
    "    work = {\n",
    "        \"id\": work_id,\n",
    "        \"hasInstance\": {\"add\": doc }\n",
    "    }\n",
    "    # response = solr.add([work], commit=True)\n",
    "    return work\n",
    "\n",
    "\n",
    "work = DocInstance(request)\n",
    "work"
   ]
  },
  {
   "cell_type": "code",
   "execution_count": 15,
   "metadata": {},
   "outputs": [],
   "source": [
    "settings = Settings()\n",
    "solr = Solr(f'{settings.solr}/solr/catalog/', timeout=10)"
   ]
  },
  {
   "cell_type": "code",
   "execution_count": 16,
   "metadata": {},
   "outputs": [
    {
     "data": {
      "text/plain": [
       "{'id': 'work#113',\n",
       " 'hasInstance': {'add': {'id': 'instance#10',\n",
       "   'creationDate': '2024-04-10T16:19:54Z',\n",
       "   'type': ['Instance', 'Print'],\n",
       "   'mainTitle': 'O mestre de Petersburgo',\n",
       "   'subtitle': None,\n",
       "   'carrier': 'Volume',\n",
       "   'extent': '152 p.',\n",
       "   'issuance': 'Unidade única',\n",
       "   'media': 'Não mediado',\n",
       "   'publicationAgent': 'Companhia das Letras',\n",
       "   'publicationDate': 2019,\n",
       "   'publicationPlace': 'São Paulo',\n",
       "   'image': 'https://m.media-amazon.com/images/I/51zh30TdqAL._SY445_SX342_.jpg',\n",
       "   'instanceOf': {'id': 'instance#10/instanceOf/work#113',\n",
       "    'uri': 'https://bibliokeia.com/works/113',\n",
       "    'label': None}}}}"
      ]
     },
     "execution_count": 16,
     "metadata": {},
     "output_type": "execute_result"
    }
   ],
   "source": [
    "work"
   ]
  },
  {
   "cell_type": "code",
   "execution_count": 17,
   "metadata": {},
   "outputs": [
    {
     "data": {
      "text/plain": [
       "'{\\n  \"responseHeader\":{\\n    \"status\":0,\\n    \"QTime\":207\\n  }\\n}'"
      ]
     },
     "execution_count": 17,
     "metadata": {},
     "output_type": "execute_result"
    }
   ],
   "source": [
    "response = solr.add([work], commit=True)\n",
    "response"
   ]
  },
  {
   "cell_type": "code",
   "execution_count": 3,
   "metadata": {},
   "outputs": [
    {
     "data": {
      "text/plain": [
       "BfWork(resourceType=[BfElement(value='Work', metadata=None, label='Obra'), BfElement(value='Text', metadata=None, label='Texto')], adminMetadata=AdminMetadata(creationDate=None, changeDate=None, status=BfElement(value='http://id.loc.gov/vocabulary/mstatus/n', metadata=None, label='Novo'), descriptionConventions=BfElement(value='http://id.loc.gov/vocabulary/descriptionConventions/aacr', metadata=None, label='AACr'), identifiedBy=None), title=Title(mainTitle='Os que andam com os mortos', subtitle='Fábulas cruéis e outras estórias más'), variantTitle=None, language=[BfElement(value='por', metadata=None, label='Português')], genreForm=None, contribution=None, subject=None, classification=Classification(cdd='548.5', cutter='P552a'), note=None, summary=BfElement(value='Os que andam com os mortos, de Zemaria Pinto, é um desafio aos limites do conto enquanto gênero literário, na medida em que invade os territórios de outros géneros, estabelecendo uma conexão entre o contemporâneo e a tradição, e valendo-se de recursos como a intertextualidade e a metalinguagem, aliados a uma serena maturidade e uma criatividade no seu momento mais alto. Depois de explorar a poesia, a dramaturgia, a ficção infantojuvenil e o ensaio literário, o autor de mais de duas dezenas de títulos volta-se para o conto, conciliando um humor caustico e uma reflexão profunda. buscando o \"desconforto\" do leitor-cúmplice em temas como assassinatos e suicídios, a loucura em graus diversos, delírios, pesadelos, metamorfoses; o banal cotidiano pintado em cores fortes e imagens distorcidas, expressionistas.', metadata=None, label=None), tableOfContents=None)"
      ]
     },
     "execution_count": 3,
     "metadata": {},
     "output_type": "execute_result"
    }
   ],
   "source": [
    "request = BfWork(**req)\n",
    "request"
   ]
  },
  {
   "cell_type": "code",
   "execution_count": 15,
   "metadata": {},
   "outputs": [],
   "source": [
    "def DocWork(request):\n",
    "\n",
    "    work_id = f'work#{request.adminMetadata.identifiedBy}'\n",
    "    print(\"DATE:\", request.adminMetadata.creationDate.strftime(\"%Y-%m-%dT%H:%M:%S\"))\n",
    "\n",
    "    doc = {\n",
    "        \"id\": work_id,\n",
    "        \"creationDate\": request.adminMetadata.creationDate.strftime(\"%Y-%m-%dT%H:%M:%S\"),\n",
    "        \"changeDate\": request.adminMetadata.changeDate.strftime(\"%Y-%m-%dT%H:%M:%S\") if request.adminMetadata.changeDate else None,\n",
    "        \"type\": [i.value for i in request.resourceType],\n",
    "        # \"content\": request.content.label,\n",
    "        \"mainTitle\": request.title.mainTitle,\n",
    "        'language': [i.label for i in request.language],\n",
    "        \"subtitle\": request.title.subtitle,\n",
    "        \"cdd\": request.classification.cdd,\n",
    "        \"cutter\": request.classification.cutter,\n",
    "        \"note\": request.note,\n",
    "        \"summary\": request.summary.value if request.summary else None,\n",
    "        \"tableOfContents\": request.tableOfContents,\n",
    "        # \"supplementaryContent\": [i.label for i in request.supplementaryContent] if request.supplementaryContent else None,\n",
    "        # \"illustrativeContent\": [i.label for i in request.illustrativeContent] if request.illustrativeContent else None,\n",
    "        # \"intendedAudience\": [i.label for i in request.intendedAudience] if request.intendedAudience else None,\n",
    "        # \"geographicCoverage\": [i.label for i in request.geographicCoverage] if request.geographicCoverage else None,\n",
    "        \"isPartOf\": \"Work\"\n",
    "\n",
    "    }\n",
    "    # contribution\n",
    "    if request.contribution:\n",
    "        contributions = list()\n",
    "        for i in request.contribution:\n",
    "            c = {\"id\": f\"{work_id}/contribution/authority#{i.term.value.split('/')[-1]}\",\n",
    "                 \"uri\": i.term.value,\n",
    "                 \"label\": i.term.label,\n",
    "                 \"role\": i.role.value,\n",
    "                 \"roleLabel\": i.role.label}\n",
    "            contributions.append(c)\n",
    "        doc['contribution'] = contributions\n",
    "\n",
    "    # subject\n",
    "    if request.subject:\n",
    "        subjects = list()\n",
    "        for i in request.subject:\n",
    "            s = {\"id\": f\"{work_id}/subject/authority#{i.term.value.split('/')[-1]}\",\n",
    "                 \"type\": i.type,\n",
    "                 \"uri\": i.term.value,\n",
    "                 \"label\": i.term.label,\n",
    "                 \"lang\": i.lang\n",
    "                 }\n",
    "            subjects.append(s)\n",
    "        doc['subject'] = subjects\n",
    "\n",
    "    if request.genreForm:\n",
    "        pass\n",
    "\n",
    "    # responseSolr = solr.add([doc], commit=True)\n",
    "\n",
    "    return doc\n"
   ]
  },
  {
   "cell_type": "code",
   "execution_count": 13,
   "metadata": {},
   "outputs": [
    {
     "data": {
      "text/plain": [
       "BfWork(resourceType=[BfElement(value='Work', metadata=None, label='Obra'), BfElement(value='Text', metadata=None, label='Texto')], adminMetadata=AdminMetadata(creationDate=None, changeDate=None, status=BfElement(value='http://id.loc.gov/vocabulary/mstatus/n', metadata=None, label='Novo'), descriptionConventions=BfElement(value='http://id.loc.gov/vocabulary/descriptionConventions/aacr', metadata=None, label='AACr'), identifiedBy=None), title=Title(mainTitle='Os que andam com os mortos', subtitle=None), variantTitle=None, language=[BfElement(value='por', metadata=None, label='Português')], genreForm=None, contribution=[Contribution(term=BfElement(value='https://bibliokeia.com/authority/PersonalName/50', metadata=None, label='Coetzee, J. M.'), role=BfElement(value='http://id.loc.gov/vocabulary/relators/aut', metadata=None, label='Autor'))], subject=[Subject(type='Topic', lang='por', term=BfElement(value='https://bibliokeia.com/authority/Topic/51', metadata=None, label='Literatura'))], classification=Classification(cdd='548.5', cutter='O48'), note=None, summary=None, tableOfContents=None)"
      ]
     },
     "execution_count": 13,
     "metadata": {},
     "output_type": "execute_result"
    }
   ],
   "source": [
    "work = {\n",
    "    \"adminMetadata\": {\n",
    "        \"status\": {\n",
    "            \"value\": \"http://id.loc.gov/vocabulary/mstatus/n\",\n",
    "            \"label\": \"Novo\"\n",
    "        },\n",
    "        \"descriptionConventions\": {\n",
    "            \"value\": \"http://id.loc.gov/vocabulary/descriptionConventions/aacr\",\n",
    "            \"label\": \"AACr\"\n",
    "        }\n",
    "    },\n",
    "    \"resourceType\": [\n",
    "        {\n",
    "            \"value\": \"Work\",\n",
    "            \"label\": \"Obra\"\n",
    "        },\n",
    "        {\n",
    "            \"value\": \"Text\",\n",
    "            \"label\": \"Texto\"\n",
    "        }\n",
    "    ],\n",
    "    \"language\": [\n",
    "        {\n",
    "            \"value\": \"por\",\n",
    "            \"label\": \"Português\"\n",
    "        }\n",
    "    ],\n",
    "    \"classification\": {\n",
    "        \"cdd\": \"548.5\",\n",
    "        \"cutter\": \"O48\"\n",
    "    },\n",
    "    \"title\": {\n",
    "        \"mainTitle\": \"Os que andam com os mortos\"\n",
    "    },\n",
    "    \"contribution\": [\n",
    "        {\n",
    "            \"term\": {\n",
    "                \"value\": \"https://bibliokeia.com/authority/PersonalName/50\",\n",
    "                \"label\": \"Coetzee, J. M.\"\n",
    "            },\n",
    "            \"role\": {\n",
    "                \"value\": \"http://id.loc.gov/vocabulary/relators/aut\",\n",
    "                \"label\": \"Autor\"\n",
    "            }\n",
    "        }\n",
    "    ],\n",
    "    \"subject\": [\n",
    "        {\n",
    "            \"term\": {\n",
    "                \"value\": \"https://bibliokeia.com/authority/Topic/51\",\n",
    "                \"label\": \"Literatura\"\n",
    "            },\n",
    "            \"lang\": \"por\",\n",
    "            \"type\": \"Topic\"\n",
    "        }\n",
    "    ]\n",
    "}\n",
    "\n",
    "request = BfWork(**work)\n",
    "request"
   ]
  },
  {
   "cell_type": "code",
   "execution_count": 14,
   "metadata": {},
   "outputs": [],
   "source": [
    "now = datetime.now()\n",
    "request.adminMetadata.creationDate = now\n",
    "request.adminMetadata.identifiedBy = '13'"
   ]
  },
  {
   "cell_type": "code",
   "execution_count": 16,
   "metadata": {},
   "outputs": [
    {
     "name": "stdout",
     "output_type": "stream",
     "text": [
      "DATE: 2024-04-08T16:30:50\n"
     ]
    }
   ],
   "source": [
    "doc = DocWork(request)"
   ]
  },
  {
   "cell_type": "code",
   "execution_count": 18,
   "metadata": {},
   "outputs": [
    {
     "data": {
      "text/plain": [
       "'{\\n  \"responseHeader\":{\\n    \"status\":0,\\n    \"QTime\":90\\n  }\\n}'"
      ]
     },
     "execution_count": 18,
     "metadata": {},
     "output_type": "execute_result"
    }
   ],
   "source": [
    "response = solr.add([doc], commit=True)\n",
    "response"
   ]
  }
 ],
 "metadata": {
  "kernelspec": {
   "display_name": "venv",
   "language": "python",
   "name": "python3"
  },
  "language_info": {
   "codemirror_mode": {
    "name": "ipython",
    "version": 3
   },
   "file_extension": ".py",
   "mimetype": "text/x-python",
   "name": "python",
   "nbconvert_exporter": "python",
   "pygments_lexer": "ipython3",
   "version": "3.12.0"
  }
 },
 "nbformat": 4,
 "nbformat_minor": 2
}
