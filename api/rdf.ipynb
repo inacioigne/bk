{
 "cells": [
  {
   "cell_type": "code",
   "execution_count": 6,
   "metadata": {},
   "outputs": [],
   "source": [
    "from src.schemas.thesaurus.mads import SchemaMads\n",
    "\n",
    "from src.schemas.settings import Settings\n",
    "from rdflib import URIRef, Namespace, Graph, Literal, BNode\n",
    "from rdflib.namespace import RDF, RDFS\n",
    "settings = Settings()"
   ]
  },
  {
   "cell_type": "code",
   "execution_count": 2,
   "metadata": {},
   "outputs": [],
   "source": [
    "from src.schemas.thesaurus.mads import SchemaMads \n",
    "from datetime import datetime"
   ]
  },
  {
   "cell_type": "code",
   "execution_count": 1,
   "metadata": {},
   "outputs": [],
   "source": [
    "req = {\n",
    "    \"adminMetadata\": {\n",
    "        \"status\": {\n",
    "            \"value\": \"http://id.loc.gov/vocabulary/mstatus/n\",\n",
    "            \"label\": \"Novo\"\n",
    "        },\n",
    "        \"descriptionConventions\": {\n",
    "            \"value\": \"http://id.loc.gov/vocabulary/descriptionConventions/aacr\",\n",
    "            \"label\": \"AACr\"\n",
    "        }\n",
    "    },\n",
    "    \"resource\": [\n",
    "        {\n",
    "            \"type\": {\n",
    "                \"value\": \"http://www.loc.gov/mads/rdf/v1#Authority\",\n",
    "                \"label\": \"Authority\"\n",
    "            }\n",
    "        },\n",
    "        {\n",
    "            \"type\": {\n",
    "                \"value\": \"http://www.loc.gov/mads/rdf/v1#Topic\",\n",
    "                \"label\": \"Topic\"\n",
    "            }\n",
    "        }\n",
    "    ],\n",
    "    \"isMemberOfMADSCollection\": [\n",
    "        {\n",
    "            \"collection\": {\n",
    "                \"value\": \"subjects\",\n",
    "                \"label\": \"Assuntos\"\n",
    "            }\n",
    "        }\n",
    "    ],\n",
    "    \"elementList\": [\n",
    "        {\n",
    "            \"elementType\": {\n",
    "                \"value\": \"http://www.loc.gov/mads/rdf/v1#TopicElement\",\n",
    "                \"label\": \"TopicElement\"\n",
    "            },\n",
    "            \"elementValue\": \"Entomologia\",\n",
    "            \"elementLang\": {\n",
    "                \"value\": \"por\",\n",
    "                \"label\": \"Inglês\"\n",
    "            }\n",
    "        }\n",
    "    ],\n",
    "    \"authoritativeLabel\": {\n",
    "        \"value\": \"Entomologia\"\n",
    "    },\n",
    "    \"hasReciprocalAuthority\": [\n",
    "        {\n",
    "            \"authority\": {\n",
    "                \"base\": \"bk\",\n",
    "                \"value\": \"https://bibliokeia.com/authorities/118\",\n",
    "                \"label\": \"Insetos\"\n",
    "            }\n",
    "        }\n",
    "    ],\n",
    "    \"hasBroaderAuthority\": [\n",
    "        {\n",
    "            \"authority\": {\n",
    "                \"base\": \"loc\",\n",
    "                \"value\": \"http://id.loc.gov/authorities/subjects/sh85149983\",\n",
    "                \"label\": \"Zoology\"\n",
    "            }\n",
    "        }\n",
    "    ],\n",
    "    \"hasNarrowerAuthority\": [\n",
    "        {\n",
    "            \"authority\": {\n",
    "                \"base\": \"loc\",\n",
    "                \"value\": \"http://id.loc.gov/authorities/subjects/sh2012002108\",\n",
    "                \"label\": \"Lepidopterology\"\n",
    "            }\n",
    "        },\n",
    "        {\n",
    "            \"authority\": {\n",
    "                \"base\": \"loc\",\n",
    "                \"value\": \"http://id.loc.gov/authorities/subjects/sh85110630\",\n",
    "                \"label\": \"Radioactive tracers in entomology\"\n",
    "            }\n",
    "        },\n",
    "        {\n",
    "            \"authority\": {\n",
    "                \"base\": \"loc\",\n",
    "                \"value\": \"http://id.loc.gov/authorities/subjects/sh2012002226\",\n",
    "                \"label\": \"Odonatology\"\n",
    "            }\n",
    "        },\n",
    "        {\n",
    "            \"authority\": {\n",
    "                \"base\": \"loc\",\n",
    "                \"value\": \"http://id.loc.gov/authorities/subjects/sh95005625\",\n",
    "                \"label\": \"Paleoentomology\"\n",
    "            }\n",
    "        },\n",
    "        {\n",
    "            \"authority\": {\n",
    "                \"base\": \"loc\",\n",
    "                \"value\": \"http://id.loc.gov/authorities/subjects/sh86003985\",\n",
    "                \"label\": \"Forensic entomology\"\n",
    "            }\n",
    "        },\n",
    "        {\n",
    "            \"authority\": {\n",
    "                \"base\": \"loc\",\n",
    "                \"value\": \"http://id.loc.gov/authorities/subjects/sh93000054\",\n",
    "                \"label\": \"Urban entomology\"\n",
    "            }\n",
    "        },\n",
    "        {\n",
    "            \"authority\": {\n",
    "                \"base\": \"loc\",\n",
    "                \"value\": \"http://id.loc.gov/authorities/subjects/sh2012001930\",\n",
    "                \"label\": \"Dipterology\"\n",
    "            }\n",
    "        },\n",
    "        {\n",
    "            \"authority\": {\n",
    "                \"base\": \"loc\",\n",
    "                \"value\": \"http://id.loc.gov/authorities/subjects/sh96005018\",\n",
    "                \"label\": \"Ethnoentomology\"\n",
    "            }\n",
    "        },\n",
    "        {\n",
    "            \"authority\": {\n",
    "                \"base\": \"loc\",\n",
    "                \"value\": \"http://id.loc.gov/authorities/subjects/sh2012001929\",\n",
    "                \"label\": \"Myrmecology\"\n",
    "            }\n",
    "        },\n",
    "        {\n",
    "            \"authority\": {\n",
    "                \"base\": \"loc\",\n",
    "                \"value\": \"http://id.loc.gov/authorities/subjects/sh2012002193\",\n",
    "                \"label\": \"Coleopterology\"\n",
    "            }\n",
    "        }\n",
    "    ],\n",
    "    \"hasCloseExternalAuthority\": [\n",
    "        {\n",
    "            \"base\": \"id.worldcat.org\",\n",
    "            \"label\": \"Entomology\",\n",
    "            \"uri\": \"http://id.worldcat.org/fast/912735\"\n",
    "        },\n",
    "        {\n",
    "            \"base\": \"www.yso.fi\",\n",
    "            \"label\": \"hyönteistiede\",\n",
    "            \"uri\": \"http://www.yso.fi/onto/yso/p16960\"\n",
    "        },\n",
    "        {\n",
    "            \"base\": \"datos.bne.es\",\n",
    "            \"label\": \"Entomología\",\n",
    "            \"uri\": \"http://datos.bne.es/resource/XX527256\"\n",
    "        },\n",
    "        {\n",
    "            \"base\": \"d-nb.info\",\n",
    "            \"label\": \"Angewandte Entomologie\",\n",
    "            \"uri\": \"https://d-nb.info/gnd/4492833-6\"\n",
    "        },\n",
    "        {\n",
    "            \"base\": \"data.bnf.fr\",\n",
    "            \"label\": \"Entomologie\",\n",
    "            \"uri\": \"http://data.bnf.fr/ark:/12148/cb11958162n\"\n",
    "        },\n",
    "        {\n",
    "            \"base\": \"purl.org\",\n",
    "            \"label\": \"Entomologia\",\n",
    "            \"uri\": \"http://purl.org/bncf/tid/16915\"\n",
    "        },\n",
    "        {\n",
    "            \"base\": \"www.wikidata.org\",\n",
    "            \"label\": \"entomology\",\n",
    "            \"uri\": \"http://www.wikidata.org/entity/Q39286\"\n",
    "        },\n",
    "        {\n",
    "            \"base\": \"d-nb.info\",\n",
    "            \"label\": \"Entomologie\",\n",
    "            \"uri\": \"https://d-nb.info/gnd/4152382-9\"\n",
    "        }\n",
    "    ],\n",
    "    \"identifiersLccn\": \"sh85044125\"\n",
    "}"
   ]
  },
  {
   "cell_type": "code",
   "execution_count": 3,
   "metadata": {},
   "outputs": [],
   "source": [
    "request = SchemaMads(**req)\n",
    "now = datetime.now()\n",
    "request.adminMetadata.creationDate = now\n",
    "request.adminMetadata.identifiedBy = 'TESTE'"
   ]
  },
  {
   "cell_type": "code",
   "execution_count": 10,
   "metadata": {},
   "outputs": [
    {
     "ename": "NameError",
     "evalue": "name 'Settings' is not defined",
     "output_type": "error",
     "traceback": [
      "\u001b[1;31m---------------------------------------------------------------------------\u001b[0m",
      "\u001b[1;31mNameError\u001b[0m                                 Traceback (most recent call last)",
      "Cell \u001b[1;32mIn[10], line 3\u001b[0m\n\u001b[0;32m      1\u001b[0m \u001b[38;5;28;01mfrom\u001b[39;00m \u001b[38;5;21;01msrc\u001b[39;00m\u001b[38;5;21;01m.\u001b[39;00m\u001b[38;5;21;01mfunction\u001b[39;00m\u001b[38;5;21;01m.\u001b[39;00m\u001b[38;5;21;01mthesaurus\u001b[39;00m\u001b[38;5;21;01m.\u001b[39;00m\u001b[38;5;21;01msolr\u001b[39;00m\u001b[38;5;21;01m.\u001b[39;00m\u001b[38;5;21;01mupdateSolr\u001b[39;00m \u001b[38;5;28;01mimport\u001b[39;00m UpdateSolr\n\u001b[0;32m      2\u001b[0m \u001b[38;5;28;01mfrom\u001b[39;00m \u001b[38;5;21;01mpysolr\u001b[39;00m \u001b[38;5;28;01mimport\u001b[39;00m Solr\n\u001b[1;32m----> 3\u001b[0m settings \u001b[38;5;241m=\u001b[39m \u001b[43mSettings\u001b[49m()\n\u001b[0;32m      4\u001b[0m solr \u001b[38;5;241m=\u001b[39m Solr(\u001b[38;5;124mf\u001b[39m\u001b[38;5;124m'\u001b[39m\u001b[38;5;132;01m{\u001b[39;00msettings\u001b[38;5;241m.\u001b[39msolr\u001b[38;5;132;01m}\u001b[39;00m\u001b[38;5;124m/solr/authority/\u001b[39m\u001b[38;5;124m'\u001b[39m, timeout\u001b[38;5;241m=\u001b[39m\u001b[38;5;241m10\u001b[39m)\n\u001b[0;32m      7\u001b[0m UpdateSolr(request)\n",
      "\u001b[1;31mNameError\u001b[0m: name 'Settings' is not defined"
     ]
    }
   ],
   "source": [
    "from src.function.thesaurus.solr.updateSolr import UpdateSolr\n",
    "from pysolr import Solr\n",
    "\n",
    "\n",
    "\n",
    "UpdateSolr(request)\n"
   ]
  },
  {
   "cell_type": "code",
   "execution_count": 11,
   "metadata": {},
   "outputs": [
    {
     "name": "stdout",
     "output_type": "stream",
     "text": [
      "{'id': 'authority#118', 'type': ['Authority', 'Topic'], 'creationDate': '2024-06-23T00:00:00Z', 'authority': ['Insetos'], 'isMemberOfMADSCollection': ['subjects'], 'lang': 'Inglês', 'identifiersLccn': ['sh85066670'], 'variant': ['Hexapoda', 'Insecta', 'Pterygota'], 'hasBroaderAuthorityLabels': ['Arthropoda'], 'hasNarrowerAuthorityLabels': ['Psocoptera', 'Embioptera', 'Lice', 'Hemiptera', 'Bloodsucking insects', 'Protura', 'Carrion insects', 'Odonata', 'Apterygota', 'Saproxylic insects', 'Gnats', 'Forest insects', 'Insect pests', 'Strepsiptera', 'Stoneflies', 'Lepidoptera', 'Mantodea', 'Queens (Insects)', 'Electric organs in insects', 'Mayflies', 'Termites', 'Phasmatoptera', 'Predatory insects', 'Beneficial insects', 'Flies', 'Neuroptera', 'Fleas', 'Phytophagous insects', 'Photography of insects', 'Rare insects', 'Classification--Books--Insects', 'Archaeognatha', 'Anoplura', 'Fertilization of plants by insects', 'Thrips', 'Insect societies', 'Beetles', 'Introduced insects', 'Aquatic insects', 'Cockroaches', 'Diptera', 'Orthoptera', 'Hymenoptera', 'Mecoptera', 'Earwigs', 'Mallophaga', 'Raphidioptera', 'Insect pollinators', 'Megaloptera', 'Edible insects', 'Diplura', 'Extinct insects', 'Parasitic insects', 'Homoptera', 'Workers (Insects)', 'Grylloblattodea', 'Caddisflies', 'Collembola', 'Mycophagous insects', 'Thysanura'], 'hasReciprocalAuthorityLabels': ['Entomology'], '_version_': 1802656453512658944, 'hasReciprocalAuthority': {'id': 'authority#118/hasReciprocalAuthority#sh85044125', 'label': ['Entomology'], 'uri': 'http://id.loc.gov/authorities/subjects/sh85044125', 'base': 'loc', '_version_': 1802656453512658944}, 'hasBroaderAuthority': {'id': 'authority#118/hasBroaderAuthority#sh85008134', 'label': ['Arthropoda'], 'uri': 'http://id.loc.gov/authorities/subjects/sh85008134', 'base': 'loc', '_version_': 1802656453512658944}, 'hasVariant': [{'variantLabel': 'Hexapoda', 'id': 'authority#118/hasVariant#0', '_version_': 1802656453512658944, 'typeVariant': {'value': 'http://www.loc.gov/mads/rdf/v1#Topic', 'label': ['Topic'], 'id': 'authority#118/hasVariant#0/typeVariant#', '_version_': 1802656453512658944}, 'elementList': [{'elementValue': ['Hexapoda'], 'id': 'authority#118/hasVariant#0/elementList#0', '_version_': 1802656453512658944, 'elementType': {'value': 'http://www.loc.gov/mads/rdf/v1#TopicElement', 'label': ['TopicElement'], 'id': 'authority#118/hasVariant#0/elementList#0/elementType#', '_version_': 1802656453512658944}, 'elementLang': {'value': 'en', 'label': ['Inglês'], 'id': 'authority#118/hasVariant#0/elementList#0/elementLang#', '_version_': 1802656453512658944}}]}, {'variantLabel': 'Insecta', 'id': 'authority#118/hasVariant#1', '_version_': 1802656453512658944, 'typeVariant': {'value': 'http://www.loc.gov/mads/rdf/v1#Topic', 'label': ['Topic'], 'id': 'authority#118/hasVariant#1/typeVariant#', '_version_': 1802656453512658944}, 'elementList': [{'elementValue': ['Insecta'], 'id': 'authority#118/hasVariant#1/elementList#0', '_version_': 1802656453512658944, 'elementType': {'value': 'http://www.loc.gov/mads/rdf/v1#TopicElement', 'label': ['TopicElement'], 'id': 'authority#118/hasVariant#1/elementList#0/elementType#', '_version_': 1802656453512658944}, 'elementLang': {'value': 'en', 'label': ['Inglês'], 'id': 'authority#118/hasVariant#1/elementList#0/elementLang#', '_version_': 1802656453512658944}}]}, {'variantLabel': 'Pterygota', 'id': 'authority#118/hasVariant#2', '_version_': 1802656453512658944, 'typeVariant': {'value': 'http://www.loc.gov/mads/rdf/v1#Topic', 'label': ['Topic'], 'id': 'authority#118/hasVariant#2/typeVariant#', '_version_': 1802656453512658944}, 'elementList': [{'elementValue': ['Pterygota'], 'id': 'authority#118/hasVariant#2/elementList#0', '_version_': 1802656453512658944, 'elementType': {'value': 'http://www.loc.gov/mads/rdf/v1#TopicElement', 'label': ['TopicElement'], 'id': 'authority#118/hasVariant#2/elementList#0/elementType#', '_version_': 1802656453512658944}, 'elementLang': {'value': 'en', 'label': ['Inglês'], 'id': 'authority#118/hasVariant#2/elementList#0/elementLang#', '_version_': 1802656453512658944}}]}], 'hasCloseExternalAuthority': [{'id': 'authority#118/hasCloseExternalAuthority#Q1390', 'uri': 'http://www.wikidata.org/entity/Q1390', 'label': ['insect'], 'base': 'www.wikidata.org', '_version_': 1802656453512658944}, {'id': 'authority#118/hasCloseExternalAuthority#XX524421', 'uri': 'http://datos.bne.es/resource/XX524421', 'label': ['Insectos'], 'base': 'datos.bne.es', '_version_': 1802656453512658944}, {'id': 'authority#118/hasCloseExternalAuthority#00566605', 'uri': 'http://id.ndl.go.jp/auth/ndlsh/00566605', 'label': ['昆虫'], 'base': 'id.ndl.go.jp', '_version_': 1802656453512658944}, {'id': 'authority#118/hasCloseExternalAuthority#634', 'uri': 'http://purl.org/bncf/tid/634', 'label': ['Insetti'], 'base': 'purl.org', '_version_': 1802656453512658944}, {'id': 'authority#118/hasCloseExternalAuthority#cb11932119n', 'uri': 'http://data.bnf.fr/ark:/12148/cb11932119n', 'label': ['Insectes'], 'base': 'data.bnf.fr', '_version_': 1802656453512658944}, {'id': 'authority#118/hasCloseExternalAuthority#p1983', 'uri': 'http://www.yso.fi/onto/yso/p1983', 'label': ['hyönteiset'], 'base': 'www.yso.fi', '_version_': 1802656453512658944}, {'id': 'authority#118/hasCloseExternalAuthority#4027110-9', 'uri': 'https://d-nb.info/gnd/4027110-9', 'label': ['Insekten'], 'base': 'd-nb.info', '_version_': 1802656453512658944}, {'id': 'authority#118/hasCloseExternalAuthority#974074', 'uri': 'http://id.worldcat.org/fast/974074', 'label': ['Insects'], 'base': 'id.worldcat.org', '_version_': 1802656453512658944}], 'hasNarrowerAuthority': [{'id': 'authority#118/hasNarrowerAuthority#sh85108332', 'label': ['Psocoptera'], 'uri': 'http://id.loc.gov/authorities/subjects/sh85108332', 'base': 'loc', '_version_': 1802656453512658944}, {'id': 'authority#118/hasNarrowerAuthority#sh85042686', 'label': ['Embioptera'], 'uri': 'http://id.loc.gov/authorities/subjects/sh85042686', 'base': 'loc', '_version_': 1802656453512658944}, {'id': 'authority#118/hasNarrowerAuthority#sh85076759', 'label': ['Lice'], 'uri': 'http://id.loc.gov/authorities/subjects/sh85076759', 'base': 'loc', '_version_': 1802656453512658944}, {'id': 'authority#118/hasNarrowerAuthority#sh85060175', 'label': ['Hemiptera'], 'uri': 'http://id.loc.gov/authorities/subjects/sh85060175', 'base': 'loc', '_version_': 1802656453512658944}, {'id': 'authority#118/hasNarrowerAuthority#sh90005479', 'label': ['Bloodsucking insects'], 'uri': 'http://id.loc.gov/authorities/subjects/sh90005479', 'base': 'loc', '_version_': 1802656453512658944}, {'id': 'authority#118/hasNarrowerAuthority#sh85107825', 'label': ['Protura'], 'uri': 'http://id.loc.gov/authorities/subjects/sh85107825', 'base': 'loc', '_version_': 1802656453512658944}, {'id': 'authority#118/hasNarrowerAuthority#sh2005020304', 'label': ['Carrion insects'], 'uri': 'http://id.loc.gov/authorities/subjects/sh2005020304', 'base': 'loc', '_version_': 1802656453512658944}, {'id': 'authority#118/hasNarrowerAuthority#sh85094090', 'label': ['Odonata'], 'uri': 'http://id.loc.gov/authorities/subjects/sh85094090', 'base': 'loc', '_version_': 1802656453512658944}, {'id': 'authority#118/hasNarrowerAuthority#sh85006203', 'label': ['Apterygota'], 'uri': 'http://id.loc.gov/authorities/subjects/sh85006203', 'base': 'loc', '_version_': 1802656453512658944}, {'id': 'authority#118/hasNarrowerAuthority#sh2008020096', 'label': ['Saproxylic insects'], 'uri': 'http://id.loc.gov/authorities/subjects/sh2008020096', 'base': 'loc', '_version_': 1802656453512658944}, {'id': 'authority#118/hasNarrowerAuthority#sh92000807', 'label': ['Gnats'], 'uri': 'http://id.loc.gov/authorities/subjects/sh92000807', 'base': 'loc', '_version_': 1802656453512658944}, {'id': 'authority#118/hasNarrowerAuthority#sh85050594', 'label': ['Forest insects'], 'uri': 'http://id.loc.gov/authorities/subjects/sh85050594', 'base': 'loc', '_version_': 1802656453512658944}, {'id': 'authority#118/hasNarrowerAuthority#sh85066645', 'label': ['Insect pests'], 'uri': 'http://id.loc.gov/authorities/subjects/sh85066645', 'base': 'loc', '_version_': 1802656453512658944}, {'id': 'authority#118/hasNarrowerAuthority#sh85128674', 'label': ['Strepsiptera'], 'uri': 'http://id.loc.gov/authorities/subjects/sh85128674', 'base': 'loc', '_version_': 1802656453512658944}, {'id': 'authority#118/hasNarrowerAuthority#sh85128335', 'label': ['Stoneflies'], 'uri': 'http://id.loc.gov/authorities/subjects/sh85128335', 'base': 'loc', '_version_': 1802656453512658944}, {'id': 'authority#118/hasNarrowerAuthority#sh85076067', 'label': ['Lepidoptera'], 'uri': 'http://id.loc.gov/authorities/subjects/sh85076067', 'base': 'loc', '_version_': 1802656453512658944}, {'id': 'authority#118/hasNarrowerAuthority#sh2001008516', 'label': ['Mantodea'], 'uri': 'http://id.loc.gov/authorities/subjects/sh2001008516', 'base': 'loc', '_version_': 1802656453512658944}, {'id': 'authority#118/hasNarrowerAuthority#sh93001373', 'label': ['Queens (Insects)'], 'uri': 'http://id.loc.gov/authorities/subjects/sh93001373', 'base': 'loc', '_version_': 1802656453512658944}, {'id': 'authority#118/hasNarrowerAuthority#sh85041874', 'label': ['Electric organs in insects'], 'uri': 'http://id.loc.gov/authorities/subjects/sh85041874', 'base': 'loc', '_version_': 1802656453512658944}, {'id': 'authority#118/hasNarrowerAuthority#sh85082422', 'label': ['Mayflies'], 'uri': 'http://id.loc.gov/authorities/subjects/sh85082422', 'base': 'loc', '_version_': 1802656453512658944}, {'id': 'authority#118/hasNarrowerAuthority#sh85134031', 'label': ['Termites'], 'uri': 'http://id.loc.gov/authorities/subjects/sh85134031', 'base': 'loc', '_version_': 1802656453512658944}, {'id': 'authority#118/hasNarrowerAuthority#sh91001313', 'label': ['Phasmatoptera'], 'uri': 'http://id.loc.gov/authorities/subjects/sh91001313', 'base': 'loc', '_version_': 1802656453512658944}, {'id': 'authority#118/hasNarrowerAuthority#sh93002360', 'label': ['Predatory insects'], 'uri': 'http://id.loc.gov/authorities/subjects/sh93002360', 'base': 'loc', '_version_': 1802656453512658944}, {'id': 'authority#118/hasNarrowerAuthority#sh85013131', 'label': ['Beneficial insects'], 'uri': 'http://id.loc.gov/authorities/subjects/sh85013131', 'base': 'loc', '_version_': 1802656453512658944}, {'id': 'authority#118/hasNarrowerAuthority#sh85049104', 'label': ['Flies'], 'uri': 'http://id.loc.gov/authorities/subjects/sh85049104', 'base': 'loc', '_version_': 1802656453512658944}, {'id': 'authority#118/hasNarrowerAuthority#sh85091166', 'label': ['Neuroptera'], 'uri': 'http://id.loc.gov/authorities/subjects/sh85091166', 'base': 'loc', '_version_': 1802656453512658944}, {'id': 'authority#118/hasNarrowerAuthority#sh85049052', 'label': ['Fleas'], 'uri': 'http://id.loc.gov/authorities/subjects/sh85049052', 'base': 'loc', '_version_': 1802656453512658944}, {'id': 'authority#118/hasNarrowerAuthority#sh88006704', 'label': ['Phytophagous insects'], 'uri': 'http://id.loc.gov/authorities/subjects/sh88006704', 'base': 'loc', '_version_': 1802656453512658944}, {'id': 'authority#118/hasNarrowerAuthority#sh85101352', 'label': ['Photography of insects'], 'uri': 'http://id.loc.gov/authorities/subjects/sh85101352', 'base': 'loc', '_version_': 1802656453512658944}, {'id': 'authority#118/hasNarrowerAuthority#sh92000131', 'label': ['Rare insects'], 'uri': 'http://id.loc.gov/authorities/subjects/sh92000131', 'base': 'loc', '_version_': 1802656453512658944}, {'id': 'authority#118/hasNarrowerAuthority#sh2021005269', 'label': ['Classification--Books--Insects'], 'uri': 'http://id.loc.gov/authorities/subjects/sh2021005269', 'base': 'loc', '_version_': 1802656453512658944}, {'id': 'authority#118/hasNarrowerAuthority#sh2002004915', 'label': ['Archaeognatha'], 'uri': 'http://id.loc.gov/authorities/subjects/sh2002004915', 'base': 'loc', '_version_': 1802656453512658944}, {'id': 'authority#118/hasNarrowerAuthority#sh85005450', 'label': ['Anoplura'], 'uri': 'http://id.loc.gov/authorities/subjects/sh85005450', 'base': 'loc', '_version_': 1802656453512658944}, {'id': 'authority#118/hasNarrowerAuthority#sh85047912', 'label': ['Fertilization of plants by insects'], 'uri': 'http://id.loc.gov/authorities/subjects/sh85047912', 'base': 'loc', '_version_': 1802656453512658944}, {'id': 'authority#118/hasNarrowerAuthority#sh85135052', 'label': ['Thrips'], 'uri': 'http://id.loc.gov/authorities/subjects/sh85135052', 'base': 'loc', '_version_': 1802656453512658944}, {'id': 'authority#118/hasNarrowerAuthority#sh85066657', 'label': ['Insect societies'], 'uri': 'http://id.loc.gov/authorities/subjects/sh85066657', 'base': 'loc', '_version_': 1802656453512658944}, {'id': 'authority#118/hasNarrowerAuthority#sh85012867', 'label': ['Beetles'], 'uri': 'http://id.loc.gov/authorities/subjects/sh85012867', 'base': 'loc', '_version_': 1802656453512658944}, {'id': 'authority#118/hasNarrowerAuthority#sh2007005354', 'label': ['Introduced insects'], 'uri': 'http://id.loc.gov/authorities/subjects/sh2007005354', 'base': 'loc', '_version_': 1802656453512658944}, {'id': 'authority#118/hasNarrowerAuthority#sh85066699', 'label': ['Aquatic insects'], 'uri': 'http://id.loc.gov/authorities/subjects/sh85066699', 'base': 'loc', '_version_': 1802656453512658944}, {'id': 'authority#118/hasNarrowerAuthority#sh85027610', 'label': ['Cockroaches'], 'uri': 'http://id.loc.gov/authorities/subjects/sh85027610', 'base': 'loc', '_version_': 1802656453512658944}, {'id': 'authority#118/hasNarrowerAuthority#sh85038238', 'label': ['Diptera'], 'uri': 'http://id.loc.gov/authorities/subjects/sh85038238', 'base': 'loc', '_version_': 1802656453512658944}, {'id': 'authority#118/hasNarrowerAuthority#sh85095822', 'label': ['Orthoptera'], 'uri': 'http://id.loc.gov/authorities/subjects/sh85095822', 'base': 'loc', '_version_': 1802656453512658944}, {'id': 'authority#118/hasNarrowerAuthority#sh85063592', 'label': ['Hymenoptera'], 'uri': 'http://id.loc.gov/authorities/subjects/sh85063592', 'base': 'loc', '_version_': 1802656453512658944}, {'id': 'authority#118/hasNarrowerAuthority#sh85082794', 'label': ['Mecoptera'], 'uri': 'http://id.loc.gov/authorities/subjects/sh85082794', 'base': 'loc', '_version_': 1802656453512658944}, {'id': 'authority#118/hasNarrowerAuthority#sh85037080', 'label': ['Earwigs'], 'uri': 'http://id.loc.gov/authorities/subjects/sh85037080', 'base': 'loc', '_version_': 1802656453512658944}, {'id': 'authority#118/hasNarrowerAuthority#sh85080166', 'label': ['Mallophaga'], 'uri': 'http://id.loc.gov/authorities/subjects/sh85080166', 'base': 'loc', '_version_': 1802656453512658944}, {'id': 'authority#118/hasNarrowerAuthority#sh99000944', 'label': ['Raphidioptera'], 'uri': 'http://id.loc.gov/authorities/subjects/sh99000944', 'base': 'loc', '_version_': 1802656453512658944}, {'id': 'authority#118/hasNarrowerAuthority#sh00003441', 'label': ['Insect pollinators'], 'uri': 'http://id.loc.gov/authorities/subjects/sh00003441', 'base': 'loc', '_version_': 1802656453512658944}, {'id': 'authority#118/hasNarrowerAuthority#sh99000943', 'label': ['Megaloptera'], 'uri': 'http://id.loc.gov/authorities/subjects/sh99000943', 'base': 'loc', '_version_': 1802656453512658944}, {'id': 'authority#118/hasNarrowerAuthority#sh85066704', 'label': ['Edible insects'], 'uri': 'http://id.loc.gov/authorities/subjects/sh85066704', 'base': 'loc', '_version_': 1802656453512658944}, {'id': 'authority#118/hasNarrowerAuthority#sh85038214', 'label': ['Diplura'], 'uri': 'http://id.loc.gov/authorities/subjects/sh85038214', 'base': 'loc', '_version_': 1802656453512658944}, {'id': 'authority#118/hasNarrowerAuthority#sh92002134', 'label': ['Extinct insects'], 'uri': 'http://id.loc.gov/authorities/subjects/sh92002134', 'base': 'loc', '_version_': 1802656453512658944}, {'id': 'authority#118/hasNarrowerAuthority#sh85097913', 'label': ['Parasitic insects'], 'uri': 'http://id.loc.gov/authorities/subjects/sh85097913', 'base': 'loc', '_version_': 1802656453512658944}, {'id': 'authority#118/hasNarrowerAuthority#sh85061775', 'label': ['Homoptera'], 'uri': 'http://id.loc.gov/authorities/subjects/sh85061775', 'base': 'loc', '_version_': 1802656453512658944}, {'id': 'authority#118/hasNarrowerAuthority#sh2012001922', 'label': ['Workers (Insects)'], 'uri': 'http://id.loc.gov/authorities/subjects/sh2012001922', 'base': 'loc', '_version_': 1802656453512658944}, {'id': 'authority#118/hasNarrowerAuthority#sh2002004123', 'label': ['Grylloblattodea'], 'uri': 'http://id.loc.gov/authorities/subjects/sh2002004123', 'base': 'loc', '_version_': 1802656453512658944}, {'id': 'authority#118/hasNarrowerAuthority#sh85018616', 'label': ['Caddisflies'], 'uri': 'http://id.loc.gov/authorities/subjects/sh85018616', 'base': 'loc', '_version_': 1802656453512658944}, {'id': 'authority#118/hasNarrowerAuthority#sh85028419', 'label': ['Collembola'], 'uri': 'http://id.loc.gov/authorities/subjects/sh85028419', 'base': 'loc', '_version_': 1802656453512658944}, {'id': 'authority#118/hasNarrowerAuthority#sh2002000222', 'label': ['Mycophagous insects'], 'uri': 'http://id.loc.gov/authorities/subjects/sh2002000222', 'base': 'loc', '_version_': 1802656453512658944}, {'id': 'authority#118/hasNarrowerAuthority#sh85135184', 'label': ['Thysanura'], 'uri': 'http://id.loc.gov/authorities/subjects/sh85135184', 'base': 'loc', '_version_': 1802656453512658944}]}\n"
     ]
    }
   ],
   "source": [
    "from pysolr import Solr\n",
    "from src.schemas.settings import Settings\n",
    "settings = Settings()\n",
    "solr = Solr(f'{settings.solr}/solr/authority/', timeout=10)\n",
    "\n",
    "for i in request.hasReciprocalAuthority:\n",
    "    if i.authority.base == 'bk':\n",
    "        id = i.authority.value.split(\"/\")[-1]\n",
    "        res = solr.search(q=f\"id:authority#{id}\", fl=\"*,[child]\")\n",
    "        [doc] = res.docs\n",
    "        print(doc)"
   ]
  },
  {
   "cell_type": "code",
   "execution_count": 13,
   "metadata": {},
   "outputs": [],
   "source": [
    "from pysolr import Solr\n",
    "solr = Solr(f'{settings.solr}/solr/authority/', timeout=10)"
   ]
  },
  {
   "cell_type": "code",
   "execution_count": 14,
   "metadata": {},
   "outputs": [
    {
     "data": {
      "text/plain": [
       "'{\\n  \"responseHeader\":{\\n    \"status\":0,\\n    \"QTime\":146\\n  }\\n}'"
      ]
     },
     "execution_count": 14,
     "metadata": {},
     "output_type": "execute_result"
    }
   ],
   "source": [
    "responseSolr = solr.add([doc], commit=True)\n",
    "responseSolr"
   ]
  },
  {
   "cell_type": "code",
   "execution_count": 4,
   "metadata": {},
   "outputs": [],
   "source": [
    "from src.function.thesaurus.solr.updateSolr import UpdateSolr\n",
    "\n",
    "\n",
    "UpdateSolr(request)"
   ]
  },
  {
   "cell_type": "code",
   "execution_count": 1,
   "metadata": {},
   "outputs": [
    {
     "data": {
      "text/plain": [
       "<Graph identifier=Nce6f77d3a5df452c8bf7a7096de8d58c (<class 'rdflib.graph.Graph'>)>"
      ]
     },
     "execution_count": 1,
     "metadata": {},
     "output_type": "execute_result"
    }
   ],
   "source": [
    "from rdflib import Graph\n",
    "graph = Graph()\n",
    "graph.parse('http://id.loc.gov/authorities/names/no2011070109.rdf')\n",
    "graph.serialize('insetos.ttl')"
   ]
  }
 ],
 "metadata": {
  "kernelspec": {
   "display_name": "venv",
   "language": "python",
   "name": "python3"
  },
  "language_info": {
   "codemirror_mode": {
    "name": "ipython",
    "version": 3
   },
   "file_extension": ".py",
   "mimetype": "text/x-python",
   "name": "python",
   "nbconvert_exporter": "python",
   "pygments_lexer": "ipython3",
   "version": "3.12.0"
  }
 },
 "nbformat": 4,
 "nbformat_minor": 2
}
