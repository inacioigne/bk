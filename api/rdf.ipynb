{
 "cells": [
  {
   "cell_type": "code",
   "execution_count": 14,
   "metadata": {},
   "outputs": [],
   "source": [
    "from pydantic import BaseModel\n",
    "from typing import Optional\n",
    "\n",
    "from rdflib import URIRef, BNode, Literal, Namespace, Graph"
   ]
  },
  {
   "cell_type": "code",
   "execution_count": 5,
   "metadata": {},
   "outputs": [],
   "source": [
    "class BfElement(BaseModel):\n",
    "    value: str\n",
    "    label: str"
   ]
  },
  {
   "cell_type": "code",
   "execution_count": 6,
   "metadata": {},
   "outputs": [],
   "source": [
    "class BfWork(BaseModel):\n",
    "    resourceType: list[BfElement]"
   ]
  },
  {
   "cell_type": "code",
   "execution_count": 7,
   "metadata": {},
   "outputs": [],
   "source": [
    "req = {\n",
    "    \"resourceType\": [\n",
    "        {\n",
    "            \"value\": \"Work\",\n",
    "            \"label\": \"Obra\"\n",
    "        },\n",
    "        {\n",
    "            \"value\": \"Text\",\n",
    "            \"label\": \"Texto\"\n",
    "        }\n",
    "    ]\n",
    "}"
   ]
  },
  {
   "cell_type": "code",
   "execution_count": 8,
   "metadata": {},
   "outputs": [
    {
     "data": {
      "text/plain": [
       "BfWork(resourceType=[BfElement(value='Work', label='Obra'), BfElement(value='Text', label='Texto')])"
      ]
     },
     "execution_count": 8,
     "metadata": {},
     "output_type": "execute_result"
    }
   ],
   "source": [
    "request = BfWork(**req)\n",
    "request"
   ]
  },
  {
   "cell_type": "code",
   "execution_count": 86,
   "metadata": {},
   "outputs": [
    {
     "name": "stdout",
     "output_type": "stream",
     "text": [
      "Work\n",
      "Text\n"
     ]
    }
   ],
   "source": [
    "for i in request.resourceType:\n",
    "    print(i.value)"
   ]
  },
  {
   "cell_type": "code",
   "execution_count": 48,
   "metadata": {},
   "outputs": [
    {
     "name": "stdout",
     "output_type": "stream",
     "text": [
      "@prefix bf: <http://id.loc.gov/ontologies/bibframe/> .\n",
      "\n",
      "<https://bibliokeia/works/10> a bf:Text,\n",
      "        bf:Work .\n",
      "\n",
      "\n"
     ]
    }
   ],
   "source": [
    "from rdflib import Graph, ConjunctiveGraph, URIRef, Literal, BNode\n",
    "from rdflib.namespace import RDF, RDFS\n",
    "\n",
    "BF = Namespace(\"http://id.loc.gov/ontologies/bibframe/\")\n",
    "g = Graph()\n",
    "g.bind('bf', BF)\n",
    "\n",
    "uri = 'https://bibliokeia/works/10'\n",
    "work = URIRef(uri)\n",
    "\n",
    "g.add((work, RDF.type, BF.Work))\n",
    "g.add((work, RDF.type, BF.Text))\n",
    "\n",
    "\n",
    "\n",
    "\n"
   ]
  },
  {
   "cell_type": "code",
   "execution_count": 21,
   "metadata": {},
   "outputs": [
    {
     "data": {
      "text/plain": [
       "<Graph identifier=N62cd2d1b89ec4c27974603c64c56fd87 (<class 'rdflib.graph.Graph'>)>"
      ]
     },
     "execution_count": 21,
     "metadata": {},
     "output_type": "execute_result"
    }
   ],
   "source": [
    "g.serialize(destination='test_work.ttl')"
   ]
  },
  {
   "cell_type": "code",
   "execution_count": 23,
   "metadata": {},
   "outputs": [],
   "source": [
    "s = g.serialize(format='ttl')"
   ]
  },
  {
   "cell_type": "code",
   "execution_count": 42,
   "metadata": {},
   "outputs": [],
   "source": [
    "from pyfuseki import FusekiUpdate\n",
    "\n",
    "fuseki = FusekiUpdate(\"http://localhost:3030\" , 'bk') "
   ]
  },
  {
   "cell_type": "code",
   "execution_count": 59,
   "metadata": {},
   "outputs": [
    {
     "name": "stdout",
     "output_type": "stream",
     "text": [
      "@prefix bf: <http://id.loc.gov/ontologies/bibframe/> .\n",
      "\n",
      "<https://bibliokeia/works/10> a bf:Text,\n",
      "        bf:Work .\n",
      "\n",
      "\n"
     ]
    }
   ],
   "source": [
    "print(g.serialize(format='ttl'))"
   ]
  },
  {
   "cell_type": "code",
   "execution_count": 60,
   "metadata": {},
   "outputs": [
    {
     "data": {
      "text/plain": [
       "'@prefix bf: <http://id.loc.gov/ontologies/bibframe/> .\\n\\n<https://bibliokeia/works/10> a bf:Text,\\n        bf:Work .\\n\\n'"
      ]
     },
     "execution_count": 60,
     "metadata": {},
     "output_type": "execute_result"
    }
   ],
   "source": [
    "x = g.serialize(format='ttl')\n",
    "x"
   ]
  },
  {
   "cell_type": "code",
   "execution_count": 66,
   "metadata": {},
   "outputs": [],
   "source": [
    "s = x.split(\"\\n\")"
   ]
  },
  {
   "cell_type": "code",
   "execution_count": 80,
   "metadata": {},
   "outputs": [
    {
     "name": "stdout",
     "output_type": "stream",
     "text": [
      "<https://bibliokeia/works/10> a bf:Text,\n",
      "         bf:Work .\n",
      " \n",
      " \n"
     ]
    }
   ],
   "source": [
    "graph = \"\\n \".join(s[2:])\n",
    "print(graph)"
   ]
  },
  {
   "cell_type": "code",
   "execution_count": 81,
   "metadata": {},
   "outputs": [
    {
     "name": "stdout",
     "output_type": "stream",
     "text": [
      "\n",
      "    PREFIX bf: <http://id.loc.gov/ontologies/bibframe/>  \n",
      "\n",
      "    INSERT DATA {\n",
      "        GRAPH <https://bibliokeia/works/10> \n",
      "        {\n",
      "            <https://bibliokeia/works/10> a bf:Text,\n",
      "         bf:Work .\n",
      " \n",
      "  } } \n"
     ]
    }
   ],
   "source": [
    "graph = f\"\"\"\n",
    "    PREFIX bf: <http://id.loc.gov/ontologies/bibframe/>  \n",
    "\n",
    "    INSERT DATA {{\n",
    "        GRAPH <https://bibliokeia/works/10> \n",
    "        {{\n",
    "            {graph} }} }} \"\"\"\n",
    "\n",
    "print(graph)"
   ]
  },
  {
   "cell_type": "code",
   "execution_count": 83,
   "metadata": {},
   "outputs": [
    {
     "data": {
      "text/plain": [
       "{'statusCode': 200, 'message': 'Update succeeded'}"
      ]
     },
     "execution_count": 83,
     "metadata": {},
     "output_type": "execute_result"
    }
   ],
   "source": [
    "response = fuseki.run_sparql(graph) \n",
    "response.convert()"
   ]
  },
  {
   "cell_type": "code",
   "execution_count": 31,
   "metadata": {},
   "outputs": [
    {
     "name": "stdout",
     "output_type": "stream",
     "text": [
      "INSERT DATA {\n",
      "        GRAPH https://bibliokeia/works/10\n",
      "        { @prefix bf: <http://id.loc.gov/ontologies/bibframe/> .\n",
      "\n",
      "<https://bibliokeia/works/10> a bf:Text,\n",
      "        bf:Work .\n",
      "\n",
      " } }\n"
     ]
    }
   ],
   "source": [
    "print(sparql)"
   ]
  }
 ],
 "metadata": {
  "kernelspec": {
   "display_name": "venv",
   "language": "python",
   "name": "python3"
  },
  "language_info": {
   "codemirror_mode": {
    "name": "ipython",
    "version": 3
   },
   "file_extension": ".py",
   "mimetype": "text/x-python",
   "name": "python",
   "nbconvert_exporter": "python",
   "pygments_lexer": "ipython3",
   "version": "3.12.0"
  }
 },
 "nbformat": 4,
 "nbformat_minor": 2
}
