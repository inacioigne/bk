{
 "cells": [
  {
   "cell_type": "code",
   "execution_count": 1,
   "metadata": {},
   "outputs": [],
   "source": [
    "from src.schemas.thesaurus.mads import SchemaMads\n",
    "from datetime import datetime\n",
    "from src.schemas.settings import Settings\n",
    "from rdflib import URIRef, Namespace, Graph, Literal, BNode\n",
    "from rdflib.namespace import RDF, RDFS\n",
    "settings = Settings()"
   ]
  },
  {
   "cell_type": "code",
   "execution_count": 4,
   "metadata": {},
   "outputs": [],
   "source": [
    "req = {\n",
    "    \"adminMetadata\": {\n",
    "        \"status\": {\n",
    "            \"value\": \"http://id.loc.gov/vocabulary/mstatus/n\",\n",
    "            \"label\": \"Novo\"\n",
    "        },\n",
    "        \"descriptionConventions\": {\n",
    "            \"value\": \"http://id.loc.gov/vocabulary/descriptionConventions/aacr\",\n",
    "            \"label\": \"AACr\"\n",
    "        }\n",
    "    },\n",
    "    \"resource\": [\n",
    "        {\n",
    "            \"type\": {\n",
    "                \"value\": \"http://www.loc.gov/mads/rdf/v1#Authority\",\n",
    "                \"label\": \"Authority\"\n",
    "            }\n",
    "        },\n",
    "        {\n",
    "            \"type\": {\n",
    "                \"value\": \"http://www.loc.gov/mads/rdf/v1#PersonalName\",\n",
    "                \"label\": \"PersonalName\"\n",
    "            }\n",
    "        }\n",
    "    ],\n",
    "    \"isMemberOfMADSCollection\": [\n",
    "        {\n",
    "            \"collection\": {\n",
    "                \"value\": \"names\",\n",
    "                \"label\": \"Nomes\"\n",
    "            }\n",
    "        }\n",
    "    ],\n",
    "    \"elementList\": [\n",
    "        {\n",
    "            \"elementType\": {\n",
    "                \"value\": \"http://www.loc.gov/mads/rdf/v1#FullNameElement\",\n",
    "                \"label\": \"FullNameElement\"\n",
    "            },\n",
    "            \"elementValue\": \"Graeber, David\"\n",
    "        }\n",
    "    ],\n",
    "    \"authoritativeLabel\": {\n",
    "        \"value\": \"Graeber, David\"\n",
    "    },\n",
    "    \"fullerName\": {\n",
    "        \"value\": \"David Rolfe\"\n",
    "    },\n",
    "    \"birth\": {\n",
    "        \"day\": \"12\",\n",
    "        \"month\": {\n",
    "            \"value\": \"02\",\n",
    "            \"label\": \"Fevereiro\"\n",
    "        },\n",
    "        \"year\": \"1961\"\n",
    "    },\n",
    "    \"death\": {\n",
    "        \"day\": \"02\",\n",
    "        \"month\": {\n",
    "            \"value\": \"09\",\n",
    "            \"label\": \"Setembro\"\n",
    "        },\n",
    "        \"year\": \"2020\"\n",
    "    },\n",
    "    \"hasAffiliation\": [\n",
    "        {\n",
    "            \"base\": \"loc\",\n",
    "            \"label\": \"London School of Economics and Political Science\",\n",
    "            \"uri\": \"http://id.loc.gov/authorities/names/n80038497\"\n",
    "        }\n",
    "    ],\n",
    "    \"fieldOfActivity\": [\n",
    "        {\n",
    "            \"base\": \"loc\",\n",
    "            \"label\": \"Education, Higher\",\n",
    "            \"uri\": \"http://id.loc.gov/authorities/subjects/sh85041065\"\n",
    "        },\n",
    "        {\n",
    "            \"base\": \"loc\",\n",
    "            \"label\": \"Economic anthropology\",\n",
    "            \"uri\": \"http://id.loc.gov/authorities/subjects/sh85040766\"\n",
    "        },\n",
    "        {\n",
    "            \"base\": \"loc\",\n",
    "            \"label\": \"Ethnology\",\n",
    "            \"uri\": \"http://id.loc.gov/authorities/subjects/sh85045198\"\n",
    "        }\n",
    "    ],\n",
    "    \"occupation\": [\n",
    "        {\n",
    "            \"base\": \"loc\",\n",
    "            \"label\": \"College teachers\",\n",
    "            \"uri\": \"http://id.loc.gov/authorities/subjects/sh85028378\"\n",
    "        },\n",
    "        {\n",
    "            \"base\": \"loc\",\n",
    "            \"label\": \"Anthropologists\",\n",
    "            \"uri\": \"http://id.loc.gov/authorities/subjects/sh85005579\"\n",
    "        },\n",
    "        {\n",
    "            \"base\": \"loc\",\n",
    "            \"label\": \"Anarchists\",\n",
    "            \"uri\": \"http://id.loc.gov/authorities/subjects/sh85004813\"\n",
    "        },\n",
    "        {\n",
    "            \"base\": \"loc\",\n",
    "            \"label\": \"Authors\",\n",
    "            \"uri\": \"http://id.loc.gov/authorities/subjects/sh85009793\"\n",
    "        }\n",
    "    ],\n",
    "    \"hasCloseExternalAuthority\": [\n",
    "        {\n",
    "            \"base\": \"www.wikidata.org\",\n",
    "            \"label\": \"David Graeber\",\n",
    "            \"uri\": \"http://www.wikidata.org/entity/Q1174579\"\n",
    "        },\n",
    "        {\n",
    "            \"base\": \"d-nb.info\",\n",
    "            \"label\": \"Graeber, David\",\n",
    "            \"uri\": \"https://d-nb.info/gnd/136471862\"\n",
    "        }\n",
    "    ],\n",
    "    \"identifiersLccn\": \"no97027235\"\n",
    "}"
   ]
  },
  {
   "cell_type": "code",
   "execution_count": 5,
   "metadata": {},
   "outputs": [],
   "source": [
    "request = SchemaMads(**req)\n",
    "now = datetime.now()\n",
    "request.adminMetadata.creationDate = now\n",
    "request.adminMetadata.identifiedBy = \"teste\""
   ]
  },
  {
   "cell_type": "code",
   "execution_count": 9,
   "metadata": {},
   "outputs": [
    {
     "data": {
      "text/plain": [
       "[Uri(base='loc', uri='http://id.loc.gov/authorities/subjects/sh85028378', label='College teachers', elementLang=None),\n",
       " Uri(base='loc', uri='http://id.loc.gov/authorities/subjects/sh85005579', label='Anthropologists', elementLang=None),\n",
       " Uri(base='loc', uri='http://id.loc.gov/authorities/subjects/sh85004813', label='Anarchists', elementLang=None),\n",
       " Uri(base='loc', uri='http://id.loc.gov/authorities/subjects/sh85009793', label='Authors', elementLang=None)]"
      ]
     },
     "execution_count": 9,
     "metadata": {},
     "output_type": "execute_result"
    }
   ],
   "source": [
    "request.occupation"
   ]
  },
  {
   "cell_type": "code",
   "execution_count": 7,
   "metadata": {},
   "outputs": [],
   "source": [
    "request.hasVariant"
   ]
  },
  {
   "cell_type": "code",
   "execution_count": 7,
   "metadata": {},
   "outputs": [],
   "source": [
    "MDASRDF = Namespace(\"http://www.loc.gov/mads/rdf/v1#\")\n",
    "BF = Namespace(\"http://id.loc.gov/ontologies/bibframe/\")\n",
    "IDENTIFIERS = Namespace(\"http://id.loc.gov/vocabulary/identifiers/\")\n",
    "identifier = f\"{settings.base_url}/authorities/{request.adminMetadata.identifiedBy}\"\n",
    "resource = URIRef(identifier)\n",
    "\n",
    "g = Graph(identifier=identifier)\n",
    "g.bind('madsrdf', MDASRDF)\n",
    "g.bind('identifiers', IDENTIFIERS)\n",
    "g.bind('bf', BF)\n"
   ]
  },
  {
   "cell_type": "code",
   "execution_count": 13,
   "metadata": {},
   "outputs": [],
   "source": [
    "from pysolr import Solr\n",
    "solr = Solr(f'{settings.solr}/solr/authority/', timeout=10)"
   ]
  },
  {
   "cell_type": "code",
   "execution_count": 14,
   "metadata": {},
   "outputs": [
    {
     "data": {
      "text/plain": [
       "'{\\n  \"responseHeader\":{\\n    \"status\":0,\\n    \"QTime\":146\\n  }\\n}'"
      ]
     },
     "execution_count": 14,
     "metadata": {},
     "output_type": "execute_result"
    }
   ],
   "source": [
    "responseSolr = solr.add([doc], commit=True)\n",
    "responseSolr"
   ]
  },
  {
   "cell_type": "code",
   "execution_count": 4,
   "metadata": {},
   "outputs": [],
   "source": [
    "from src.function.thesaurus.solr.updateSolr import UpdateSolr\n",
    "\n",
    "\n",
    "UpdateSolr(request)"
   ]
  },
  {
   "cell_type": "code",
   "execution_count": 8,
   "metadata": {},
   "outputs": [
    {
     "data": {
      "text/plain": [
       "<Graph identifier=Nb33df10863d54bdf9a9ceeaf5d15d56d (<class 'rdflib.graph.Graph'>)>"
      ]
     },
     "execution_count": 8,
     "metadata": {},
     "output_type": "execute_result"
    }
   ],
   "source": [
    "graph = Graph()\n",
    "graph.parse('http://id.loc.gov/authorities/names/no97027235.rdf')\n",
    "graph.serialize('Graeber.ttl')"
   ]
  }
 ],
 "metadata": {
  "kernelspec": {
   "display_name": "venv",
   "language": "python",
   "name": "python3"
  },
  "language_info": {
   "codemirror_mode": {
    "name": "ipython",
    "version": 3
   },
   "file_extension": ".py",
   "mimetype": "text/x-python",
   "name": "python",
   "nbconvert_exporter": "python",
   "pygments_lexer": "ipython3",
   "version": "3.12.0"
  }
 },
 "nbformat": 4,
 "nbformat_minor": 2
}
