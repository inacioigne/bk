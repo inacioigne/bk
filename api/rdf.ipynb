{
 "cells": [
  {
   "cell_type": "code",
   "execution_count": 6,
   "metadata": {},
   "outputs": [],
   "source": [
    "from pydantic import BaseModel\n",
    "from typing import Optional\n",
    "from rdflib import URIRef, BNode, Literal, Namespace, Graph\n",
    "from rdflib.namespace import RDF, RDFS, DCTERMS\n",
    "from pyfuseki import FusekiUpdate\n",
    "from rdflib.plugins.stores import sparqlstore\n",
    "from rdflib.namespace import XSD\n",
    "from datetime import datetime\n",
    "from src.schemas.settings import Settings\n",
    "from pysolr import Solr\n",
    "from src.function.catalog.markeCreateSparql import MakeCreateSparql\n",
    "from src.schemas.catalog.instance import BfInstance"
   ]
  },
  {
   "cell_type": "code",
   "execution_count": 12,
   "metadata": {},
   "outputs": [
    {
     "data": {
      "text/plain": [
       "BfWork(resourceType=[BfElement(value='Work', label='Obra'), BfElement(value='Text', label='Texto')], adminMetadata=AdminMetadata(creationDate=None, status=BfElement(value='http://id.loc.gov/vocabulary/mstatus/n', label='Novo'), descriptionConventions=BfElement(value='http://id.loc.gov/vocabulary/descriptionConventions/aacr', label='AACr'), identifiedBy=None), title=Title(mainTitle='Conjecturas e refutações', subtitle=None), variantTitle=None, language=[BfElement(value='por', label='Português')], genreForm=None, contribution=[Contribution(term=BfElement(value='https://bibliokeia.com/authority/PersonalName/29', label='Popper, Karl R.'), role=BfElement(value='http://id.loc.gov/vocabulary/relators/aut', label='Autor'))], subject=[Subject(type='Topic', lang='por', term=BfElement(value='https://bibliokeia.com/authority/Topic/11', label='Metodologia'))], classification=Classification(cdd='001', cutter='P831c'), note=None, summary=None, tableOfContents=None)"
      ]
     },
     "execution_count": 12,
     "metadata": {},
     "output_type": "execute_result"
    }
   ],
   "source": [
    "from src.schemas.catalog.work import BfWork\n",
    "\n",
    "req = {\n",
    "    \"adminMetadata\": {\n",
    "        \"status\": {\n",
    "            \"value\": \"http://id.loc.gov/vocabulary/mstatus/n\",\n",
    "            \"label\": \"Novo\"\n",
    "        },\n",
    "        \"descriptionConventions\": {\n",
    "            \"value\": \"http://id.loc.gov/vocabulary/descriptionConventions/aacr\",\n",
    "            \"label\": \"AACr\"\n",
    "        }\n",
    "    },\n",
    "    \"resourceType\": [\n",
    "        {\n",
    "            \"value\": \"Work\",\n",
    "            \"label\": \"Obra\"\n",
    "        },\n",
    "        {\n",
    "            \"value\": \"Text\",\n",
    "            \"label\": \"Texto\"\n",
    "        }\n",
    "    ],\n",
    "    \"language\": [\n",
    "        {\n",
    "            \"value\": \"por\",\n",
    "            \"label\": \"Português\"\n",
    "        }\n",
    "    ],\n",
    "    \"classification\": {\n",
    "        \"cdd\": \"597\",\n",
    "        \"cutter\": \"O457v\"\n",
    "    },\n",
    "    \"title\": {\n",
    "        \"mainTitle\": \"El astillero\"\n",
    "    },\n",
    "    \"contribution\": [\n",
    "        {\n",
    "            \"term\": {\n",
    "                \"value\": \"https://bibliokeia.com/authority/PersonalName/31\",\n",
    "                \"label\": \"Onetti, Juan Carlos\"\n",
    "            },\n",
    "            \"role\": {\n",
    "                \"value\": \"http://id.loc.gov/vocabulary/relators/aut\",\n",
    "                \"label\": \"Autor\"\n",
    "            }\n",
    "        }\n",
    "    ],\n",
    "    \"subject\": [\n",
    "        {\n",
    "            \"term\": {\n",
    "                \"value\": \"\",\n",
    "                \"label\": \"\"\n",
    "            },\n",
    "            \"type\": \"Topic\"\n",
    "        }\n",
    "    ]\n",
    "}\n",
    "\n",
    "request = BfWork(**req)\n",
    "request"
   ]
  },
  {
   "cell_type": "code",
   "execution_count": 4,
   "metadata": {},
   "outputs": [
    {
     "data": {
      "text/plain": [
       "'87'"
      ]
     },
     "execution_count": 4,
     "metadata": {},
     "output_type": "execute_result"
    }
   ],
   "source": [
    "request.adminMetadata.identifiedBy = '87'\n",
    "request.adminMetadata.identifiedBy"
   ]
  },
  {
   "cell_type": "code",
   "execution_count": 7,
   "metadata": {},
   "outputs": [
    {
     "data": {
      "text/plain": [
       "'https://bibliokeia.com/works/87'"
      ]
     },
     "execution_count": 7,
     "metadata": {},
     "output_type": "execute_result"
    }
   ],
   "source": [
    "settings = Settings()\n",
    "identifier = f\"{settings.base_url}/works/{request.adminMetadata.identifiedBy}\"\n",
    "identifier"
   ]
  },
  {
   "cell_type": "code",
   "execution_count": 18,
   "metadata": {},
   "outputs": [],
   "source": [
    "request.adminMetadata.identifiedBy = '87'"
   ]
  },
  {
   "cell_type": "code",
   "execution_count": 15,
   "metadata": {},
   "outputs": [],
   "source": [
    "fuseki = FusekiUpdate(\"http://localhost:3030\" , 'bk') "
   ]
  },
  {
   "cell_type": "code",
   "execution_count": 19,
   "metadata": {},
   "outputs": [],
   "source": [
    "def UpdateFusekiContribution(request):\n",
    "\n",
    "    uri = f\"{settings.base_url}/works/{request.adminMetadata.identifiedBy}\"\n",
    "    for contribution in request.contribution:\n",
    "        sparql = f\"\"\"PREFIX bf: <http://id.loc.gov/ontologies/bibframe/>\n",
    "            INSERT DATA {{\n",
    "             GRAPH <{contribution.term.value}> {{\n",
    "             <{contribution.term.value}> bf:contributionOf <{uri}> .\n",
    "             }} }} \"\"\"\n",
    "        response = fuseki.run_sparql(sparql)\n",
    "\n",
    "UpdateFusekiContribution(request)"
   ]
  },
  {
   "cell_type": "markdown",
   "metadata": {},
   "source": [
    "DELETE ITEMS"
   ]
  },
  {
   "cell_type": "code",
   "execution_count": 4,
   "metadata": {},
   "outputs": [],
   "source": [
    "\n",
    "solr = Solr(f'{settings.solr}/solr/catalog/', timeout=10)"
   ]
  },
  {
   "cell_type": "code",
   "execution_count": 6,
   "metadata": {},
   "outputs": [
    {
     "data": {
      "text/plain": [
       "'http://localhost:3030'"
      ]
     },
     "execution_count": 6,
     "metadata": {},
     "output_type": "execute_result"
    }
   ],
   "source": [
    "settings.fuseki"
   ]
  },
  {
   "cell_type": "code",
   "execution_count": 3,
   "metadata": {},
   "outputs": [
    {
     "data": {
      "text/plain": [
       "Items_Delete(instanceOf='work#86', itemOf='51', items=['item#25', 'item#26', 'item#27', 'item#28'])"
      ]
     },
     "execution_count": 3,
     "metadata": {},
     "output_type": "execute_result"
    }
   ],
   "source": [
    "from src.schemas.catalog.items import Items_Delete\n",
    "fuseki = FusekiUpdate(\"http://localhost:3030\" , 'bk') \n",
    "\n",
    "\n",
    "r = {\n",
    "    \"instanceOf\": \"work#86\",\n",
    "    \"itemOf\": \"51\",\n",
    "    \"items\": [\n",
    "        \"item#25\",\n",
    "        \"item#26\",\n",
    "        \"item#27\",\n",
    "        \"item#28\"\n",
    "    ]\n",
    "}\n",
    "request = Items_Delete(**r)\n",
    "request"
   ]
  },
  {
   "cell_type": "code",
   "execution_count": 8,
   "metadata": {},
   "outputs": [
    {
     "data": {
      "text/plain": [
       "{'resDropItem': {'statusCode': 200, 'message': 'Update succeeded'},\n",
       " 'resHasItem': {'statusCode': 200, 'message': 'Update succeeded'}}"
      ]
     },
     "execution_count": 8,
     "metadata": {},
     "output_type": "execute_result"
    }
   ],
   "source": [
    "def DeleteItem(item, itemOf, instanceOf):\n",
    "    item_id = item.split(\"#\")[1]\n",
    "    uri = f\"{settings.base_url}/items/{item_id}\"\n",
    "    sparqlDropItem = f\"DROP GRAPH <{uri}>\"\n",
    "    resDropItem = fuseki.run_sparql(sparqlDropItem)\n",
    "    instance = f'https://bibliokeia.com/instances/{itemOf}'\n",
    "    sparqlHasItem = f\"\"\"PREFIX bf: <http://id.loc.gov/ontologies/bibframe/>\n",
    "            DELETE DATA\n",
    "            {{ GRAPH <{instance}> \n",
    "            {{ <{instance}>  bf:hasItem  <{uri}> }} }} ;\"\"\"\n",
    "    resHasItem = fuseki.run_sparql(sparqlHasItem)\n",
    "    d = {\n",
    "      \"id\": f\"instance#{itemOf}\",\n",
    "      \"_root_\": instanceOf,\n",
    "      \"hasItem\": { \"remove\": { \"id\": item } }\n",
    "    } \n",
    "    resSolr = solr.add([d], commit='True')\n",
    "    return {\n",
    "        'resDropItem': resDropItem.convert(),\n",
    "        'resHasItem': resHasItem.convert(),\n",
    "        'resSolr': resSolr\n",
    "        }\n",
    "\n",
    "item = request.items[-1]\n",
    "item\n",
    "\n",
    "res = DeleteItem(item, request.itemOf)\n",
    "res\n"
   ]
  },
  {
   "cell_type": "code",
   "execution_count": 17,
   "metadata": {},
   "outputs": [
    {
     "data": {
      "text/plain": [
       "'<?xml version=\"1.0\" encoding=\"UTF-8\"?>\\n<response>\\n\\n<lst name=\"responseHeader\">\\n  <int name=\"status\">0</int>\\n  <int name=\"QTime\">30</int>\\n</lst>\\n</response>\\n'"
      ]
     },
     "execution_count": 17,
     "metadata": {},
     "output_type": "execute_result"
    }
   ],
   "source": [
    "resSolr = solr.delete(id='item#28', commit='True')\n",
    "resSolr"
   ]
  },
  {
   "cell_type": "code",
   "execution_count": 18,
   "metadata": {},
   "outputs": [
    {
     "data": {
      "text/plain": [
       "'{\\n  \"responseHeader\":{\\n    \"status\":0,\\n    \"QTime\":80\\n  }\\n}'"
      ]
     },
     "execution_count": 18,
     "metadata": {},
     "output_type": "execute_result"
    }
   ],
   "source": [
    "d = {\n",
    "  \"id\": \"instance#51\",\n",
    "  \"_root_\": \"work#86\",\n",
    "  \"hasItem\": { \"remove\": { \"id\": \"item#28\" } }\n",
    "} \n",
    "\n",
    "resSolr = solr.add([d], commit='True')\n",
    "resSolr"
   ]
  },
  {
   "cell_type": "code",
   "execution_count": 15,
   "metadata": {},
   "outputs": [
    {
     "name": "stdout",
     "output_type": "stream",
     "text": [
      "<SPARQLWrapper.Wrapper.QueryResult object at 0x000001CE5A828830>\n",
      "{\"requestedFormat\" : 'json',\n",
      "\"response (a file-like object, as return by the urllib2.urlopen library call)\" : {\n",
      "\t\"url\" : \"http://localhost:3030/bk/update\",\n",
      "\t\"code\" : \"200\",\n",
      "\t\"headers\" : Date: Wed, 27 Mar 2024 19:29:10 GMT\n",
      "Connection: close\n",
      "Fuseki-Request-Id: 38\n",
      "Content-Type: application/json;charset=utf-8\n",
      "Vary: Accept-Encoding\n",
      "\n",
      "}}\n"
     ]
    }
   ],
   "source": [
    "for item in request.items:\n",
    "    DeleteItem(item)\n",
    "    \n",
    "\n",
    "\n",
    "    print(response)"
   ]
  },
  {
   "cell_type": "code",
   "execution_count": 15,
   "metadata": {},
   "outputs": [
    {
     "data": {
      "text/plain": [
       "<Graph identifier=Ne5bb87c69b2b4cfe9245f1658cb7e64a (<class 'rdflib.graph.Graph'>)>"
      ]
     },
     "execution_count": 15,
     "metadata": {},
     "output_type": "execute_result"
    }
   ],
   "source": [
    "url = \"http://id.loc.gov/resources/items/21876543-050-15.rdf\"\n",
    "g = Graph()\n",
    "g.parse(url)"
   ]
  },
  {
   "cell_type": "code",
   "execution_count": 16,
   "metadata": {},
   "outputs": [
    {
     "data": {
      "text/plain": [
       "<Graph identifier=Ne5bb87c69b2b4cfe9245f1658cb7e64a (<class 'rdflib.graph.Graph'>)>"
      ]
     },
     "execution_count": 16,
     "metadata": {},
     "output_type": "execute_result"
    }
   ],
   "source": [
    "g.serialize(destination='item_test.ttl')"
   ]
  },
  {
   "cell_type": "markdown",
   "metadata": {},
   "source": [
    "ITEMS"
   ]
  },
  {
   "cell_type": "code",
   "execution_count": 6,
   "metadata": {},
   "outputs": [],
   "source": [
    "req = {\n",
    "    \"itemOf\": \"instance#27\",\n",
    "    \"instanceOf\": \"work#79\",\n",
    "    \"items\": [\n",
    "        {\n",
    "            \"cdd\": \"001\",\n",
    "            \"cutter\": \"P831c\",\n",
    "            \"year\": \"1992\",\n",
    "            \"collection\": \"Obras gerais\",\n",
    "            \"shelf\": \"E1.P1\",\n",
    "            \"barcode\": \"24-2\",\n",
    "            \"adminMetadata\": {\n",
    "                \"status\": {\n",
    "                    \"value\": \"http://id.loc.gov/vocabulary/mstatus/n\",\n",
    "                    \"label\": \"Novo\"\n",
    "                }\n",
    "            }\n",
    "        }\n",
    "    ]\n",
    "}"
   ]
  },
  {
   "cell_type": "code",
   "execution_count": 7,
   "metadata": {},
   "outputs": [
    {
     "data": {
      "text/plain": [
       "'https://bibliokeia.com'"
      ]
     },
     "execution_count": 7,
     "metadata": {},
     "output_type": "execute_result"
    }
   ],
   "source": [
    "from src.schemas.catalog.items import Items_Schema\n",
    "settings = Settings()\n",
    "settings.base_url"
   ]
  },
  {
   "cell_type": "code",
   "execution_count": 15,
   "metadata": {},
   "outputs": [],
   "source": [
    "def DocItem(item, instance, work):\n",
    "\n",
    "    item_id = f'item#{item.adminMetadata.identifiedBy}'\n",
    "\n",
    "\n",
    "    doc = {\n",
    "        \"id\": item_id,\n",
    "        \"type\": \"item\",\n",
    "        \"cdd\": item.cdd,\n",
    "        \"cutter\": item.cutter,\n",
    "        \"year\": item.year,\n",
    "        \"collection\": item.collection,\n",
    "        \"shelf\": item.shelf,\n",
    "        \"barcode\": item.barcode,\n",
    "        \"itemOf\": {'id': f'{item_id}/itemOf/{instance}' \n",
    "                   } \n",
    "        }\n",
    "    \n",
    "    item_doc = {\n",
    "        \"id\": instance,\n",
    "        \"_root_\": work,\n",
    "        \"hasItem\": {\"add\": doc }\n",
    "    }\n",
    "\n",
    "    response = solr.add([item_doc], commit=True)\n",
    "    return response\n",
    "\n",
    "for item in request.items:\n",
    "    item.adminMetadata.identifiedBy = 'teste'\n",
    "    doc = DocItem(item, request.itemOf, request.instanceOf)\n"
   ]
  },
  {
   "cell_type": "code",
   "execution_count": 19,
   "metadata": {},
   "outputs": [],
   "source": [
    "solr = Solr(f'{settings.solr}/solr/catalog/', timeout=10)"
   ]
  },
  {
   "cell_type": "code",
   "execution_count": null,
   "metadata": {},
   "outputs": [],
   "source": [
    "response = solr.add([doc], commit=True)"
   ]
  },
  {
   "cell_type": "code",
   "execution_count": null,
   "metadata": {},
   "outputs": [],
   "source": [
    "from src.function.catalog.bibframe.bfAdminMetadata import BfAdminMetadata\n",
    "\n",
    "\n",
    "def MakeGraphItem(item, instance):\n",
    "    BF = Namespace(\"http://id.loc.gov/ontologies/bibframe/\")\n",
    "    identifier = f\"{settings.base_url}/items/{item.adminMetadata.identifiedBy}\"\n",
    "    resource = URIRef(identifier)\n",
    "\n",
    "    g = Graph(identifier=identifier)\n",
    "    g.bind('bf', BF)\n",
    "    g.add((resource, RDF.type, BF.Item))\n",
    "    g = BfAdminMetadata(g, item.adminMetadata, resource, BF) \n",
    "    assigner_uri = URIRef(settings.organization_loc_uri)\n",
    "    g.add((resource, BF.heldBy, assigner_uri))\n",
    "    itemOf = URIRef(f\"{settings.base_url}/instances/{instance}\")\n",
    "    g.add((resource, BF.itemOf, itemOf))\n",
    "    # CDD\n",
    "    shelfMark =  BNode()\n",
    "    g.add((resource, BF.shelfMark, shelfMark))\n",
    "    g.add((shelfMark, RDF.type, BF.ShelfMarkDdc))\n",
    "    g.add((shelfMark, RDFS.label, Literal(item.cdd)))\n",
    "    # Cutter\n",
    "    bCutter = BNode()\n",
    "    g.add((resource, BF.shelfMark, bCutter))\n",
    "    g.add((bCutter, RDF.type, BF.Classification))\n",
    "    g.add((bCutter, BF.classificationPortion, Literal(item.cutter)))\n",
    "    # Barcode\n",
    "    bNBarcode = BNode()\n",
    "    g.add((resource, BF.identifiedBy, bNBarcode))\n",
    "    g.add((bNBarcode, RDF.type, BF.Barcode))\n",
    "    g.add((bNBarcode, RDF.value, Literal(item.barcode)))\n",
    "    # shelf\n",
    "    bNsublocation = BNode()\n",
    "    g.add((resource, BF.sublocation, bNsublocation))\n",
    "    g.add((bNsublocation, RDF.type, BF.Sublocation))\n",
    "    g.add((bNsublocation, RDFS.label, Literal(item.shelf)))\n",
    "    g.add((resource, DCTERMS.isPartOf, URIRef(f\"{settings.base_url}/items\")))\n",
    "\n",
    "    graph = g.serialize(format='ttl')\n",
    "\n",
    "    return graph\n",
    "\n",
    "    \n",
    "    # print(g.serialize(format='ttl'))\n",
    "\n",
    "\n",
    "for item in request.items:\n",
    "    now = datetime.now()\n",
    "    item.adminMetadata.creationDate = now\n",
    "    item.adminMetadata.identifiedBy = \"teste\"\n",
    "    graph = MakeGraphItem(item, request.itemOf)\n",
    "    sparql = MakeCreateSparql(graph, \"teste\", \"items\")\n",
    "    \n",
    "\n",
    "    print(sparql)"
   ]
  },
  {
   "cell_type": "code",
   "execution_count": 24,
   "metadata": {},
   "outputs": [],
   "source": []
  },
  {
   "cell_type": "code",
   "execution_count": 27,
   "metadata": {},
   "outputs": [
    {
     "data": {
      "text/plain": [
       "<SPARQLWrapper.Wrapper.QueryResult at 0x287cbefa330>"
      ]
     },
     "execution_count": 27,
     "metadata": {},
     "output_type": "execute_result"
    }
   ],
   "source": [
    "response = fuseki.run_sparql(sparql) \n",
    "response"
   ]
  },
  {
   "cell_type": "markdown",
   "metadata": {},
   "source": [
    "Instance "
   ]
  },
  {
   "cell_type": "code",
   "execution_count": 14,
   "metadata": {},
   "outputs": [],
   "source": [
    "settings = Settings()"
   ]
  },
  {
   "cell_type": "code",
   "execution_count": 34,
   "metadata": {},
   "outputs": [],
   "source": [
    "req = {\n",
    "    \"instanceOf\": {\n",
    "        \"value\": \"https://bibliokeia.com/works/77\"\n",
    "    },\n",
    "    \"adminMetadata\": {\n",
    "        \"status\": {\n",
    "            \"value\": \"http://id.loc.gov/vocabulary/mstatus/n\",\n",
    "            \"label\": \"Novo\"\n",
    "        },\n",
    "        \"descriptionConventions\": {\n",
    "            \"value\": \"http://id.loc.gov/vocabulary/descriptionConventions/aacr\",\n",
    "            \"label\": \"AACr\"\n",
    "        }\n",
    "    },\n",
    "    \"resourceType\": [\n",
    "        {\n",
    "            \"value\": \"Instance\",\n",
    "            \"label\": \"Instância\"\n",
    "        },\n",
    "        {\n",
    "            \"value\": \"Print\",\n",
    "            \"label\": \"Impresso\"\n",
    "        }\n",
    "    ],\n",
    "    \"title\": {\n",
    "        \"mainTitle\": \"Sol de feira\"\n",
    "    },\n",
    "    \"physicalDetails\": {\n",
    "        \"carrier\": {\n",
    "            \"value\": \"http://id.loc.gov/vocabulary/carriers/nc\",\n",
    "            \"label\": \"Volume\"\n",
    "        },\n",
    "        \"extent\": \"124 p.\",\n",
    "        \"issuance\": {\n",
    "            \"value\": \"http://id.loc.gov/vocabulary/issuance/mono\",\n",
    "            \"label\": \"Unidade única\"\n",
    "        },\n",
    "        \"media\": {\n",
    "            \"value\": \"http://id.loc.gov/vocabulary/mediaTypes/n\",\n",
    "            \"label\": \"Não mediado\"\n",
    "        }\n",
    "    },\n",
    "    \"provisionActivity\": [\n",
    "        {\n",
    "            \"place\": \"Brasília\",\n",
    "            \"agent\": \"Editora Universidade de Brasília\",\n",
    "            \"date\": \"2012\"\n",
    "        }\n",
    "    ],\n",
    "    \"editionStatement\": {\n",
    "        \"value\": \"1. ed.\"\n",
    "    },\n",
    "    \"responsibilityStatement\": {\n",
    "        \"value\": \"Karl Raymund Popper\"\n",
    "    },\n",
    "    \"note\": [\n",
    "        {\n",
    "            \"value\": \"Este é um registro de teste\"\n",
    "        }\n",
    "    ],\n",
    "    \"image\": {\n",
    "        \"cover\": \"https://m.media-amazon.com/images/I/61vzOtbbfKL._SY466_.jpg\"\n",
    "    }\n",
    "}"
   ]
  },
  {
   "cell_type": "code",
   "execution_count": 35,
   "metadata": {},
   "outputs": [
    {
     "data": {
      "text/plain": [
       "'https://bibliokeia.com/works/77'"
      ]
     },
     "execution_count": 35,
     "metadata": {},
     "output_type": "execute_result"
    }
   ],
   "source": [
    "request = BfInstance(**req)\n",
    "now = datetime.now()\n",
    "request.adminMetadata.creationDate = now\n",
    "request.adminMetadata.identifiedBy = \"teste\"\n",
    "request.instanceOf.value"
   ]
  },
  {
   "cell_type": "code",
   "execution_count": 36,
   "metadata": {},
   "outputs": [
    {
     "data": {
      "text/plain": [
       "BfElement(value='https://bibliokeia.com/works/77', label=None)"
      ]
     },
     "execution_count": 36,
     "metadata": {},
     "output_type": "execute_result"
    }
   ],
   "source": [
    "request.instanceOf"
   ]
  },
  {
   "cell_type": "code",
   "execution_count": 10,
   "metadata": {},
   "outputs": [
    {
     "data": {
      "text/plain": [
       "{'id': 'instance#teste/instanceOf/work#76',\n",
       " 'uri': 'https://bibliokeia.com/works/76',\n",
       " 'label': None}"
      ]
     },
     "execution_count": 10,
     "metadata": {},
     "output_type": "execute_result"
    }
   ],
   "source": [
    "work_id = f'work#{request.instanceOf.value.split(\"/\")[-1]}'\n",
    "instance_id = f'instance#{request.adminMetadata.identifiedBy}'\n",
    "instanceOf = {\n",
    "    'id': f'{instance_id}/instanceOf/{work_id}', \n",
    "    'uri': request.instanceOf.value, \n",
    "    'label': request.instanceOf.label\n",
    "    } \n",
    "instanceOf\n"
   ]
  },
  {
   "cell_type": "code",
   "execution_count": null,
   "metadata": {},
   "outputs": [],
   "source": [
    "def DocInstance(request):\n",
    "\n",
    "    work_id = f'work#{request.instanceOf.value.split(\"/\")[-1]}'\n",
    "    instance_id = f'instance#{request.adminMetadata.identifiedBy}'\n",
    "    provisionActivity = request.provisionActivity[0]\n",
    "    instanceOf = {\n",
    "    'id': f'{instance_id}/instanceOf/{work_id}', \n",
    "    'uri': request.instanceOf.value, \n",
    "    'label': request.instanceOf.label\n",
    "    } \n",
    "\n",
    "    doc = {\n",
    "        \"id\": instance_id,\n",
    "        # \"creationDate\": request.adminMetadata.creationDate.strftime(\"%Y-%m-%dT%H:%M:%S\"),\n",
    "        \"type\": [i.value for i in request.resourceType],\n",
    "        \"mainTitle\": request.title.mainTitle,\n",
    "        \"subtitle\": request.title.subtitle if request.title.subtitle != \"\" else None,\n",
    "        \"carrier\": request.physicalDetails.carrier.label,\n",
    "        \"extent\": request.physicalDetails.extent,\n",
    "        \"issuance\": request.physicalDetails.issuance.label,\n",
    "        \"media\": request.physicalDetails.media.label,\n",
    "        \"publicationAgent\": provisionActivity.agent,\n",
    "        \"publicationDate\": provisionActivity.date,\n",
    "        \"publicationPlace\": provisionActivity.place,      \n",
    "        # \"serie\": request.seriesStatement,\n",
    "        \"image\": request.image.cover,\n",
    "        \"instanceOf\": instanceOf\n",
    "        }\n",
    "\n",
    "    \n",
    "    work = {\n",
    "        \"id\": work_id,\n",
    "        \"hasInstance\": {\"add\": doc }\n",
    "    }\n",
    "\n",
    "    response = solr.add([work], commit=True)\n",
    "    return response\n",
    "\n",
    "doc = DocInstance(request)\n",
    "doc"
   ]
  },
  {
   "cell_type": "code",
   "execution_count": 38,
   "metadata": {},
   "outputs": [],
   "source": [
    "solr = Solr(f'{settings.solr}/solr/catalog/', timeout=10)"
   ]
  },
  {
   "cell_type": "code",
   "execution_count": 21,
   "metadata": {},
   "outputs": [],
   "source": [
    "response = solr.add([doc], commit=True)"
   ]
  },
  {
   "cell_type": "code",
   "execution_count": null,
   "metadata": {},
   "outputs": [],
   "source": [
    "work = {\n",
    "        \"id\": \"work#77\",\n",
    "        \"hasInstance\": {\"add\": doc }\n",
    "    }\n",
    "work"
   ]
  },
  {
   "cell_type": "code",
   "execution_count": 48,
   "metadata": {},
   "outputs": [],
   "source": [
    "response = solr.add([work], commit=True)"
   ]
  },
  {
   "cell_type": "code",
   "execution_count": null,
   "metadata": {},
   "outputs": [],
   "source": [
    "work = {\n",
    "        \"id\": work_id,\n",
    "        \"hasInstance\": {\"add\": {\n",
    "            'id': 'work#76',\n",
    "            'mainTitle': 'Conjecturas e refutações'\n",
    "            }}\n",
    "    }\n",
    "response = solr.add([work], commit=True)"
   ]
  },
  {
   "cell_type": "code",
   "execution_count": 33,
   "metadata": {},
   "outputs": [
    {
     "data": {
      "text/plain": [
       "'work#76'"
      ]
     },
     "execution_count": 33,
     "metadata": {},
     "output_type": "execute_result"
    }
   ],
   "source": [
    "work = {\n",
    "        \"id\": work_id,\n",
    "        \"hasInstance\": {\n",
    "            \"remove\": {\n",
    "            'id': 'work#76',\n",
    "            'mainTitle': 'Conjecturas e refutações'\n",
    "            }}\n",
    "    }\n",
    "response = solr.add([work], commit=True)"
   ]
  },
  {
   "cell_type": "code",
   "execution_count": 67,
   "metadata": {},
   "outputs": [],
   "source": [
    "class BfElement(BaseModel):\n",
    "    value: str\n",
    "    label: Optional[str] = None\n",
    "    \n",
    "class AdminMetadata(BaseModel):\n",
    "    creationDate: datetime = None\n",
    "    status: BfElement\n",
    "    descriptionConventions: BfElement\n",
    "    identifiedBy: Optional[str] = None\n",
    "\n",
    "class Title(BaseModel):\n",
    "    mainTitle: str\n",
    "    subtitle: Optional[str] = None\n",
    "\n",
    "class PhysicalDetails(BaseModel):\n",
    "    carrier: BfElement\n",
    "    extent: str\n",
    "    issuance: BfElement\n",
    "    media: BfElement\n",
    "\n",
    "class ProvisionActivity(BaseModel):\n",
    "    place: str\n",
    "    agent: str\n",
    "    date: str    \n",
    "\n",
    "class EditionStatement(BaseModel):\n",
    "    value: str\n",
    "\n",
    "class BfInstance(BaseModel):\n",
    "    resourceType: list[BfElement]\n",
    "    adminMetadata: AdminMetadata\n",
    "    title: Title\n",
    "    variantTitle: Optional[list[Title]] = None\n",
    "    physicalDetails: PhysicalDetails\n",
    "    provisionActivity: list[ProvisionActivity]\n",
    "    editionStatement: BfElement\n",
    "    responsibilityStatement: BfElement\n",
    "    note: list[BfElement]\n",
    "    instanceOf: BfElement\n",
    "\n",
    "request = BfInstance(**req)\n"
   ]
  },
  {
   "cell_type": "code",
   "execution_count": 40,
   "metadata": {},
   "outputs": [],
   "source": [
    "def BFPhysicalDetails(g, resource, physicalDetails, BF):\n",
    "    carrier = URIRef(physicalDetails.carrier.value)\n",
    "    g.add((carrier, RDF.type, BF.Carrier))\n",
    "    g.add((carrier, RDFS.label, Literal(physicalDetails.carrier.label)))\n",
    "    g.add((resource, BF.carrier, carrier))\n",
    "\n",
    "    extent = BNode()\n",
    "    g.add((resource, BF.extent, extent))\n",
    "    g.add((extent, RDF.type, BF.Extent))\n",
    "    g.add((extent, RDFS.label, Literal(physicalDetails.extent)))\n",
    "\n",
    "    media = URIRef(physicalDetails.media.value)\n",
    "    g.add((media, RDF.type, BF.Media))\n",
    "    g.add((media, RDFS.label, Literal(physicalDetails.media.label)))\n",
    "    g.add((resource, BF.media, media))\n",
    "    \n",
    "    return g\n"
   ]
  },
  {
   "cell_type": "code",
   "execution_count": 54,
   "metadata": {},
   "outputs": [],
   "source": [
    "def BFNote(g, resource, notes, BF):\n",
    "    for note in notes:\n",
    "        bnNote = BNode()\n",
    "        g.add((resource, BF.note, bnNote))\n",
    "        g.add((bnNote, RDF.type, BF.Note))\n",
    "        g.add((bnNote, RDFS.label, Literal(note.value)))\n",
    "    return g\n",
    "        \n"
   ]
  },
  {
   "cell_type": "code",
   "execution_count": 57,
   "metadata": {},
   "outputs": [],
   "source": [
    "def BfProvisionActivity(g, resource, provisionActivity, BF):\n",
    "    for i in provisionActivity:\n",
    "        bnProvisionActivity = BNode()\n",
    "        g.add((bnProvisionActivity, RDF.type, BF.ProvisionActivity))\n",
    "        g.add((bnProvisionActivity, RDF.type, BF.Publication))\n",
    "        # Editor\n",
    "        bnAgent = BNode()\n",
    "        g.add((bnProvisionActivity, BF.agent, bnAgent))\n",
    "        g.add((bnAgent, RDF.type, BF.Agent))\n",
    "        g.add((bnAgent, RDFS.label, Literal(i.agent)))\n",
    "        # Date\n",
    "        g.add((bnProvisionActivity, BF.date, Literal(i.date)))\n",
    "        # Place\n",
    "        bnPlace = BNode()\n",
    "        g.add((bnProvisionActivity, BF.place, bnPlace))\n",
    "        g.add((bnPlace, RDF.type, BF.Place))\n",
    "        g.add((bnPlace, RDFS.label, Literal(i.place)))\n",
    "        g.add((resource, BF.provisionActivity, bnProvisionActivity))\n",
    "    \n",
    "    return g"
   ]
  },
  {
   "cell_type": "code",
   "execution_count": 61,
   "metadata": {},
   "outputs": [],
   "source": [
    "from src.function.catalog.bibframe.bfTitle import BfTitle\n",
    "from src.function.catalog.bibframe.bfAdminMetadata import BfAdminMetadata\n",
    "from src.function.catalog.bibframe.bfType import BfType\n",
    "\n",
    "\n",
    "def MakeGraphInstance(request):\n",
    "\n",
    "    BF = Namespace(\"http://id.loc.gov/ontologies/bibframe/\")\n",
    "    identifier = f\"https://bibliokeia/works/{request.adminMetadata.identifiedBy}\"\n",
    "    resource = URIRef(identifier)\n",
    "\n",
    "    g = Graph(identifier=identifier)\n",
    "    g.bind('bf', BF)\n",
    "    \n",
    "    # resourceType\n",
    "    BfType(g, resource, request.resourceType)\n",
    "    # AdminMetadata\n",
    "    g = BfAdminMetadata(g, request.adminMetadata, resource, BF) \n",
    "    # Title\n",
    "    g = BfTitle(g, request, resource, BF)  \n",
    "    \n",
    "    # PhysicalDetails\n",
    "    g = BFPhysicalDetails(g, resource, request.physicalDetails, BF)\n",
    "    g = BFNote(g, resource, request.note, BF)\n",
    "    g = BFProvisionActivity(g, resource, request.provisionActivity, BF)\n",
    "    g.add((resource, DCTERMS.isPartOf, URIRef(\"http://bibliokeia/resources/instances\")))\n",
    "\n",
    " \n",
    "    graph = g.serialize(format='ttl')\n",
    "    # g.serialize(destination=\"instance_test.ttl\", format='ttl')\n",
    "\n",
    "    return graph\n",
    "\n",
    "graph = MakeGraphInstance(request)"
   ]
  },
  {
   "cell_type": "code",
   "execution_count": 65,
   "metadata": {},
   "outputs": [
    {
     "name": "stdout",
     "output_type": "stream",
     "text": [
      "\n",
      "        PREFIX bf: <http://id.loc.gov/ontologies/bibframe/>  \n",
      "        PREFIX rdf: <http://www.w3.org/1999/02/22-rdf-syntax-ns#>\n",
      "        PREFIX rdfs: <http://www.w3.org/2000/01/rdf-schema#>\n",
      "        PREFIX xsd: <http://www.w3.org/2001/XMLSchema#>\n",
      "\n",
      "        INSERT DATA {\n",
      "            GRAPH <https://bibliokeia.com/instance/teste> \n",
      "            {\n",
      "                <https://bibliokeia/works/teste> a bf:Instance,\n",
      "        bf:Print ;\n",
      "    bf:adminMetadata [ a bf:AdminMetadata ;\n",
      "            bf:assigner <http://id.loc.gov/vocabulary/organizations/brmninpa> ;\n",
      "            bf:creationDate \"2024-03-19\"^^xsd:date ;\n",
      "            bf:descriptionConventions <http://id.loc.gov/vocabulary/descriptionConventions/aacr> ;\n",
      "            bf:generationProcess [ a bf:GenerationProcess ;\n",
      "                    rdfs:label \"BiblioKeia\" ;\n",
      "                    bf:generationDate \"2024-03-19T09:33:41\"^^xsd:dateTime ] ;\n",
      "            bf:identifiedBy [ a bf:Local ;\n",
      "                    bf:assigner <http://id.loc.gov/vocabulary/organizations/brmninpa> ;\n",
      "                    rdf:value \"teste\" ] ;\n",
      "            bf:status <http://id.loc.gov/vocabulary/mstatus/n> ] ;\n",
      "    bf:carrier <http://id.loc.gov/vocabulary/carriers/nc> ;\n",
      "    bf:extent [ a bf:Extent ;\n",
      "            rdfs:label \"449 p.\" ] ;\n",
      "    bf:media <http://id.loc.gov/vocabulary/mediaTypes/n> ;\n",
      "    bf:note [ a bf:Note ;\n",
      "            rdfs:label \"Este é um registro de teste\" ] ;\n",
      "    bf:provisionActivity [ a bf:ProvisionActivity,\n",
      "                bf:Publication ;\n",
      "            bf:agent [ a bf:Agent ;\n",
      "                    rdfs:label \"Editora Universidade de Brasília\" ] ;\n",
      "            bf:date \"1992\" ;\n",
      "            bf:place [ a bf:Place ;\n",
      "                    rdfs:label \"Brasília\" ] ] ;\n",
      "    bf:title [ a bf:Title ;\n",
      "            bf:mainTitle \"Conjecturas e refutações\" ] ;\n",
      "    dcterms:isPartOf <http://bibliokeia/resources/instances> .\n",
      "\n",
      "<http://id.loc.gov/vocabulary/carriers/nc> a bf:Carrier ;\n",
      "    rdfs:label \"Volume\" .\n",
      "\n",
      "<http://id.loc.gov/vocabulary/descriptionConventions/aacr> a bf:DescriptionConventions ;\n",
      "    rdfs:label \"AACr\" .\n",
      "\n",
      "<http://id.loc.gov/vocabulary/mediaTypes/n> a bf:Media ;\n",
      "    rdfs:label \"Não mediado\" .\n",
      "\n",
      "<http://id.loc.gov/vocabulary/mstatus/n> a bf:Status ;\n",
      "    rdfs:label \"Novo\" .\n",
      "\n",
      "<http://id.loc.gov/vocabulary/organizations/brmninpa> a bf:Organization ;\n",
      "    rdfs:label \"Instituto Nacional de Pesquisas da Amazônia\" .\n",
      "\n",
      " } } \n"
     ]
    }
   ],
   "source": [
    "sparql = MakeCreateSparql(graph, \"teste\", \"instance\")\n",
    "print(sparql)"
   ]
  },
  {
   "cell_type": "code",
   "execution_count": 17,
   "metadata": {},
   "outputs": [],
   "source": [
    "class ResourceProperties(BaseModel):\n",
    "    content: BfElement\n",
    "    genreForm: Optional[BfElement] = None\n",
    "\n",
    "class Contribution(BaseModel):\n",
    "    term: BfElement\n",
    "    role: BfElement\n",
    "\n",
    "class Subject(BaseModel):\n",
    "    type: str\n",
    "    lang: str\n",
    "    term: BfElement\n",
    "\n",
    "class Classification(BaseModel):\n",
    "    cdd: str\n",
    "    cutter: str\n",
    "\n",
    "class BfWork(BaseModel):\n",
    "    resourceType: list[BfElement]\n",
    "    adminMetadata: AdminMetadata\n",
    "    title: Title\n",
    "    variantTitle: Optional[list[Title]] = None\n",
    "    language: list[BfElement]\n",
    "    genreForm: list[BfElement] = None\n",
    "    contribution: Optional[list[Contribution]] = None\n",
    "    subject: Optional[list[Subject]] = None\n",
    "    classification: Classification\n",
    "    note: Optional[str] = None\n",
    "    summary: Optional[str] = None\n",
    "    tableOfContents: Optional[str] = None\n",
    "\n"
   ]
  },
  {
   "cell_type": "code",
   "execution_count": 18,
   "metadata": {},
   "outputs": [],
   "source": []
  },
  {
   "cell_type": "code",
   "execution_count": 21,
   "metadata": {},
   "outputs": [],
   "source": [
    "request.adminMetadata.creationDate"
   ]
  },
  {
   "cell_type": "code",
   "execution_count": 4,
   "metadata": {},
   "outputs": [],
   "source": [
    "settings = Settings()"
   ]
  },
  {
   "cell_type": "code",
   "execution_count": 22,
   "metadata": {},
   "outputs": [],
   "source": [
    "\n",
    "\n",
    "def BfGenreForm(g, resource, genreForm, BF):\n",
    "    for i in genreForm:\n",
    "        uri = URIRef(i.value)\n",
    "        g.add((uri, RDF.type, BF.GenreForm ))\n",
    "        g.add((uri, RDFS.label, Literal(i.label)))\n",
    "        g.add((resource, BF.genreForm, uri))\n",
    "    return g\n",
    "\n",
    "\n",
    "def BfAdminMetadata(g, adminMetadata, resource, BF):\n",
    "    now = datetime.now()  \n",
    "\n",
    "    bNadminMetadata = BNode()\n",
    "    g.add((resource, BF.adminMetadata, bNadminMetadata))\n",
    "    g.add((bNadminMetadata, RDF.type, BF.AdminMetadata ))\n",
    "    # assigner\n",
    "    assigner_uri = URIRef(settings.organization_loc_uri)\n",
    "    g.add((assigner_uri, RDF.type, BF.Organization))\n",
    "    g.add((assigner_uri, RDFS.label, Literal(settings.organization)))\n",
    "    g.add((bNadminMetadata, BF.assigner, assigner_uri ))\n",
    "    # creationDate\n",
    "    formatted_date = now.strftime(\"%Y-%m-%d\")\n",
    "    g.add((bNadminMetadata, BF.creationDate, Literal(formatted_date, datatype=XSD.date) ))\n",
    "    # descriptionConventions\n",
    "    descriptionConventions = URIRef(adminMetadata.descriptionConventions.value)\n",
    "    g.add((descriptionConventions, RDF.type, BF.DescriptionConventions ))\n",
    "    g.add((descriptionConventions, RDFS.label, Literal(adminMetadata.descriptionConventions.label) ))\n",
    "    g.add((bNadminMetadata, BF.descriptionConventions, descriptionConventions ))\n",
    "    # generationProcess\n",
    "    formatted_dateTime = now.strftime(\"%Y-%m-%dT%H:%M:%S\")\n",
    "    generationProcess = BNode() \n",
    "    g.add((bNadminMetadata, BF.generationProcess, generationProcess))\n",
    "    g.add((generationProcess, RDF.type, BF.GenerationProcess))\n",
    "    g.add((generationProcess, RDFS.label, Literal(settings.app_name) ))\n",
    "    g.add((generationProcess, BF.generationDate, Literal(formatted_dateTime, datatype=XSD.dateTime) ))\n",
    "    # identifiedBy\n",
    "    identifiedBy =  BNode() \n",
    "    g.add((bNadminMetadata, BF.identifiedBy, identifiedBy))\n",
    "    g.add((identifiedBy, RDF.type, BF.Local))\n",
    "    g.add((identifiedBy, BF.assigner, assigner_uri))\n",
    "    g.add((identifiedBy, RDF.value, Literal(adminMetadata.identifiedBy)))\n",
    "    # status\n",
    "    status = URIRef(adminMetadata.status.value)\n",
    "    g.add((status, RDF.type, BF.Status))\n",
    "    g.add((status, RDFS.label, Literal(adminMetadata.status.label)))\n",
    "    g.add((bNadminMetadata, BF.status, status))\n",
    "\n",
    "    return g\n",
    "\n",
    "def BfTitle(g, resource, BF):\n",
    "    title = BNode()\n",
    "    g.add((resource, BF.title, title))\n",
    "    g.add((title, RDF.type, BF.Title))\n",
    "    g.add((title, BF.mainTitle, Literal(title.mainTitle)))\n",
    "    if request.title.subtitle:\n",
    "        g.add((title, BF.subtitle, Literal(request.title.subtitle)))\n",
    "    if request.variantTitle:\n",
    "        for i in request.variantTitle:\n",
    "            variantTitle = BNode()\n",
    "            g.add((resource, BF.title, variantTitle))\n",
    "            g.add((variantTitle, RDF.type, BF.VariantTitle))\n",
    "            g.add((variantTitle, BF.mainTitle, Literal(i.mainTitle)))\n",
    "            if i.subtitle:\n",
    "                g.add((variantTitle, BF.subtitle, Literal(i.subtitle)))\n",
    "\n",
    "    return g\n",
    "\n",
    "def BFLanguage(g, resource, BF):\n",
    "    for i in request.language:\n",
    "        language = URIRef(f\"http://id.loc.gov/vocabulary/languages/{i.value}\")\n",
    "        g.add((language, RDF.type, BF.Language))\n",
    "        g.add((language, RDFS.label, Literal(i.label)))\n",
    "        g.add((resource, BF.language, language ))\n",
    "    return g  \n",
    "\n",
    "def BFContribution(g, resource, BF):\n",
    "    for i in request.contribution:\n",
    "        contribution = BNode()\n",
    "        g.add((resource, BF.contribution, contribution))\n",
    "        g.add((contribution, RDF.type, BF.Contribution))\n",
    "        agent = URIRef(i.term.value)\n",
    "        g.add((agent, RDF.type, BF.Agent))\n",
    "        g.add((agent, RDF.type, BF.Person))\n",
    "        g.add((agent, RDFS.label, Literal(i.term.label)))\n",
    "        g.add((contribution, BF.agent, agent))\n",
    "        role = URIRef(i.role.value)\n",
    "        g.add((role, RDF.type, BF.Role))\n",
    "        g.add((role, RDFS.label, Literal(i.role.label)))\n",
    "        g.add((contribution, BF.role, role))\n",
    "\n",
    "    return g\n",
    "\n",
    "def BFSubject(g, resource, BF):\n",
    "    for i in request.subject:\n",
    "        subject = URIRef(i.term.value)\n",
    "        g.add((subject, RDF.type, BF.Topic))\n",
    "        g.add((subject, RDFS.label, Literal(i.term.label, lang=i.lang)))\n",
    "        g.add((resource, BF.subject, subject))\n",
    "\n",
    "    return g\n",
    "\n",
    "def BfClassification(g, resource, classification, BF):\n",
    "    cdd = BNode()\n",
    "    g.add((resource, BF.classification, cdd))\n",
    "    g.add((cdd, RDF.type, BF.ClassificationDdc))\n",
    "    g.add((cdd, BF.classificationPortion, Literal(classification.cdd)))\n",
    "    cutter = BNode()\n",
    "    g.add((resource, BF.classification, cutter))\n",
    "    g.add((cutter, RDF.type, BF.Classification))\n",
    "    g.add((cutter, BF.classificationPortion, Literal(classification.cutter)))\n",
    "    return g\n",
    "\n"
   ]
  },
  {
   "cell_type": "code",
   "execution_count": null,
   "metadata": {},
   "outputs": [],
   "source": [
    "def MakeGraphWork(request):\n",
    "\n",
    "    BF = Namespace(\"http://id.loc.gov/ontologies/bibframe/\")\n",
    "    identifier = f\"https://bibliokeia/works/{request.adminMetadata.identifiedBy}\"\n",
    "    resource = URIRef(identifier)\n",
    "\n",
    "    g = Graph(identifier=identifier)\n",
    "    g.bind('bf', BF)\n",
    "    \n",
    "    # resourceType\n",
    "    BfType(g, resource, request.resourceType)\n",
    "    # AdminMetadata\n",
    "    g = BfAdminMetadata(g, request.adminMetadata, request, resource, BF) \n",
    "    # BfClassification\n",
    "    g = BfClassification(g, resource, request.classification, BF)\n",
    "    # Title\n",
    "    g = BfTitle(g, request, resource, BF)\n",
    "    # Language\n",
    "    g = BFLanguage(g, request.language, resource, BF)\n",
    "    # Contribution\n",
    "    g = BFContribution(g, request.contribution, resource, BF)\n",
    "    # Subject\n",
    "    g = BFSubject(g, request.subject, resource, BF) \n",
    "    # GenreForm\n",
    "    if request.genreForm and request.genreForm.valeu != \"\":\n",
    "        g = BfGenreForm(g, resource, request.genreForm, BF)    \n",
    " \n",
    "    graph = g.serialize(format='ttl')\n",
    "    # g.serialize(destination=\"work_test.ttl\", format='ttl')\n",
    "\n",
    "    return graph\n",
    "\n",
    "def MakeSparql(graph, ):\n",
    "    graph = graph.split(\"\\n\\n\")\n",
    "    graph = \"\\n\\n\".join(graph[1:])\n",
    "\n",
    "    graph = f\"\"\"\n",
    "        PREFIX bf: <http://id.loc.gov/ontologies/bibframe/>  \n",
    "        PREFIX rdf: <http://www.w3.org/1999/02/22-rdf-syntax-ns#>\n",
    "        PREFIX rdfs: <http://www.w3.org/2000/01/rdf-schema#>\n",
    "        PREFIX xsd: <http://www.w3.org/2001/XMLSchema#>\n",
    "\n",
    "        INSERT DATA {{\n",
    "            GRAPH <https://bibliokeia/works/10> \n",
    "            {{\n",
    "                {graph} }} }} \"\"\"\n",
    "\n",
    "    return graph\n",
    "\n",
    "\n",
    "graph = MakeGraphWork(request)\n",
    "sparql = MakeSparql(graph)\n",
    "print(sparql)"
   ]
  },
  {
   "cell_type": "code",
   "execution_count": 27,
   "metadata": {},
   "outputs": [
    {
     "data": {
      "text/plain": [
       "{'statusCode': 200, 'message': 'Update succeeded'}"
      ]
     },
     "execution_count": 27,
     "metadata": {},
     "output_type": "execute_result"
    }
   ],
   "source": [
    "fuseki = FusekiUpdate(\"http://localhost:3030\" , 'bk') \n",
    "response = fuseki.run_sparql(sparql) \n",
    "response.convert()"
   ]
  },
  {
   "cell_type": "code",
   "execution_count": 50,
   "metadata": {},
   "outputs": [
    {
     "data": {
      "text/plain": [
       "<Graph identifier=Nf8a4447e118c409ab437162e76a2afcd (<class 'rdflib.graph.Graph'>)>"
      ]
     },
     "execution_count": 50,
     "metadata": {},
     "output_type": "execute_result"
    }
   ],
   "source": [
    "# url = 'http://localhost:3030/bk/data?graph=https:%2F%2Fbibliokeia%2Fworks%2F10'\n",
    "url = \"http://id.loc.gov/resources/works/21984730.rdf\"\n",
    "g = Graph()\n",
    "g.parse(url)"
   ]
  },
  {
   "cell_type": "code",
   "execution_count": 37,
   "metadata": {},
   "outputs": [
    {
     "name": "stdout",
     "output_type": "stream",
     "text": [
      "DOC: {'id': 'work#teste', 'creationDate': '2024-03-14T10:35:59', 'type': ['Work', 'Text'], 'mainTitle': 'Conjecturas e refutações', 'language': ['Português'], 'subtitle': None, 'cdd': '001', 'cutter': 'P831c', 'note': None, 'summary': None, 'tableOfContents': None, 'isPartOf': 'Work', 'contribution': [{'id': 'work#teste/contribution/10', 'agent': 'https://bibliokeia.com/authority/PersonalName/10', 'label': 'Popper, Karl R.', 'role': 'http://id.loc.gov/vocabulary/relators/aut', 'roleLabel': 'Autor'}, {'id': 'work#teste/contribution/12', 'agent': 'https://bibliokeia.com/authority/PersonalName/12', 'label': 'Bath, Sérgio', 'role': 'http://id.loc.gov/vocabulary/relators/trl', 'roleLabel': 'Tradutor'}], 'subject': [{'id': 'work#teste/subject/11', 'type': 'Topic', 'uri': 'https://bibliokeia.com/authority/Topic/11', 'label': 'Metodologia'}]}\n"
     ]
    }
   ],
   "source": [
    "def DocWork(request, work_id):\n",
    "\n",
    "    work_id = f'work#{work_id}'\n",
    "\n",
    "    doc = {\n",
    "        \"id\": work_id,\n",
    "        \"creationDate\": request.adminMetadata.creationDate.strftime(\"%Y-%m-%dT%H:%M:%S\"),\n",
    "        \"type\": [i.value for i in request.resourceType],\n",
    "        # \"content\": request.content.label,\n",
    "        \"mainTitle\": request.title.mainTitle,\n",
    "        'language': [i.label for i in request.language],\n",
    "        \"subtitle\": request.title.subtitle,\n",
    "        \"cdd\": request.classification.cdd,\n",
    "        \"cutter\": request.classification.cutter,\n",
    "        \"note\": request.note,\n",
    "        \"summary\": request.summary,\n",
    "        \"tableOfContents\": request.tableOfContents,\n",
    "        # \"supplementaryContent\": [i.label for i in request.supplementaryContent] if request.supplementaryContent else None,\n",
    "        # \"illustrativeContent\": [i.label for i in request.illustrativeContent] if request.illustrativeContent else None,\n",
    "        # \"intendedAudience\": [i.label for i in request.intendedAudience] if request.intendedAudience else None,\n",
    "        # \"geographicCoverage\": [i.label for i in request.geographicCoverage] if request.geographicCoverage else None,\n",
    "        \"isPartOf\": \"Work\"\n",
    "\n",
    "    }\n",
    "    # contribution\n",
    "    if request.contribution:\n",
    "        contributions = list()\n",
    "        for i in request.contribution:\n",
    "            c = {\"id\": f\"{work_id}/contribution/{i.term.value.split('/')[-1]}\",\n",
    "                 \"agent\": i.term.value,\n",
    "                 \"label\": i.term.label,\n",
    "                 \"role\": i.role.value,\n",
    "                 \"roleLabel\": i.role.label}\n",
    "            contributions.append(c)\n",
    "        doc['contribution'] = contributions\n",
    "\n",
    "    # subject\n",
    "    if request.subject:\n",
    "        subjects = list()\n",
    "        for i in request.subject:\n",
    "            s = {\"id\": f\"{work_id}/subject/{i.term.value.split('/')[-1]}\",\n",
    "                 \"type\": i.type,\n",
    "                 \"uri\": i.term.value,\n",
    "                 \"label\": i.term.label}\n",
    "            subjects.append(s)\n",
    "        doc['subject'] = subjects\n",
    "\n",
    "    if request.genreForm:\n",
    "        pass\n",
    "\n",
    "    responseSolr = solr.add([doc], commit=True)\n",
    "\n",
    "    return responseSolr\n",
    "\n",
    "doc = DocWork(request, \"teste\")"
   ]
  },
  {
   "cell_type": "code",
   "execution_count": 39,
   "metadata": {},
   "outputs": [],
   "source": [
    "solr = Solr(f'{settings.solr}/solr/catalog/', timeout=10)"
   ]
  },
  {
   "cell_type": "code",
   "execution_count": 40,
   "metadata": {},
   "outputs": [
    {
     "data": {
      "text/plain": [
       "'{\\n  \"responseHeader\":{\\n    \"status\":0,\\n    \"QTime\":82\\n  }\\n}'"
      ]
     },
     "execution_count": 40,
     "metadata": {},
     "output_type": "execute_result"
    }
   ],
   "source": [
    "responseSolr = solr.add([doc], commit=True)\n",
    "responseSolr"
   ]
  },
  {
   "cell_type": "code",
   "execution_count": 13,
   "metadata": {},
   "outputs": [
    {
     "data": {
      "text/plain": [
       "'08/03/2024'"
      ]
     },
     "execution_count": 13,
     "metadata": {},
     "output_type": "execute_result"
    }
   ],
   "source": [
    "request.adminMetadata.creationDate"
   ]
  }
 ],
 "metadata": {
  "kernelspec": {
   "display_name": "venv",
   "language": "python",
   "name": "python3"
  },
  "language_info": {
   "codemirror_mode": {
    "name": "ipython",
    "version": 3
   },
   "file_extension": ".py",
   "mimetype": "text/x-python",
   "name": "python",
   "nbconvert_exporter": "python",
   "pygments_lexer": "ipython3",
   "version": "3.12.0"
  }
 },
 "nbformat": 4,
 "nbformat_minor": 2
}
