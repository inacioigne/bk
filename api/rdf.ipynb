{
 "cells": [
  {
   "cell_type": "code",
   "execution_count": 6,
   "metadata": {},
   "outputs": [],
   "source": [
    "from pydantic import BaseModel\n",
    "from typing import Optional\n",
    "from rdflib import URIRef, BNode, Literal, Namespace, Graph\n",
    "from rdflib.namespace import RDF, RDFS\n",
    "from pyfuseki import FusekiUpdate\n",
    "from rdflib.plugins.stores import sparqlstore\n",
    "from rdflib.namespace import XSD\n",
    "from datetime import datetime\n",
    "from src.schemas.settings import Settings\n"
   ]
  },
  {
   "cell_type": "code",
   "execution_count": 2,
   "metadata": {},
   "outputs": [],
   "source": [
    "class BfElement(BaseModel):\n",
    "    value: str\n",
    "    label: str\n",
    "\n",
    "class AdminMetadata(BaseModel):\n",
    "    creationDate: str\n",
    "    status: BfElement\n",
    "    descriptionConventions: BfElement\n",
    "    identifiedBy: str\n",
    "\n",
    "\n",
    "class BfWork(BaseModel):\n",
    "    resourceType: list[BfElement]\n",
    "    adminMetadata: AdminMetadata\n"
   ]
  },
  {
   "cell_type": "code",
   "execution_count": 3,
   "metadata": {},
   "outputs": [],
   "source": [
    "req = {\n",
    "    \"resourceType\": [\n",
    "        {\n",
    "            \"value\": \"Work\",\n",
    "            \"label\": \"Obra\"\n",
    "        },\n",
    "        {\n",
    "            \"value\": \"Text\",\n",
    "            \"label\": \"Texto\"\n",
    "        }\n",
    "    ],\n",
    "    \"adminMetadata\": {\n",
    "        \"creationDate\": \"2024-03-09\",\n",
    "        \"status\": {\n",
    "            \"value\": \"http://id.loc.gov/vocabulary/mstatus/n\",\n",
    "            \"label\": \"Novo\"\n",
    "        },\n",
    "        \"descriptionConventions\": {\n",
    "            \"value\": \"http://id.loc.gov/vocabulary/descriptionConventions/aacr\",\n",
    "            \"label\": \"AACr\"\n",
    "        },\n",
    "        \"identifiedBy\": \"1\"\n",
    "    }\n",
    "}"
   ]
  },
  {
   "cell_type": "code",
   "execution_count": 7,
   "metadata": {},
   "outputs": [],
   "source": [
    "request = BfWork(**req)\n",
    "\n",
    "settings = Settings()"
   ]
  },
  {
   "cell_type": "code",
   "execution_count": 29,
   "metadata": {},
   "outputs": [
    {
     "data": {
      "text/plain": [
       "'Novo'"
      ]
     },
     "execution_count": 29,
     "metadata": {},
     "output_type": "execute_result"
    }
   ],
   "source": [
    "request.adminMetadata.status.label"
   ]
  },
  {
   "cell_type": "code",
   "execution_count": 13,
   "metadata": {},
   "outputs": [
    {
     "data": {
      "text/plain": [
       "'2024-03-09T17:40:10'"
      ]
     },
     "execution_count": 13,
     "metadata": {},
     "output_type": "execute_result"
    }
   ],
   "source": [
    "now = datetime.now()\n",
    "formatted_date = now.strftime(\"%Y-%m-%dT%H:%M:%S\")\n",
    "formatted_date"
   ]
  },
  {
   "cell_type": "code",
   "execution_count": 40,
   "metadata": {},
   "outputs": [
    {
     "name": "stdout",
     "output_type": "stream",
     "text": [
      "\n",
      "        PREFIX bf: <http://id.loc.gov/ontologies/bibframe/>  \n",
      "        PREFIX rdf: <http://www.w3.org/1999/02/22-rdf-syntax-ns#>\n",
      "        PREFIX rdfs: <http://www.w3.org/2000/01/rdf-schema#>\n",
      "        PREFIX xsd: <http://www.w3.org/2001/XMLSchema#>\n",
      "\n",
      "        INSERT DATA {\n",
      "            GRAPH <https://bibliokeia/works/10> \n",
      "            {\n",
      "                <https://bibliokeia/works/1> a bf:Text,\n",
      "        bf:Work ;\n",
      "    bf:adminMetadata [ a bf:AdminMetadata ;\n",
      "            bf:assigner <http://id.loc.gov/vocabulary/organizations/brmninpa> ;\n",
      "            bf:creationDate \"2024-03-09\"^^xsd:date ;\n",
      "            bf:descriptionConventions <http://id.loc.gov/vocabulary/descriptionConventions/aacr> ;\n",
      "            bf:generationProcess [ a bf:GenerationProcess ;\n",
      "                    rdfs:label \"BiblioKeia\" ;\n",
      "                    bf:generationDate \"2024-03-09T18:06:06\"^^xsd:dateTime ] ;\n",
      "            bf:identifiedBy [ a bf:Local ;\n",
      "                    bf:assigner <http://id.loc.gov/vocabulary/organizations/brmninpa> ;\n",
      "                    rdf:value \"1\" ] ;\n",
      "            bf:status <http://id.loc.gov/vocabulary/mstatus/n> ] .\n",
      "\n",
      "<http://id.loc.gov/vocabulary/descriptionConventions/aacr> a bf:DescriptionConventions ;\n",
      "    rdfs:label \"AACr\" .\n",
      "\n",
      "<http://id.loc.gov/vocabulary/mstatus/n> a bf:Status ;\n",
      "    rdfs:label \"Novo\" .\n",
      "\n",
      "<http://id.loc.gov/vocabulary/organizations/brmninpa> a bf:Organization ;\n",
      "    rdfs:label \"Instituto Nacional de Pesquisas da Amazônia\" .\n",
      "\n",
      " } } \n"
     ]
    }
   ],
   "source": [
    "def MakeGraphWork(request):\n",
    "\n",
    "    now = datetime.now()   \n",
    "\n",
    "    BF = Namespace(\"http://id.loc.gov/ontologies/bibframe/\")\n",
    "\n",
    "    identifier = f\"https://bibliokeia/works/{request.adminMetadata.identifiedBy}\"\n",
    "    resource = URIRef(identifier)\n",
    "\n",
    "    g = Graph(identifier=identifier)\n",
    "    g.bind('bf', BF)\n",
    "\n",
    "    \n",
    "    # resourceType\n",
    "    for i in request.resourceType:\n",
    "        bfType = URIRef(f\"http://id.loc.gov/ontologies/bibframe/{i.value}\")\n",
    "        g.add((resource, RDF.type, bfType))\n",
    "\n",
    "    # AdminMetadata\n",
    "    adminMetadata = BNode()\n",
    "    g.add((resource, BF.adminMetadata, adminMetadata))\n",
    "    g.add((adminMetadata, RDF.type, BF.AdminMetadata ))\n",
    "    # assigner\n",
    "    assigner_uri = URIRef(settings.organization_loc_uri)\n",
    "    g.add((assigner_uri, RDF.type, BF.Organization))\n",
    "    g.add((assigner_uri, RDFS.label, Literal(settings.organization)))\n",
    "    g.add((adminMetadata, BF.assigner, assigner_uri ))\n",
    "    # creationDate\n",
    "    formatted_date = now.strftime(\"%Y-%m-%d\")\n",
    "    g.add((adminMetadata, BF.creationDate, Literal(formatted_date, datatype=XSD.date) ))\n",
    "    # descriptionConventions\n",
    "    descriptionConventions = URIRef(request.adminMetadata.descriptionConventions.value)\n",
    "    g.add((descriptionConventions, RDF.type, BF.DescriptionConventions ))\n",
    "    g.add((descriptionConventions, RDFS.label, Literal(request.adminMetadata.descriptionConventions.label) ))\n",
    "    g.add((adminMetadata, BF.descriptionConventions, descriptionConventions ))\n",
    "    # generationProcess\n",
    "    formatted_dateTime = now.strftime(\"%Y-%m-%dT%H:%M:%S\")\n",
    "    generationProcess = BNode() \n",
    "    g.add((adminMetadata, BF.generationProcess, generationProcess))\n",
    "    g.add((generationProcess, RDF.type, BF.GenerationProcess))\n",
    "    g.add((generationProcess, RDFS.label, Literal(settings.app_name) ))\n",
    "    g.add((generationProcess, BF.generationDate, Literal(formatted_dateTime, datatype=XSD.dateTime) ))\n",
    "    # identifiedBy\n",
    "    identifiedBy =  BNode() \n",
    "    g.add((adminMetadata, BF.identifiedBy, identifiedBy))\n",
    "    g.add((identifiedBy, RDF.type, BF.Local))\n",
    "    g.add((identifiedBy, BF.assigner, assigner_uri))\n",
    "    g.add((identifiedBy, RDF.value, Literal(request.adminMetadata.identifiedBy)))\n",
    "    # status\n",
    "    status = URIRef(request.adminMetadata.status.value)\n",
    "    g.add((status, RDF.type, BF.Status))\n",
    "    g.add((status, RDFS.label, Literal(request.adminMetadata.status.label)))\n",
    "    g.add((adminMetadata, BF.status, status))\n",
    " \n",
    "\n",
    "    graph = g.serialize(format='ttl')\n",
    "    # g.serialize(destination=\"work_test.ttl\", format='ttl')\n",
    "\n",
    "    return graph\n",
    "\n",
    "def MakeSparql(graph):\n",
    "    graph = graph.split(\"\\n\\n\")\n",
    "    graph = \"\\n\\n\".join(graph[1:])\n",
    "\n",
    "    graph = f\"\"\"\n",
    "        PREFIX bf: <http://id.loc.gov/ontologies/bibframe/>  \n",
    "        PREFIX rdf: <http://www.w3.org/1999/02/22-rdf-syntax-ns#>\n",
    "        PREFIX rdfs: <http://www.w3.org/2000/01/rdf-schema#>\n",
    "        PREFIX xsd: <http://www.w3.org/2001/XMLSchema#>\n",
    "\n",
    "        INSERT DATA {{\n",
    "            GRAPH <https://bibliokeia/works/10> \n",
    "            {{\n",
    "                {graph} }} }} \"\"\"\n",
    "\n",
    "    return graph\n",
    "\n",
    "\n",
    "\n",
    "graph = MakeGraphWork(request)\n",
    "sparql = MakeSparql(graph)\n",
    "print(sparql)"
   ]
  },
  {
   "cell_type": "code",
   "execution_count": 39,
   "metadata": {},
   "outputs": [
    {
     "data": {
      "text/plain": [
       "{'statusCode': 200, 'message': 'Update succeeded'}"
      ]
     },
     "execution_count": 39,
     "metadata": {},
     "output_type": "execute_result"
    }
   ],
   "source": [
    "fuseki = FusekiUpdate(\"http://localhost:3030\" , 'bk') \n",
    "response = fuseki.run_sparql(sparql) \n",
    "response.convert()"
   ]
  },
  {
   "cell_type": "code",
   "execution_count": 48,
   "metadata": {},
   "outputs": [],
   "source": [
    "update_endpoint = 'http://localhost:3030/bk/update'\n",
    "query_endpoint = 'http://localhost:3030/bk/query'\n",
    "\n",
    "store = sparqlstore.SPARQLUpdateStore(query_endpoint=query_endpoint, update_endpoint=update_endpoint)\n",
    "# store.open((query_endpoint, update_endpoint))"
   ]
  },
  {
   "cell_type": "code",
   "execution_count": 53,
   "metadata": {},
   "outputs": [],
   "source": []
  },
  {
   "cell_type": "code",
   "execution_count": 54,
   "metadata": {},
   "outputs": [
    {
     "data": {
      "text/plain": [
       "{'statusCode': 200, 'message': 'Update succeeded'}"
      ]
     },
     "execution_count": 54,
     "metadata": {},
     "output_type": "execute_result"
    }
   ],
   "source": []
  },
  {
   "cell_type": "code",
   "execution_count": 55,
   "metadata": {},
   "outputs": [
    {
     "data": {
      "text/plain": [
       "<Graph identifier=N670023130edb414d90f78f4a3ab110a8 (<class 'rdflib.graph.Graph'>)>"
      ]
     },
     "execution_count": 55,
     "metadata": {},
     "output_type": "execute_result"
    }
   ],
   "source": [
    "url = 'http://localhost:3030/bk/data?graph=https:%2F%2Fbibliokeia%2Fworks%2F10'\n",
    "g = Graph()\n",
    "g.parse(url)"
   ]
  },
  {
   "cell_type": "code",
   "execution_count": 56,
   "metadata": {},
   "outputs": [
    {
     "name": "stdout",
     "output_type": "stream",
     "text": [
      "@prefix bf: <http://id.loc.gov/ontologies/bibframe/> .\n",
      "\n",
      "<https://bibliokeia/works/10> a bf:Text,\n",
      "        bf:Work .\n",
      "\n",
      "\n"
     ]
    }
   ],
   "source": [
    "print(g.serialize(format='ttl'))"
   ]
  },
  {
   "cell_type": "code",
   "execution_count": 35,
   "metadata": {},
   "outputs": [],
   "source": []
  }
 ],
 "metadata": {
  "kernelspec": {
   "display_name": "venv",
   "language": "python",
   "name": "python3"
  },
  "language_info": {
   "codemirror_mode": {
    "name": "ipython",
    "version": 3
   },
   "file_extension": ".py",
   "mimetype": "text/x-python",
   "name": "python",
   "nbconvert_exporter": "python",
   "pygments_lexer": "ipython3",
   "version": "3.12.0"
  }
 },
 "nbformat": 4,
 "nbformat_minor": 2
}
