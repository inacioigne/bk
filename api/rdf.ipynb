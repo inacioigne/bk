{
 "cells": [
  {
   "cell_type": "code",
   "execution_count": 8,
   "metadata": {},
   "outputs": [],
   "source": [
    "from pydantic import BaseModel\n",
    "from typing import Optional\n",
    "from rdflib import URIRef, BNode, Literal, Namespace, Graph\n",
    "from rdflib.namespace import RDF, RDFS\n",
    "from pyfuseki import FusekiUpdate\n",
    "from rdflib.plugins.stores import sparqlstore\n",
    "from rdflib.namespace import XSD\n",
    "from datetime import datetime\n",
    "from src.schemas.settings import Settings\n",
    "from pysolr import Solr"
   ]
  },
  {
   "cell_type": "code",
   "execution_count": 17,
   "metadata": {},
   "outputs": [],
   "source": [
    "class BfElement(BaseModel):\n",
    "    value: str\n",
    "    label: str\n",
    "\n",
    "class ResourceProperties(BaseModel):\n",
    "    content: BfElement\n",
    "    genreForm: Optional[BfElement] = None\n",
    "\n",
    "class AdminMetadata(BaseModel):\n",
    "    creationDate: datetime = None\n",
    "    status: BfElement\n",
    "    descriptionConventions: BfElement\n",
    "    identifiedBy: Optional[str] = None\n",
    "\n",
    "class Title(BaseModel):\n",
    "    mainTitle: str\n",
    "    subtitle: Optional[str] = None\n",
    "\n",
    "class Contribution(BaseModel):\n",
    "    term: BfElement\n",
    "    role: BfElement\n",
    "\n",
    "class Subject(BaseModel):\n",
    "    type: str\n",
    "    lang: str\n",
    "    term: BfElement\n",
    "\n",
    "class Classification(BaseModel):\n",
    "    cdd: str\n",
    "    cutter: str\n",
    "\n",
    "class BfWork(BaseModel):\n",
    "    resourceType: list[BfElement]\n",
    "    adminMetadata: AdminMetadata\n",
    "    title: Title\n",
    "    variantTitle: Optional[list[Title]] = None\n",
    "    language: list[BfElement]\n",
    "    genreForm: list[BfElement] = None\n",
    "    contribution: Optional[list[Contribution]] = None\n",
    "    subject: Optional[list[Subject]] = None\n",
    "    classification: Classification\n",
    "    note: Optional[str] = None\n",
    "    summary: Optional[str] = None\n",
    "    tableOfContents: Optional[str] = None\n",
    "\n"
   ]
  },
  {
   "cell_type": "code",
   "execution_count": 18,
   "metadata": {},
   "outputs": [],
   "source": [
    "req = {\n",
    "    \"resourceType\": [\n",
    "        {\n",
    "            \"value\": \"Work\",\n",
    "            \"label\": \"Obra\"\n",
    "        },\n",
    "        {\n",
    "            \"value\": \"Text\",\n",
    "            \"label\": \"Texto\"\n",
    "        }\n",
    "    ],\n",
    "    \"adminMetadata\": {\n",
    "        \"status\": {\n",
    "            \"value\": \"http://id.loc.gov/vocabulary/mstatus/n\",\n",
    "            \"label\": \"Novo\"\n",
    "        },\n",
    "        \"descriptionConventions\": {\n",
    "            \"value\": \"http://id.loc.gov/vocabulary/descriptionConventions/aacr\",\n",
    "            \"label\": \"AACr\"\n",
    "        }\n",
    "    },\n",
    "    \"classification\": {\n",
    "        \"cdd\": \"001\",\n",
    "        \"cutter\": \"P831c\"\n",
    "    },\n",
    "    \"title\": {\n",
    "        \"mainTitle\": \"Conjecturas e refutações\"\n",
    "    },\n",
    "    \"language\": [\n",
    "        {\n",
    "            \"value\": \"por\",\n",
    "            \"label\": \"Português\"\n",
    "        }\n",
    "    ],\n",
    "    \"contribution\": [\n",
    "        {\n",
    "            \"term\": {\n",
    "                \"value\": \"https://bibliokeia.com/authority/PersonalName/10\",\n",
    "                \"label\": \"Popper, Karl R.\"\n",
    "            },\n",
    "            \"role\": {\n",
    "                \"value\": \"http://id.loc.gov/vocabulary/relators/aut\",\n",
    "                \"label\": \"Autor\"\n",
    "            }\n",
    "        },\n",
    "        {\n",
    "            \"term\": {\n",
    "                \"value\": \"https://bibliokeia.com/authority/PersonalName/12\",\n",
    "                \"label\": \"Bath, Sérgio\"\n",
    "            },\n",
    "            \"role\": {\n",
    "                \"value\": \"http://id.loc.gov/vocabulary/relators/trl\",\n",
    "                \"label\": \"Tradutor\"\n",
    "            }\n",
    "        }\n",
    "    ],\n",
    "    \"subject\": [\n",
    "        {\n",
    "            \"term\": {\n",
    "                \"value\": \"https://bibliokeia.com/authority/Topic/11\",\n",
    "                \"label\": \"Metodologia\"\n",
    "            },\n",
    "            \"lang\": \"por\",\n",
    "            \"type\": \"Topic\"\n",
    "        }\n",
    "    ]\n",
    "}\n",
    "request = BfWork(**req)"
   ]
  },
  {
   "cell_type": "code",
   "execution_count": 21,
   "metadata": {},
   "outputs": [],
   "source": [
    "request.adminMetadata.creationDate"
   ]
  },
  {
   "cell_type": "code",
   "execution_count": 36,
   "metadata": {},
   "outputs": [
    {
     "data": {
      "text/plain": [
       "'2024-03-14T10:35:59'"
      ]
     },
     "execution_count": 36,
     "metadata": {},
     "output_type": "execute_result"
    }
   ],
   "source": [
    "now = datetime.now()  \n",
    "request.adminMetadata.creationDate = now\n",
    "request.adminMetadata.creationDate.strftime(\"%Y-%m-%dT%H:%M:%S\")"
   ]
  },
  {
   "cell_type": "code",
   "execution_count": 4,
   "metadata": {},
   "outputs": [],
   "source": [
    "settings = Settings()"
   ]
  },
  {
   "cell_type": "code",
   "execution_count": 22,
   "metadata": {},
   "outputs": [],
   "source": [
    "def BfType(g, resource, resourceType):\n",
    "    for i in resourceType:\n",
    "        bfType = URIRef(f\"http://id.loc.gov/ontologies/bibframe/{i.value}\")\n",
    "        g.add((resource, RDF.type, bfType))\n",
    "    return g\n",
    "\n",
    "def BfGenreForm(g, resource, genreForm, BF):\n",
    "    for i in genreForm:\n",
    "        uri = URIRef(i.value)\n",
    "        g.add((uri, RDF.type, BF.GenreForm ))\n",
    "        g.add((uri, RDFS.label, Literal(i.label)))\n",
    "        g.add((resource, BF.genreForm, uri))\n",
    "    return g\n",
    "\n",
    "\n",
    "def BfAdminMetadata(g, adminMetadata, resource, BF):\n",
    "    now = datetime.now()  \n",
    "\n",
    "    bNadminMetadata = BNode()\n",
    "    g.add((resource, BF.adminMetadata, bNadminMetadata))\n",
    "    g.add((bNadminMetadata, RDF.type, BF.AdminMetadata ))\n",
    "    # assigner\n",
    "    assigner_uri = URIRef(settings.organization_loc_uri)\n",
    "    g.add((assigner_uri, RDF.type, BF.Organization))\n",
    "    g.add((assigner_uri, RDFS.label, Literal(settings.organization)))\n",
    "    g.add((bNadminMetadata, BF.assigner, assigner_uri ))\n",
    "    # creationDate\n",
    "    formatted_date = now.strftime(\"%Y-%m-%d\")\n",
    "    g.add((bNadminMetadata, BF.creationDate, Literal(formatted_date, datatype=XSD.date) ))\n",
    "    # descriptionConventions\n",
    "    descriptionConventions = URIRef(adminMetadata.descriptionConventions.value)\n",
    "    g.add((descriptionConventions, RDF.type, BF.DescriptionConventions ))\n",
    "    g.add((descriptionConventions, RDFS.label, Literal(adminMetadata.descriptionConventions.label) ))\n",
    "    g.add((bNadminMetadata, BF.descriptionConventions, descriptionConventions ))\n",
    "    # generationProcess\n",
    "    formatted_dateTime = now.strftime(\"%Y-%m-%dT%H:%M:%S\")\n",
    "    generationProcess = BNode() \n",
    "    g.add((bNadminMetadata, BF.generationProcess, generationProcess))\n",
    "    g.add((generationProcess, RDF.type, BF.GenerationProcess))\n",
    "    g.add((generationProcess, RDFS.label, Literal(settings.app_name) ))\n",
    "    g.add((generationProcess, BF.generationDate, Literal(formatted_dateTime, datatype=XSD.dateTime) ))\n",
    "    # identifiedBy\n",
    "    identifiedBy =  BNode() \n",
    "    g.add((bNadminMetadata, BF.identifiedBy, identifiedBy))\n",
    "    g.add((identifiedBy, RDF.type, BF.Local))\n",
    "    g.add((identifiedBy, BF.assigner, assigner_uri))\n",
    "    g.add((identifiedBy, RDF.value, Literal(adminMetadata.identifiedBy)))\n",
    "    # status\n",
    "    status = URIRef(adminMetadata.status.value)\n",
    "    g.add((status, RDF.type, BF.Status))\n",
    "    g.add((status, RDFS.label, Literal(adminMetadata.status.label)))\n",
    "    g.add((bNadminMetadata, BF.status, status))\n",
    "\n",
    "    return g\n",
    "\n",
    "def BfTitle(g, resource, BF):\n",
    "    title = BNode()\n",
    "    g.add((resource, BF.title, title))\n",
    "    g.add((title, RDF.type, BF.Title))\n",
    "    g.add((title, BF.mainTitle, Literal(title.mainTitle)))\n",
    "    if request.title.subtitle:\n",
    "        g.add((title, BF.subtitle, Literal(request.title.subtitle)))\n",
    "    if request.variantTitle:\n",
    "        for i in request.variantTitle:\n",
    "            variantTitle = BNode()\n",
    "            g.add((resource, BF.title, variantTitle))\n",
    "            g.add((variantTitle, RDF.type, BF.VariantTitle))\n",
    "            g.add((variantTitle, BF.mainTitle, Literal(i.mainTitle)))\n",
    "            if i.subtitle:\n",
    "                g.add((variantTitle, BF.subtitle, Literal(i.subtitle)))\n",
    "\n",
    "    return g\n",
    "\n",
    "def BFLanguage(g, resource, BF):\n",
    "    for i in request.language:\n",
    "        language = URIRef(f\"http://id.loc.gov/vocabulary/languages/{i.value}\")\n",
    "        g.add((language, RDF.type, BF.Language))\n",
    "        g.add((language, RDFS.label, Literal(i.label)))\n",
    "        g.add((resource, BF.language, language ))\n",
    "    return g  \n",
    "\n",
    "def BFContribution(g, resource, BF):\n",
    "    for i in request.contribution:\n",
    "        contribution = BNode()\n",
    "        g.add((resource, BF.contribution, contribution))\n",
    "        g.add((contribution, RDF.type, BF.Contribution))\n",
    "        agent = URIRef(i.term.value)\n",
    "        g.add((agent, RDF.type, BF.Agent))\n",
    "        g.add((agent, RDF.type, BF.Person))\n",
    "        g.add((agent, RDFS.label, Literal(i.term.label)))\n",
    "        g.add((contribution, BF.agent, agent))\n",
    "        role = URIRef(i.role.value)\n",
    "        g.add((role, RDF.type, BF.Role))\n",
    "        g.add((role, RDFS.label, Literal(i.role.label)))\n",
    "        g.add((contribution, BF.role, role))\n",
    "\n",
    "    return g\n",
    "\n",
    "def BFSubject(g, resource, BF):\n",
    "    for i in request.subject:\n",
    "        subject = URIRef(i.term.value)\n",
    "        g.add((subject, RDF.type, BF.Topic))\n",
    "        g.add((subject, RDFS.label, Literal(i.term.label, lang=i.lang)))\n",
    "        g.add((resource, BF.subject, subject))\n",
    "\n",
    "    return g\n",
    "\n",
    "def BfClassification(g, resource, classification, BF):\n",
    "    cdd = BNode()\n",
    "    g.add((resource, BF.classification, cdd))\n",
    "    g.add((cdd, RDF.type, BF.ClassificationDdc))\n",
    "    g.add((cdd, BF.classificationPortion, Literal(classification.cdd)))\n",
    "    cutter = BNode()\n",
    "    g.add((resource, BF.classification, cutter))\n",
    "    g.add((cutter, RDF.type, BF.Classification))\n",
    "    g.add((cutter, BF.classificationPortion, Literal(classification.cutter)))\n",
    "    return g\n",
    "\n"
   ]
  },
  {
   "cell_type": "code",
   "execution_count": 24,
   "metadata": {},
   "outputs": [
    {
     "data": {
      "text/plain": [
       "AdminMetadata(creationDate=datetime.datetime(2024, 3, 14, 10, 20, 21, 793341), status=BfElement(value='http://id.loc.gov/vocabulary/mstatus/n', label='Novo'), descriptionConventions=BfElement(value='http://id.loc.gov/vocabulary/descriptionConventions/aacr', label='AACr'), identifiedBy=None)"
      ]
     },
     "execution_count": 24,
     "metadata": {},
     "output_type": "execute_result"
    }
   ],
   "source": [
    "request.adminMetadata"
   ]
  },
  {
   "cell_type": "code",
   "execution_count": null,
   "metadata": {},
   "outputs": [],
   "source": [
    "def MakeGraphWork(request):\n",
    "\n",
    "    BF = Namespace(\"http://id.loc.gov/ontologies/bibframe/\")\n",
    "    identifier = f\"https://bibliokeia/works/{request.adminMetadata.identifiedBy}\"\n",
    "    resource = URIRef(identifier)\n",
    "\n",
    "    g = Graph(identifier=identifier)\n",
    "    g.bind('bf', BF)\n",
    "    \n",
    "    # resourceType\n",
    "    BfType(g, resource, request.resourceType)\n",
    "    # AdminMetadata\n",
    "    g = BfAdminMetadata(g, request.adminMetadata, request, resource, BF) \n",
    "    # BfClassification\n",
    "    g = BfClassification(g, resource, request.classification, BF)\n",
    "    # Title\n",
    "    g = BfTitle(g, request, resource, BF)\n",
    "    # Language\n",
    "    g = BFLanguage(g, request.language, resource, BF)\n",
    "    # Contribution\n",
    "    g = BFContribution(g, request.contribution, resource, BF)\n",
    "    # Subject\n",
    "    g = BFSubject(g, request.subject, resource, BF) \n",
    "    # GenreForm\n",
    "    if request.genreForm and request.genreForm.valeu != \"\":\n",
    "        g = BfGenreForm(g, resource, request.genreForm, BF)    \n",
    " \n",
    "    graph = g.serialize(format='ttl')\n",
    "    # g.serialize(destination=\"work_test.ttl\", format='ttl')\n",
    "\n",
    "    return graph\n",
    "\n",
    "def MakeSparql(graph, ):\n",
    "    graph = graph.split(\"\\n\\n\")\n",
    "    graph = \"\\n\\n\".join(graph[1:])\n",
    "\n",
    "    graph = f\"\"\"\n",
    "        PREFIX bf: <http://id.loc.gov/ontologies/bibframe/>  \n",
    "        PREFIX rdf: <http://www.w3.org/1999/02/22-rdf-syntax-ns#>\n",
    "        PREFIX rdfs: <http://www.w3.org/2000/01/rdf-schema#>\n",
    "        PREFIX xsd: <http://www.w3.org/2001/XMLSchema#>\n",
    "\n",
    "        INSERT DATA {{\n",
    "            GRAPH <https://bibliokeia/works/10> \n",
    "            {{\n",
    "                {graph} }} }} \"\"\"\n",
    "\n",
    "    return graph\n",
    "\n",
    "\n",
    "\n",
    "graph = MakeGraphWork(request)\n",
    "sparql = MakeSparql(graph)\n",
    "print(sparql)"
   ]
  },
  {
   "cell_type": "code",
   "execution_count": 27,
   "metadata": {},
   "outputs": [
    {
     "data": {
      "text/plain": [
       "{'statusCode': 200, 'message': 'Update succeeded'}"
      ]
     },
     "execution_count": 27,
     "metadata": {},
     "output_type": "execute_result"
    }
   ],
   "source": [
    "fuseki = FusekiUpdate(\"http://localhost:3030\" , 'bk') \n",
    "response = fuseki.run_sparql(sparql) \n",
    "response.convert()"
   ]
  },
  {
   "cell_type": "code",
   "execution_count": 48,
   "metadata": {},
   "outputs": [],
   "source": [
    "update_endpoint = 'http://localhost:3030/bk/update'\n",
    "query_endpoint = 'http://localhost:3030/bk/query'\n",
    "\n",
    "store = sparqlstore.SPARQLUpdateStore(query_endpoint=query_endpoint, update_endpoint=update_endpoint)\n",
    "# store.open((query_endpoint, update_endpoint))"
   ]
  },
  {
   "cell_type": "code",
   "execution_count": 50,
   "metadata": {},
   "outputs": [
    {
     "data": {
      "text/plain": [
       "<Graph identifier=Nf8a4447e118c409ab437162e76a2afcd (<class 'rdflib.graph.Graph'>)>"
      ]
     },
     "execution_count": 50,
     "metadata": {},
     "output_type": "execute_result"
    }
   ],
   "source": [
    "# url = 'http://localhost:3030/bk/data?graph=https:%2F%2Fbibliokeia%2Fworks%2F10'\n",
    "url = \"http://id.loc.gov/resources/works/21984730.rdf\"\n",
    "g = Graph()\n",
    "g.parse(url)"
   ]
  },
  {
   "cell_type": "code",
   "execution_count": 37,
   "metadata": {},
   "outputs": [
    {
     "name": "stdout",
     "output_type": "stream",
     "text": [
      "DOC: {'id': 'work#teste', 'creationDate': '2024-03-14T10:35:59', 'type': ['Work', 'Text'], 'mainTitle': 'Conjecturas e refutações', 'language': ['Português'], 'subtitle': None, 'cdd': '001', 'cutter': 'P831c', 'note': None, 'summary': None, 'tableOfContents': None, 'isPartOf': 'Work', 'contribution': [{'id': 'work#teste/contribution/10', 'agent': 'https://bibliokeia.com/authority/PersonalName/10', 'label': 'Popper, Karl R.', 'role': 'http://id.loc.gov/vocabulary/relators/aut', 'roleLabel': 'Autor'}, {'id': 'work#teste/contribution/12', 'agent': 'https://bibliokeia.com/authority/PersonalName/12', 'label': 'Bath, Sérgio', 'role': 'http://id.loc.gov/vocabulary/relators/trl', 'roleLabel': 'Tradutor'}], 'subject': [{'id': 'work#teste/subject/11', 'type': 'Topic', 'uri': 'https://bibliokeia.com/authority/Topic/11', 'label': 'Metodologia'}]}\n"
     ]
    }
   ],
   "source": [
    "def DocWork(request, work_id):\n",
    "\n",
    "    work_id = f'work#{work_id}'\n",
    "\n",
    "    doc = {\n",
    "        \"id\": work_id,\n",
    "        \"creationDate\": request.adminMetadata.creationDate.strftime(\"%Y-%m-%dT%H:%M:%S\"),\n",
    "        \"type\": [i.value for i in request.resourceType],\n",
    "        # \"content\": request.content.label,\n",
    "        \"mainTitle\": request.title.mainTitle,\n",
    "        'language': [i.label for i in request.language],\n",
    "        \"subtitle\": request.title.subtitle,\n",
    "        \"cdd\": request.classification.cdd,\n",
    "        \"cutter\": request.classification.cutter,\n",
    "        \"note\": request.note,\n",
    "        \"summary\": request.summary,\n",
    "        \"tableOfContents\": request.tableOfContents,\n",
    "        # \"supplementaryContent\": [i.label for i in request.supplementaryContent] if request.supplementaryContent else None,\n",
    "        # \"illustrativeContent\": [i.label for i in request.illustrativeContent] if request.illustrativeContent else None,\n",
    "        # \"intendedAudience\": [i.label for i in request.intendedAudience] if request.intendedAudience else None,\n",
    "        # \"geographicCoverage\": [i.label for i in request.geographicCoverage] if request.geographicCoverage else None,\n",
    "        \"isPartOf\": \"Work\"\n",
    "\n",
    "    }\n",
    "    # contribution\n",
    "    if request.contribution:\n",
    "        contributions = list()\n",
    "        for i in request.contribution:\n",
    "            c = {\"id\": f\"{work_id}/contribution/{i.term.value.split('/')[-1]}\",\n",
    "                 \"agent\": i.term.value,\n",
    "                 \"label\": i.term.label,\n",
    "                 \"role\": i.role.value,\n",
    "                 \"roleLabel\": i.role.label}\n",
    "            contributions.append(c)\n",
    "        doc['contribution'] = contributions\n",
    "\n",
    "    # subject\n",
    "    if request.subject:\n",
    "        subjects = list()\n",
    "        for i in request.subject:\n",
    "            s = {\"id\": f\"{work_id}/subject/{i.term.value.split('/')[-1]}\",\n",
    "                 \"type\": i.type,\n",
    "                 \"uri\": i.term.value,\n",
    "                 \"label\": i.term.label}\n",
    "            subjects.append(s)\n",
    "        doc['subject'] = subjects\n",
    "\n",
    "    if request.genreForm:\n",
    "        pass\n",
    "\n",
    "    responseSolr = solr.add([doc], commit=True)\n",
    "\n",
    "    return responseSolr\n",
    "\n",
    "doc = DocWork(request, \"teste\")"
   ]
  },
  {
   "cell_type": "code",
   "execution_count": 38,
   "metadata": {},
   "outputs": [
    {
     "data": {
      "text/plain": [
       "{'id': 'work#teste',\n",
       " 'creationDate': '2024-03-14T10:35:59',\n",
       " 'type': ['Work', 'Text'],\n",
       " 'mainTitle': 'Conjecturas e refutações',\n",
       " 'language': ['Português'],\n",
       " 'subtitle': None,\n",
       " 'cdd': '001',\n",
       " 'cutter': 'P831c',\n",
       " 'note': None,\n",
       " 'summary': None,\n",
       " 'tableOfContents': None,\n",
       " 'isPartOf': 'Work',\n",
       " 'contribution': [{'id': 'work#teste/contribution/10',\n",
       "   'agent': 'https://bibliokeia.com/authority/PersonalName/10',\n",
       "   'label': 'Popper, Karl R.',\n",
       "   'role': 'http://id.loc.gov/vocabulary/relators/aut',\n",
       "   'roleLabel': 'Autor'},\n",
       "  {'id': 'work#teste/contribution/12',\n",
       "   'agent': 'https://bibliokeia.com/authority/PersonalName/12',\n",
       "   'label': 'Bath, Sérgio',\n",
       "   'role': 'http://id.loc.gov/vocabulary/relators/trl',\n",
       "   'roleLabel': 'Tradutor'}],\n",
       " 'subject': [{'id': 'work#teste/subject/11',\n",
       "   'type': 'Topic',\n",
       "   'uri': 'https://bibliokeia.com/authority/Topic/11',\n",
       "   'label': 'Metodologia'}]}"
      ]
     },
     "execution_count": 38,
     "metadata": {},
     "output_type": "execute_result"
    }
   ],
   "source": [
    "doc"
   ]
  },
  {
   "cell_type": "code",
   "execution_count": 39,
   "metadata": {},
   "outputs": [],
   "source": [
    "solr = Solr(f'{settings.solr}/solr/catalog/', timeout=10)"
   ]
  },
  {
   "cell_type": "code",
   "execution_count": 40,
   "metadata": {},
   "outputs": [
    {
     "data": {
      "text/plain": [
       "'{\\n  \"responseHeader\":{\\n    \"status\":0,\\n    \"QTime\":82\\n  }\\n}'"
      ]
     },
     "execution_count": 40,
     "metadata": {},
     "output_type": "execute_result"
    }
   ],
   "source": [
    "responseSolr = solr.add([doc], commit=True)\n",
    "responseSolr"
   ]
  },
  {
   "cell_type": "code",
   "execution_count": 13,
   "metadata": {},
   "outputs": [
    {
     "data": {
      "text/plain": [
       "'08/03/2024'"
      ]
     },
     "execution_count": 13,
     "metadata": {},
     "output_type": "execute_result"
    }
   ],
   "source": [
    "request.adminMetadata.creationDate"
   ]
  }
 ],
 "metadata": {
  "kernelspec": {
   "display_name": "venv",
   "language": "python",
   "name": "python3"
  },
  "language_info": {
   "codemirror_mode": {
    "name": "ipython",
    "version": 3
   },
   "file_extension": ".py",
   "mimetype": "text/x-python",
   "name": "python",
   "nbconvert_exporter": "python",
   "pygments_lexer": "ipython3",
   "version": "3.12.0"
  }
 },
 "nbformat": 4,
 "nbformat_minor": 2
}
