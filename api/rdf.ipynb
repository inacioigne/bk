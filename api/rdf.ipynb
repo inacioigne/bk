{
 "cells": [
  {
   "cell_type": "code",
   "execution_count": 5,
   "metadata": {},
   "outputs": [],
   "source": [
    "from src.schemas.thesaurus.mads import SchemaMads\n",
    "\n",
    "from src.schemas.settings import Settings\n",
    "from rdflib import URIRef, Namespace, Graph, Literal, BNode\n",
    "from rdflib.namespace import RDF, RDFS\n",
    "settings = Settings()"
   ]
  },
  {
   "cell_type": "code",
   "execution_count": 1,
   "metadata": {},
   "outputs": [],
   "source": [
    "from src.schemas.catalog.instance import BfInstance\n",
    "from datetime import datetime"
   ]
  },
  {
   "cell_type": "code",
   "execution_count": 2,
   "metadata": {},
   "outputs": [],
   "source": [
    "req = {\n",
    "    \"instanceOf\": {\n",
    "        \"value\": \"https://bibliokeia.com/works/8\"\n",
    "    },\n",
    "    \"adminMetadata\": {\n",
    "        \"status\": {\n",
    "            \"value\": \"http://id.loc.gov/vocabulary/mstatus/n\",\n",
    "            \"label\": \"Novo\"\n",
    "        },\n",
    "        \"descriptionConventions\": {\n",
    "            \"value\": \"http://id.loc.gov/vocabulary/descriptionConventions/aacr\",\n",
    "            \"label\": \"AACr\"\n",
    "        }\n",
    "    },\n",
    "    \"resource\": [\n",
    "        {\n",
    "            \"type\": {\n",
    "                \"value\": \"Instance\",\n",
    "                \"label\": \"Instância\"\n",
    "            }\n",
    "        },\n",
    "        {\n",
    "            \"type\": {\n",
    "                \"value\": \"Print\",\n",
    "                \"label\": \"Impresso\"\n",
    "            }\n",
    "        }\n",
    "    ],\n",
    "    \"title\": {\n",
    "        \"mainTitle\": \"Sol de feira\"\n",
    "    },\n",
    "    \"physicalDetails\": {\n",
    "        \"carrier\": {\n",
    "            \"value\": \"http://id.loc.gov/vocabulary/carriers/nc\",\n",
    "            \"label\": \"\"\n",
    "        },\n",
    "        \"extent\": \"212 p.\",\n",
    "        \"issuance\": {\n",
    "            \"value\": \"http://id.loc.gov/vocabulary/issuance/mono\",\n",
    "            \"label\": \"\"\n",
    "        },\n",
    "        \"media\": {\n",
    "            \"value\": \"http://id.loc.gov/vocabulary/mediaTypes/n\",\n",
    "            \"label\": \"\"\n",
    "        }\n",
    "    },\n",
    "    \"provisionActivity\": [\n",
    "        {\n",
    "            \"place\": {\n",
    "                \"base\": \"bk\",\n",
    "                \"value\": \"https://bibliokeia.com/authority/81\",\n",
    "                \"label\": \"Manaus (Brazil)\"\n",
    "            },\n",
    "            \"agent\": {\n",
    "                \"base\": \"bk\",\n",
    "                \"value\": \"https://bibliokeia.com/authority/82\",\n",
    "                \"label\": \"Companhia das Letras\"\n",
    "            },\n",
    "            \"date\": \"2012\"\n",
    "        }\n",
    "    ],\n",
    "    \"image\": {\n",
    "        \"cover\": \"https://m.media-amazon.com/images/I/41wBgTiEP4L._SY445_SX342_.jpg\"\n",
    "    }\n",
    "}"
   ]
  },
  {
   "cell_type": "code",
   "execution_count": 3,
   "metadata": {},
   "outputs": [
    {
     "data": {
      "text/plain": [
       "BfInstance(resource=[Resource(type=BfElement(value='Instance', metadata=None, label='Instância')), Resource(type=BfElement(value='Print', metadata=None, label='Impresso'))], adminMetadata=AdminMetadata(creationDate=None, changeDate=None, status=BfElement(value='http://id.loc.gov/vocabulary/mstatus/n', metadata=None, label='Novo'), descriptionConventions=BfElement(value='http://id.loc.gov/vocabulary/descriptionConventions/aacr', metadata=None, label='AACr'), identifiedBy=None), title=Title(mainTitle='Sol de feira', subtitle=None), variantTitle=None, physicalDetails=PhysicalDetails(carrier=BfElement(value='http://id.loc.gov/vocabulary/carriers/nc', metadata=None, label=''), extent='212 p.', issuance=BfElement(value='http://id.loc.gov/vocabulary/issuance/mono', metadata=None, label=''), media=BfElement(value='http://id.loc.gov/vocabulary/mediaTypes/n', metadata=None, label='')), provisionActivity=[ProvisionActivity(place=BfElement(value='https://bibliokeia.com/authority/81', metadata=None, label='Manaus (Brazil)'), agent=BfElement(value='https://bibliokeia.com/authority/82', metadata=None, label='Companhia das Letras'), date=2012)], editionStatement=None, responsibilityStatement=None, note=None, instanceOf=BfElement(value='https://bibliokeia.com/works/8', metadata=None, label=None), image=Image(cover='https://m.media-amazon.com/images/I/41wBgTiEP4L._SY445_SX342_.jpg'))"
      ]
     },
     "execution_count": 3,
     "metadata": {},
     "output_type": "execute_result"
    }
   ],
   "source": [
    "request = BfInstance(**req)\n",
    "request"
   ]
  },
  {
   "cell_type": "code",
   "execution_count": 4,
   "metadata": {},
   "outputs": [],
   "source": [
    "now = datetime.now()\n",
    "request.adminMetadata.creationDate = now\n",
    "request.adminMetadata.identifiedBy = 'TESTE'"
   ]
  },
  {
   "cell_type": "code",
   "execution_count": 5,
   "metadata": {},
   "outputs": [],
   "source": [
    "from src.function.catalog.instance.graphInstance import MakeGraphInstance\n",
    "\n",
    "\n",
    "graph = MakeGraphInstance(request)\n"
   ]
  },
  {
   "cell_type": "code",
   "execution_count": 6,
   "metadata": {},
   "outputs": [
    {
     "name": "stdout",
     "output_type": "stream",
     "text": [
      "@prefix bf: <http://id.loc.gov/ontologies/bibframe/> .\n",
      "@prefix dcterms: <http://purl.org/dc/terms/> .\n",
      "@prefix rdf: <http://www.w3.org/1999/02/22-rdf-syntax-ns#> .\n",
      "@prefix rdfs: <http://www.w3.org/2000/01/rdf-schema#> .\n",
      "@prefix xsd: <http://www.w3.org/2001/XMLSchema#> .\n",
      "\n",
      "<https://bibliokeia.com/instances/TESTE> a <Instance>,\n",
      "        <Print> ;\n",
      "    bf:adminMetadata [ a bf:AdminMetadata ;\n",
      "            bf:assigner <http://id.loc.gov/vocabulary/organizations/brmninpa> ;\n",
      "            bf:creationDate \"2024-06-10\"^^xsd:date ;\n",
      "            bf:descriptionConventions <http://id.loc.gov/vocabulary/descriptionConventions/aacr> ;\n",
      "            bf:generationProcess [ a bf:GenerationProcess ;\n",
      "                    rdfs:label \"BiblioKeia\" ;\n",
      "                    bf:generationDate \"2024-06-10T13:02:25\"^^xsd:dateTime ] ;\n",
      "            bf:identifiedBy [ a bf:Local ;\n",
      "                    bf:assigner <http://id.loc.gov/vocabulary/organizations/brmninpa> ;\n",
      "                    rdf:value \"TESTE\" ] ;\n",
      "            bf:status <http://id.loc.gov/vocabulary/mstatus/n> ] ;\n",
      "    bf:carrier <http://id.loc.gov/vocabulary/carriers/nc> ;\n",
      "    bf:extent [ a bf:Extent ;\n",
      "            rdfs:label \"212 p.\" ] ;\n",
      "    bf:instanceOf <https://bibliokeia.com/works/8> ;\n",
      "    bf:media <http://id.loc.gov/vocabulary/mediaTypes/n> ;\n",
      "    bf:provisionActivity [ a bf:ProvisionActivity,\n",
      "                bf:Publication ;\n",
      "            bf:agent [ a bf:Agent ;\n",
      "                    rdfs:label \"value='https://bibliokeia.com/authority/82' metadata=None label='Companhia das Letras'\" ] ;\n",
      "            bf:date 2012 ;\n",
      "            bf:place [ a bf:Place ;\n",
      "                    rdfs:label \"value='https://bibliokeia.com/authority/81' metadata=None label='Manaus (Brazil)'\" ] ] ;\n",
      "    bf:title [ a bf:Title ;\n",
      "            bf:mainTitle \"Sol de feira\" ] ;\n",
      "    dcterms:isPartOf <http://bibliokeia/resources/instances> .\n",
      "\n",
      "<http://id.loc.gov/vocabulary/carriers/nc> a bf:Carrier ;\n",
      "    rdfs:label \"\" .\n",
      "\n",
      "<http://id.loc.gov/vocabulary/descriptionConventions/aacr> a bf:DescriptionConventions ;\n",
      "    rdfs:label \"AACr\" .\n",
      "\n",
      "<http://id.loc.gov/vocabulary/mediaTypes/n> a bf:Media ;\n",
      "    rdfs:label \"\" .\n",
      "\n",
      "<http://id.loc.gov/vocabulary/mstatus/n> a bf:Status ;\n",
      "    rdfs:label \"Novo\" .\n",
      "\n",
      "<https://bibliokeia.com/works/8> a bf:Work ;\n",
      "    bf:title [ a bf:Title ;\n",
      "            bf:mainTitle \"Sol de feira\" ] .\n",
      "\n",
      "<http://id.loc.gov/vocabulary/organizations/brmninpa> a bf:Organization ;\n",
      "    rdfs:label \"Instituto Nacional de Pesquisas da Amazônia\" .\n",
      "\n",
      "\n"
     ]
    }
   ],
   "source": [
    "print(graph)"
   ]
  },
  {
   "cell_type": "code",
   "execution_count": 10,
   "metadata": {},
   "outputs": [
    {
     "data": {
      "text/plain": [
       "'Manaus (Brazil)'"
      ]
     },
     "execution_count": 10,
     "metadata": {},
     "output_type": "execute_result"
    }
   ],
   "source": [
    "provisionActivity = request.provisionActivity[0]\n",
    "provisionActivity.place.label\n"
   ]
  },
  {
   "cell_type": "code",
   "execution_count": 7,
   "metadata": {},
   "outputs": [],
   "source": [
    "MDASRDF = Namespace(\"http://www.loc.gov/mads/rdf/v1#\")\n",
    "BF = Namespace(\"http://id.loc.gov/ontologies/bibframe/\")\n",
    "IDENTIFIERS = Namespace(\"http://id.loc.gov/vocabulary/identifiers/\")\n",
    "identifier = f\"{settings.base_url}/authorities/{request.adminMetadata.identifiedBy}\"\n",
    "resource = URIRef(identifier)\n",
    "\n",
    "g = Graph(identifier=identifier)\n",
    "g.bind('madsrdf', MDASRDF)\n",
    "g.bind('identifiers', IDENTIFIERS)\n",
    "g.bind('bf', BF)\n"
   ]
  },
  {
   "cell_type": "code",
   "execution_count": 13,
   "metadata": {},
   "outputs": [],
   "source": [
    "from pysolr import Solr\n",
    "solr = Solr(f'{settings.solr}/solr/authority/', timeout=10)"
   ]
  },
  {
   "cell_type": "code",
   "execution_count": 14,
   "metadata": {},
   "outputs": [
    {
     "data": {
      "text/plain": [
       "'{\\n  \"responseHeader\":{\\n    \"status\":0,\\n    \"QTime\":146\\n  }\\n}'"
      ]
     },
     "execution_count": 14,
     "metadata": {},
     "output_type": "execute_result"
    }
   ],
   "source": [
    "responseSolr = solr.add([doc], commit=True)\n",
    "responseSolr"
   ]
  },
  {
   "cell_type": "code",
   "execution_count": 4,
   "metadata": {},
   "outputs": [],
   "source": [
    "from src.function.thesaurus.solr.updateSolr import UpdateSolr\n",
    "\n",
    "\n",
    "UpdateSolr(request)"
   ]
  },
  {
   "cell_type": "code",
   "execution_count": 8,
   "metadata": {},
   "outputs": [
    {
     "data": {
      "text/plain": [
       "<Graph identifier=Nb33df10863d54bdf9a9ceeaf5d15d56d (<class 'rdflib.graph.Graph'>)>"
      ]
     },
     "execution_count": 8,
     "metadata": {},
     "output_type": "execute_result"
    }
   ],
   "source": [
    "graph = Graph()\n",
    "graph.parse('http://id.loc.gov/authorities/names/no97027235.rdf')\n",
    "graph.serialize('Graeber.ttl')"
   ]
  }
 ],
 "metadata": {
  "kernelspec": {
   "display_name": "venv",
   "language": "python",
   "name": "python3"
  },
  "language_info": {
   "codemirror_mode": {
    "name": "ipython",
    "version": 3
   },
   "file_extension": ".py",
   "mimetype": "text/x-python",
   "name": "python",
   "nbconvert_exporter": "python",
   "pygments_lexer": "ipython3",
   "version": "3.12.0"
  }
 },
 "nbformat": 4,
 "nbformat_minor": 2
}
