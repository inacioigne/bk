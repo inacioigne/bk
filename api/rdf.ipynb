{
 "cells": [
  {
   "cell_type": "code",
   "execution_count": 5,
   "metadata": {},
   "outputs": [],
   "source": [
    "from src.schemas.thesaurus.mads import SchemaMads\n",
    "\n",
    "from src.schemas.settings import Settings\n",
    "from rdflib import URIRef, Namespace, Graph, Literal, BNode\n",
    "from rdflib.namespace import RDF, RDFS\n",
    "settings = Settings()"
   ]
  },
  {
   "cell_type": "code",
   "execution_count": 1,
   "metadata": {},
   "outputs": [],
   "source": [
    "from src.schemas.catalog.work import BfWork\n",
    "from datetime import datetime"
   ]
  },
  {
   "cell_type": "code",
   "execution_count": 2,
   "metadata": {},
   "outputs": [],
   "source": [
    "req = {\n",
    "    \"adminMetadata\": {\n",
    "        \"status\": {\n",
    "            \"value\": \"http://id.loc.gov/vocabulary/mstatus/n\",\n",
    "            \"label\": \"Novo\"\n",
    "        },\n",
    "        \"descriptionConventions\": {\n",
    "            \"value\": \"http://id.loc.gov/vocabulary/descriptionConventions/aacr\",\n",
    "            \"label\": \"AACr\"\n",
    "        }\n",
    "    },\n",
    "    \"resource\": [\n",
    "        {\n",
    "            \"type\": {\n",
    "                \"value\": \"Work\",\n",
    "                \"label\": \"Obra\"\n",
    "            }\n",
    "        },\n",
    "        {\n",
    "            \"type\": {\n",
    "                \"value\": \"Text\",\n",
    "                \"label\": \"Texto\"\n",
    "            }\n",
    "        }\n",
    "    ],\n",
    "    \"language\": [\n",
    "        {\n",
    "            \"lang\": {\n",
    "                \"value\": \"por\",\n",
    "                \"label\": \"Português\"\n",
    "            }\n",
    "        }\n",
    "    ],\n",
    "    \"classification\": {\n",
    "        \"cdd\": \"548.5\",\n",
    "        \"cutter\": \"C456a\"\n",
    "    },\n",
    "    \"title\": {\n",
    "        \"mainTitle\": \"Sol de feira\",\n",
    "        \"subtitle\": \"Fábulas cruéis e outras estórias más\"\n",
    "    },\n",
    "    \"contribution\": [\n",
    "        {\n",
    "            \"authority\": {\n",
    "                \"base\": \"bk\",\n",
    "                \"value\": \"https://bibliokeia.com/authority/79\",\n",
    "                \"label\": \"Cunha, Euclides da\"\n",
    "            },\n",
    "            \"role\": {\n",
    "                \"value\": \"http://id.loc.gov/vocabulary/relators/aut\",\n",
    "                \"label\": \"Autor\"\n",
    "            }\n",
    "        }\n",
    "    ],\n",
    "    \"subject\": [\n",
    "        {\n",
    "            \"type\": {\n",
    "                \"value\": \"Topic\",\n",
    "                \"label\": \"Termo Tópico\"\n",
    "            },\n",
    "            \"authority\": {\n",
    "                \"base\": \"bk\",\n",
    "                \"value\": \"https://bibliokeia.com/authority/80\",\n",
    "                \"label\": \"Amazon River\"\n",
    "            },\n",
    "            \"lang\": {\n",
    "                \"value\": \"por\",\n",
    "                \"label\": \"Português\"\n",
    "            }\n",
    "        }\n",
    "    ]\n",
    "}"
   ]
  },
  {
   "cell_type": "code",
   "execution_count": 3,
   "metadata": {},
   "outputs": [
    {
     "data": {
      "text/plain": [
       "[Resource(type=BfElement(value='Work', metadata=None, label='Obra')),\n",
       " Resource(type=BfElement(value='Text', metadata=None, label='Texto'))]"
      ]
     },
     "execution_count": 3,
     "metadata": {},
     "output_type": "execute_result"
    }
   ],
   "source": [
    "request = BfWork(**req)\n",
    "request.resource"
   ]
  },
  {
   "cell_type": "code",
   "execution_count": 4,
   "metadata": {},
   "outputs": [],
   "source": [
    "now = datetime.now()\n",
    "request.adminMetadata.creationDate = now\n",
    "request.adminMetadata.identifiedBy = 'TESTE'"
   ]
  },
  {
   "cell_type": "code",
   "execution_count": 9,
   "metadata": {},
   "outputs": [
    {
     "data": {
      "text/plain": [
       "[Resource(type=BfElement(value='Work', metadata=None, label='Obra')),\n",
       " Resource(type=BfElement(value='Text', metadata=None, label='Texto'))]"
      ]
     },
     "execution_count": 9,
     "metadata": {},
     "output_type": "execute_result"
    }
   ],
   "source": [
    "request.resource\n"
   ]
  },
  {
   "cell_type": "code",
   "execution_count": 6,
   "metadata": {},
   "outputs": [],
   "source": [
    "from src.function.catalog.work.graphWork import MakeGraphWork\n",
    "\n",
    "\n",
    "graph = MakeGraphWork(request)"
   ]
  },
  {
   "cell_type": "code",
   "execution_count": 7,
   "metadata": {},
   "outputs": [
    {
     "name": "stdout",
     "output_type": "stream",
     "text": [
      "@prefix bf: <http://id.loc.gov/ontologies/bibframe/> .\n",
      "@prefix rdf: <http://www.w3.org/1999/02/22-rdf-syntax-ns#> .\n",
      "@prefix rdfs: <http://www.w3.org/2000/01/rdf-schema#> .\n",
      "@prefix xsd: <http://www.w3.org/2001/XMLSchema#> .\n",
      "\n",
      "<https://bibliokeia.com/works/TESTE> a <Text>,\n",
      "        <Work> ;\n",
      "    bf:adminMetadata [ a bf:AdminMetadata ;\n",
      "            bf:assigner <http://id.loc.gov/vocabulary/organizations/brmninpa> ;\n",
      "            bf:creationDate \"2024-06-03\"^^xsd:date ;\n",
      "            bf:descriptionConventions <http://id.loc.gov/vocabulary/descriptionConventions/aacr> ;\n",
      "            bf:generationProcess [ a bf:GenerationProcess ;\n",
      "                    rdfs:label \"BiblioKeia\" ;\n",
      "                    bf:generationDate \"2024-06-03T16:01:20\"^^xsd:dateTime ] ;\n",
      "            bf:identifiedBy [ a bf:Local ;\n",
      "                    bf:assigner <http://id.loc.gov/vocabulary/organizations/brmninpa> ;\n",
      "                    rdf:value \"TESTE\" ] ;\n",
      "            bf:status <http://id.loc.gov/vocabulary/mstatus/n> ] ;\n",
      "    bf:classification [ a bf:Classification ;\n",
      "            bf:classificationPortion \"C456a\" ],\n",
      "        [ a bf:ClassificationDdc ;\n",
      "            bf:classificationPortion \"548.5\" ] ;\n",
      "    bf:contribution [ a bf:Contribution ;\n",
      "            bf:agent <https://bibliokeia.com/authority/79> ;\n",
      "            bf:role <http://id.loc.gov/vocabulary/relators/aut> ] ;\n",
      "    bf:language <http://id.loc.gov/vocabulary/languages/por> ;\n",
      "    bf:subject <https://bibliokeia.com/authority/80> ;\n",
      "    bf:title [ a bf:Title ;\n",
      "            bf:mainTitle \"Sol de feira\" ;\n",
      "            bf:subtitle \"Fábulas cruéis e outras estórias más\" ] .\n",
      "\n",
      "<http://id.loc.gov/vocabulary/descriptionConventions/aacr> a bf:DescriptionConventions ;\n",
      "    rdfs:label \"AACr\" .\n",
      "\n",
      "<http://id.loc.gov/vocabulary/languages/por> a bf:Language ;\n",
      "    rdfs:label \"Português\" .\n",
      "\n",
      "<http://id.loc.gov/vocabulary/mstatus/n> a bf:Status ;\n",
      "    rdfs:label \"Novo\" .\n",
      "\n",
      "<http://id.loc.gov/vocabulary/relators/aut> a bf:Role ;\n",
      "    rdfs:label \"Autor\" .\n",
      "\n",
      "<https://bibliokeia.com/authority/79> a bf:Agent,\n",
      "        bf:Person ;\n",
      "    rdfs:label \"Cunha, Euclides da\" .\n",
      "\n",
      "<https://bibliokeia.com/authority/80> a bf:Topic ;\n",
      "    rdfs:label \"Amazon River\"@por .\n",
      "\n",
      "<http://id.loc.gov/vocabulary/organizations/brmninpa> a bf:Organization ;\n",
      "    rdfs:label \"Instituto Nacional de Pesquisas da Amazônia\" .\n",
      "\n",
      "\n"
     ]
    }
   ],
   "source": [
    "print( graph)"
   ]
  },
  {
   "cell_type": "code",
   "execution_count": 7,
   "metadata": {},
   "outputs": [],
   "source": [
    "MDASRDF = Namespace(\"http://www.loc.gov/mads/rdf/v1#\")\n",
    "BF = Namespace(\"http://id.loc.gov/ontologies/bibframe/\")\n",
    "IDENTIFIERS = Namespace(\"http://id.loc.gov/vocabulary/identifiers/\")\n",
    "identifier = f\"{settings.base_url}/authorities/{request.adminMetadata.identifiedBy}\"\n",
    "resource = URIRef(identifier)\n",
    "\n",
    "g = Graph(identifier=identifier)\n",
    "g.bind('madsrdf', MDASRDF)\n",
    "g.bind('identifiers', IDENTIFIERS)\n",
    "g.bind('bf', BF)\n"
   ]
  },
  {
   "cell_type": "code",
   "execution_count": 13,
   "metadata": {},
   "outputs": [],
   "source": [
    "from pysolr import Solr\n",
    "solr = Solr(f'{settings.solr}/solr/authority/', timeout=10)"
   ]
  },
  {
   "cell_type": "code",
   "execution_count": 14,
   "metadata": {},
   "outputs": [
    {
     "data": {
      "text/plain": [
       "'{\\n  \"responseHeader\":{\\n    \"status\":0,\\n    \"QTime\":146\\n  }\\n}'"
      ]
     },
     "execution_count": 14,
     "metadata": {},
     "output_type": "execute_result"
    }
   ],
   "source": [
    "responseSolr = solr.add([doc], commit=True)\n",
    "responseSolr"
   ]
  },
  {
   "cell_type": "code",
   "execution_count": 4,
   "metadata": {},
   "outputs": [],
   "source": [
    "from src.function.thesaurus.solr.updateSolr import UpdateSolr\n",
    "\n",
    "\n",
    "UpdateSolr(request)"
   ]
  },
  {
   "cell_type": "code",
   "execution_count": 8,
   "metadata": {},
   "outputs": [
    {
     "data": {
      "text/plain": [
       "<Graph identifier=Nb33df10863d54bdf9a9ceeaf5d15d56d (<class 'rdflib.graph.Graph'>)>"
      ]
     },
     "execution_count": 8,
     "metadata": {},
     "output_type": "execute_result"
    }
   ],
   "source": [
    "graph = Graph()\n",
    "graph.parse('http://id.loc.gov/authorities/names/no97027235.rdf')\n",
    "graph.serialize('Graeber.ttl')"
   ]
  }
 ],
 "metadata": {
  "kernelspec": {
   "display_name": "venv",
   "language": "python",
   "name": "python3"
  },
  "language_info": {
   "codemirror_mode": {
    "name": "ipython",
    "version": 3
   },
   "file_extension": ".py",
   "mimetype": "text/x-python",
   "name": "python",
   "nbconvert_exporter": "python",
   "pygments_lexer": "ipython3",
   "version": "3.12.0"
  }
 },
 "nbformat": 4,
 "nbformat_minor": 2
}
