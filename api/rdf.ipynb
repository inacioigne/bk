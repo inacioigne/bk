{
 "cells": [
  {
   "cell_type": "code",
   "execution_count": 1,
   "metadata": {},
   "outputs": [],
   "source": [
    "from pydantic import BaseModel\n",
    "from typing import Optional\n",
    "from rdflib import URIRef, BNode, Literal, Namespace, Graph\n",
    "from rdflib.namespace import RDF, RDFS, DCTERMS\n",
    "from pyfuseki import FusekiUpdate\n",
    "from rdflib.plugins.stores import sparqlstore\n",
    "from rdflib.namespace import XSD\n",
    "from datetime import datetime\n",
    "from src.schemas.settings import Settings\n",
    "from pysolr import Solr\n",
    "from src.function.catalog.markeCreateSparql import MakeCreateSparql\n",
    "from src.schemas.catalog.instance import BfInstance"
   ]
  },
  {
   "cell_type": "code",
   "execution_count": 15,
   "metadata": {},
   "outputs": [
    {
     "data": {
      "text/plain": [
       "<Graph identifier=Ne5bb87c69b2b4cfe9245f1658cb7e64a (<class 'rdflib.graph.Graph'>)>"
      ]
     },
     "execution_count": 15,
     "metadata": {},
     "output_type": "execute_result"
    }
   ],
   "source": [
    "url = \"http://id.loc.gov/resources/items/21876543-050-15.rdf\"\n",
    "g = Graph()\n",
    "g.parse(url)"
   ]
  },
  {
   "cell_type": "code",
   "execution_count": 16,
   "metadata": {},
   "outputs": [
    {
     "data": {
      "text/plain": [
       "<Graph identifier=Ne5bb87c69b2b4cfe9245f1658cb7e64a (<class 'rdflib.graph.Graph'>)>"
      ]
     },
     "execution_count": 16,
     "metadata": {},
     "output_type": "execute_result"
    }
   ],
   "source": [
    "g.serialize(destination='item_test.ttl')"
   ]
  },
  {
   "cell_type": "markdown",
   "metadata": {},
   "source": [
    "ITEMS"
   ]
  },
  {
   "cell_type": "code",
   "execution_count": 6,
   "metadata": {},
   "outputs": [],
   "source": [
    "req = {\n",
    "    \"itemOf\": \"instance#27\",\n",
    "    \"instanceOf\": \"work#79\",\n",
    "    \"items\": [\n",
    "        {\n",
    "            \"cdd\": \"001\",\n",
    "            \"cutter\": \"P831c\",\n",
    "            \"year\": \"1992\",\n",
    "            \"collection\": \"Obras gerais\",\n",
    "            \"shelf\": \"E1.P1\",\n",
    "            \"barcode\": \"24-2\",\n",
    "            \"adminMetadata\": {\n",
    "                \"status\": {\n",
    "                    \"value\": \"http://id.loc.gov/vocabulary/mstatus/n\",\n",
    "                    \"label\": \"Novo\"\n",
    "                }\n",
    "            }\n",
    "        }\n",
    "    ]\n",
    "}"
   ]
  },
  {
   "cell_type": "code",
   "execution_count": 7,
   "metadata": {},
   "outputs": [
    {
     "data": {
      "text/plain": [
       "'https://bibliokeia.com'"
      ]
     },
     "execution_count": 7,
     "metadata": {},
     "output_type": "execute_result"
    }
   ],
   "source": [
    "from src.schemas.catalog.items import Items_Schema\n",
    "settings = Settings()\n",
    "settings.base_url"
   ]
  },
  {
   "cell_type": "code",
   "execution_count": 10,
   "metadata": {},
   "outputs": [
    {
     "data": {
      "text/plain": [
       "Items_Schema(itemOf='instance#27', instanceOf='work#79', items=[Item(adminMetadata=AdminMetadata(creationDate=None, status=BfElement(value='http://id.loc.gov/vocabulary/mstatus/n', label='Novo'), descriptionConventions=None, identifiedBy=None), cdd='001', cutter='P831c', year='1992', collection='Obras gerais', shelf='E1.P1', barcode='24-2')])"
      ]
     },
     "execution_count": 10,
     "metadata": {},
     "output_type": "execute_result"
    }
   ],
   "source": [
    "from src.schemas.adminMetadata import AdminMetadata\n",
    "from typing import List\n",
    "\n",
    "\n",
    "class Item(BaseModel):\n",
    "    adminMetadata: AdminMetadata\n",
    "    cdd: str\n",
    "    cutter: str\n",
    "    year: str\n",
    "    collection: str\n",
    "    shelf: str\n",
    "    barcode: str\n",
    "\n",
    "class Items_Schema(BaseModel):\n",
    "  itemOf: str\n",
    "  instanceOf: str\n",
    "  items: List[Item]\n",
    "  \n",
    "request = Items_Schema(**req)\n",
    "request"
   ]
  },
  {
   "cell_type": "code",
   "execution_count": 12,
   "metadata": {},
   "outputs": [
    {
     "data": {
      "text/plain": [
       "'work#79'"
      ]
     },
     "execution_count": 12,
     "metadata": {},
     "output_type": "execute_result"
    }
   ],
   "source": [
    "request.instanceOf"
   ]
  },
  {
   "cell_type": "code",
   "execution_count": 15,
   "metadata": {},
   "outputs": [],
   "source": [
    "def DocItem(item, instance, work):\n",
    "\n",
    "    item_id = f'item#{item.adminMetadata.identifiedBy}'\n",
    "\n",
    "\n",
    "    doc = {\n",
    "        \"id\": item_id,\n",
    "        \"type\": \"item\",\n",
    "        \"cdd\": item.cdd,\n",
    "        \"cutter\": item.cutter,\n",
    "        \"year\": item.year,\n",
    "        \"collection\": item.collection,\n",
    "        \"shelf\": item.shelf,\n",
    "        \"barcode\": item.barcode,\n",
    "        \"itemOf\": {'id': f'{item_id}/itemOf/{instance}' \n",
    "                   } \n",
    "        }\n",
    "    \n",
    "    item_doc = {\n",
    "        \"id\": instance,\n",
    "        \"_root_\": work,\n",
    "        \"hasItem\": {\"add\": doc }\n",
    "    }\n",
    "\n",
    "    response = solr.add([item_doc], commit=True)\n",
    "    return response\n",
    "\n",
    "for item in request.items:\n",
    "    item.adminMetadata.identifiedBy = 'teste'\n",
    "    doc = DocItem(item, request.itemOf, request.instanceOf)\n"
   ]
  },
  {
   "cell_type": "code",
   "execution_count": 19,
   "metadata": {},
   "outputs": [],
   "source": [
    "solr = Solr(f'{settings.solr}/solr/catalog/', timeout=10)"
   ]
  },
  {
   "cell_type": "code",
   "execution_count": 20,
   "metadata": {},
   "outputs": [
    {
     "ename": "SolrError",
     "evalue": "Solr responded with an error (HTTP 400): [Reason: Exception writing document id instance#27 (root=work#79) to the index; possible analysis error: cannot change field \"shelf\" from index options=DOCS_AND_FREQS_AND_POSITIONS to inconsistent index options=DOCS]",
     "output_type": "error",
     "traceback": [
      "\u001b[1;31m---------------------------------------------------------------------------\u001b[0m",
      "\u001b[1;31mSolrError\u001b[0m                                 Traceback (most recent call last)",
      "Cell \u001b[1;32mIn[20], line 1\u001b[0m\n\u001b[1;32m----> 1\u001b[0m response \u001b[38;5;241m=\u001b[39m \u001b[43msolr\u001b[49m\u001b[38;5;241;43m.\u001b[39;49m\u001b[43madd\u001b[49m\u001b[43m(\u001b[49m\u001b[43m[\u001b[49m\u001b[43mdoc\u001b[49m\u001b[43m]\u001b[49m\u001b[43m,\u001b[49m\u001b[43m \u001b[49m\u001b[43mcommit\u001b[49m\u001b[38;5;241;43m=\u001b[39;49m\u001b[38;5;28;43;01mTrue\u001b[39;49;00m\u001b[43m)\u001b[49m\n",
      "File \u001b[1;32mc:\\Users\\Usuário\\OneDrive\\Documentos\\BiblioKeia\\bk\\api\\venv\\Lib\\site-packages\\pysolr.py:1042\u001b[0m, in \u001b[0;36mSolr.add\u001b[1;34m(self, docs, boost, fieldUpdates, commit, softCommit, commitWithin, waitFlush, waitSearcher, overwrite, handler)\u001b[0m\n\u001b[0;32m   1036\u001b[0m end_time \u001b[38;5;241m=\u001b[39m time\u001b[38;5;241m.\u001b[39mtime()\n\u001b[0;32m   1037\u001b[0m \u001b[38;5;28mself\u001b[39m\u001b[38;5;241m.\u001b[39mlog\u001b[38;5;241m.\u001b[39mdebug(\n\u001b[0;32m   1038\u001b[0m     \u001b[38;5;124m\"\u001b[39m\u001b[38;5;124mBuilt add request of \u001b[39m\u001b[38;5;132;01m%s\u001b[39;00m\u001b[38;5;124m docs in \u001b[39m\u001b[38;5;132;01m%0.2f\u001b[39;00m\u001b[38;5;124m seconds.\u001b[39m\u001b[38;5;124m\"\u001b[39m,\n\u001b[0;32m   1039\u001b[0m     \u001b[38;5;28mlen\u001b[39m(message),\n\u001b[0;32m   1040\u001b[0m     end_time \u001b[38;5;241m-\u001b[39m start_time,\n\u001b[0;32m   1041\u001b[0m )\n\u001b[1;32m-> 1042\u001b[0m \u001b[38;5;28;01mreturn\u001b[39;00m \u001b[38;5;28;43mself\u001b[39;49m\u001b[38;5;241;43m.\u001b[39;49m\u001b[43m_update\u001b[49m\u001b[43m(\u001b[49m\n\u001b[0;32m   1043\u001b[0m \u001b[43m    \u001b[49m\u001b[43mm\u001b[49m\u001b[43m,\u001b[49m\n\u001b[0;32m   1044\u001b[0m \u001b[43m    \u001b[49m\u001b[43mcommit\u001b[49m\u001b[38;5;241;43m=\u001b[39;49m\u001b[43mcommit\u001b[49m\u001b[43m,\u001b[49m\n\u001b[0;32m   1045\u001b[0m \u001b[43m    \u001b[49m\u001b[43msoftCommit\u001b[49m\u001b[38;5;241;43m=\u001b[39;49m\u001b[43msoftCommit\u001b[49m\u001b[43m,\u001b[49m\n\u001b[0;32m   1046\u001b[0m \u001b[43m    \u001b[49m\u001b[43mwaitFlush\u001b[49m\u001b[38;5;241;43m=\u001b[39;49m\u001b[43mwaitFlush\u001b[49m\u001b[43m,\u001b[49m\n\u001b[0;32m   1047\u001b[0m \u001b[43m    \u001b[49m\u001b[43mwaitSearcher\u001b[49m\u001b[38;5;241;43m=\u001b[39;49m\u001b[43mwaitSearcher\u001b[49m\u001b[43m,\u001b[49m\n\u001b[0;32m   1048\u001b[0m \u001b[43m    \u001b[49m\u001b[43moverwrite\u001b[49m\u001b[38;5;241;43m=\u001b[39;49m\u001b[43moverwrite\u001b[49m\u001b[43m,\u001b[49m\n\u001b[0;32m   1049\u001b[0m \u001b[43m    \u001b[49m\u001b[43mhandler\u001b[49m\u001b[38;5;241;43m=\u001b[39;49m\u001b[43mhandler\u001b[49m\u001b[43m,\u001b[49m\n\u001b[0;32m   1050\u001b[0m \u001b[43m    \u001b[49m\u001b[43msolrapi\u001b[49m\u001b[38;5;241;43m=\u001b[39;49m\u001b[43msolrapi\u001b[49m\u001b[43m,\u001b[49m\n\u001b[0;32m   1051\u001b[0m \u001b[43m\u001b[49m\u001b[43m)\u001b[49m\n",
      "File \u001b[1;32mc:\\Users\\Usuário\\OneDrive\\Documentos\\BiblioKeia\\bk\\api\\venv\\Lib\\site-packages\\pysolr.py:568\u001b[0m, in \u001b[0;36mSolr._update\u001b[1;34m(self, message, clean_ctrl_chars, commit, softCommit, waitFlush, waitSearcher, overwrite, handler, solrapi)\u001b[0m\n\u001b[0;32m    564\u001b[0m     \u001b[38;5;28;01mreturn\u001b[39;00m \u001b[38;5;28mself\u001b[39m\u001b[38;5;241m.\u001b[39m_send_request(\n\u001b[0;32m    565\u001b[0m         \u001b[38;5;124m\"\u001b[39m\u001b[38;5;124mpost\u001b[39m\u001b[38;5;124m\"\u001b[39m, path, message, {\u001b[38;5;124m\"\u001b[39m\u001b[38;5;124mContent-type\u001b[39m\u001b[38;5;124m\"\u001b[39m: \u001b[38;5;124m\"\u001b[39m\u001b[38;5;124mtext/xml; charset=utf-8\u001b[39m\u001b[38;5;124m\"\u001b[39m}\n\u001b[0;32m    566\u001b[0m     )\n\u001b[0;32m    567\u001b[0m \u001b[38;5;28;01melif\u001b[39;00m solrapi \u001b[38;5;241m==\u001b[39m \u001b[38;5;124m\"\u001b[39m\u001b[38;5;124mJSON\u001b[39m\u001b[38;5;124m\"\u001b[39m:\n\u001b[1;32m--> 568\u001b[0m     \u001b[38;5;28;01mreturn\u001b[39;00m \u001b[38;5;28;43mself\u001b[39;49m\u001b[38;5;241;43m.\u001b[39;49m\u001b[43m_send_request\u001b[49m\u001b[43m(\u001b[49m\n\u001b[0;32m    569\u001b[0m \u001b[43m        \u001b[49m\u001b[38;5;124;43m\"\u001b[39;49m\u001b[38;5;124;43mpost\u001b[39;49m\u001b[38;5;124;43m\"\u001b[39;49m\u001b[43m,\u001b[49m\n\u001b[0;32m    570\u001b[0m \u001b[43m        \u001b[49m\u001b[43mpath\u001b[49m\u001b[43m,\u001b[49m\n\u001b[0;32m    571\u001b[0m \u001b[43m        \u001b[49m\u001b[43mmessage\u001b[49m\u001b[43m,\u001b[49m\n\u001b[0;32m    572\u001b[0m \u001b[43m        \u001b[49m\u001b[43m{\u001b[49m\u001b[38;5;124;43m\"\u001b[39;49m\u001b[38;5;124;43mContent-type\u001b[39;49m\u001b[38;5;124;43m\"\u001b[39;49m\u001b[43m:\u001b[49m\u001b[43m \u001b[49m\u001b[38;5;124;43m\"\u001b[39;49m\u001b[38;5;124;43mapplication/json; charset=utf-8\u001b[39;49m\u001b[38;5;124;43m\"\u001b[39;49m\u001b[43m}\u001b[49m\u001b[43m,\u001b[49m\n\u001b[0;32m    573\u001b[0m \u001b[43m    \u001b[49m\u001b[43m)\u001b[49m\n\u001b[0;32m    574\u001b[0m \u001b[38;5;28;01melse\u001b[39;00m:\n\u001b[0;32m    575\u001b[0m     \u001b[38;5;28;01mraise\u001b[39;00m \u001b[38;5;167;01mValueError\u001b[39;00m(\u001b[38;5;124m\"\u001b[39m\u001b[38;5;124munknown solrapi \u001b[39m\u001b[38;5;132;01m{}\u001b[39;00m\u001b[38;5;124m\"\u001b[39m\u001b[38;5;241m.\u001b[39mformat(solrapi))\n",
      "File \u001b[1;32mc:\\Users\\Usuário\\OneDrive\\Documentos\\BiblioKeia\\bk\\api\\venv\\Lib\\site-packages\\pysolr.py:463\u001b[0m, in \u001b[0;36mSolr._send_request\u001b[1;34m(self, method, path, body, headers, files)\u001b[0m\n\u001b[0;32m    449\u001b[0m     solr_message \u001b[38;5;241m=\u001b[39m \u001b[38;5;28mself\u001b[39m\u001b[38;5;241m.\u001b[39m_extract_error(resp)\n\u001b[0;32m    450\u001b[0m     \u001b[38;5;28mself\u001b[39m\u001b[38;5;241m.\u001b[39mlog\u001b[38;5;241m.\u001b[39merror(\n\u001b[0;32m    451\u001b[0m         error_message,\n\u001b[0;32m    452\u001b[0m         resp\u001b[38;5;241m.\u001b[39mstatus_code,\n\u001b[1;32m   (...)\u001b[0m\n\u001b[0;32m    461\u001b[0m         },\n\u001b[0;32m    462\u001b[0m     )\n\u001b[1;32m--> 463\u001b[0m     \u001b[38;5;28;01mraise\u001b[39;00m SolrError(error_message \u001b[38;5;241m%\u001b[39m (resp\u001b[38;5;241m.\u001b[39mstatus_code, solr_message))\n\u001b[0;32m    465\u001b[0m \u001b[38;5;28;01mreturn\u001b[39;00m force_unicode(resp\u001b[38;5;241m.\u001b[39mcontent)\n",
      "\u001b[1;31mSolrError\u001b[0m: Solr responded with an error (HTTP 400): [Reason: Exception writing document id instance#27 (root=work#79) to the index; possible analysis error: cannot change field \"shelf\" from index options=DOCS_AND_FREQS_AND_POSITIONS to inconsistent index options=DOCS]"
     ]
    }
   ],
   "source": [
    "response = solr.add([doc], commit=True)"
   ]
  },
  {
   "cell_type": "code",
   "execution_count": 14,
   "metadata": {},
   "outputs": [
    {
     "data": {
      "text/plain": [
       "{'itemOf': 'instance#27',\n",
       " 'instanceOf': 'work#79',\n",
       " 'items': [{'adminMetadata': {'creationDate': None,\n",
       "    'status': {'value': 'http://id.loc.gov/vocabulary/mstatus/n',\n",
       "     'label': 'Novo'},\n",
       "    'descriptionConventions': None,\n",
       "    'identifiedBy': None},\n",
       "   'cdd': '001',\n",
       "   'cutter': 'P831c',\n",
       "   'year': '1992',\n",
       "   'collection': 'Obras gerais',\n",
       "   'shelf': 'E1.P1',\n",
       "   'barcode': '24-2'}]}"
      ]
     },
     "execution_count": 14,
     "metadata": {},
     "output_type": "execute_result"
    }
   ],
   "source": [
    "request.model_dump()"
   ]
  },
  {
   "cell_type": "code",
   "execution_count": null,
   "metadata": {},
   "outputs": [],
   "source": [
    "from src.function.catalog.bibframe.bfAdminMetadata import BfAdminMetadata\n",
    "\n",
    "\n",
    "def MakeGraphItem(item, instance):\n",
    "    BF = Namespace(\"http://id.loc.gov/ontologies/bibframe/\")\n",
    "    identifier = f\"{settings.base_url}/items/{item.adminMetadata.identifiedBy}\"\n",
    "    resource = URIRef(identifier)\n",
    "\n",
    "    g = Graph(identifier=identifier)\n",
    "    g.bind('bf', BF)\n",
    "    g.add((resource, RDF.type, BF.Item))\n",
    "    g = BfAdminMetadata(g, item.adminMetadata, resource, BF) \n",
    "    assigner_uri = URIRef(settings.organization_loc_uri)\n",
    "    g.add((resource, BF.heldBy, assigner_uri))\n",
    "    itemOf = URIRef(f\"{settings.base_url}/instances/{instance}\")\n",
    "    g.add((resource, BF.itemOf, itemOf))\n",
    "    # CDD\n",
    "    shelfMark =  BNode()\n",
    "    g.add((resource, BF.shelfMark, shelfMark))\n",
    "    g.add((shelfMark, RDF.type, BF.ShelfMarkDdc))\n",
    "    g.add((shelfMark, RDFS.label, Literal(item.cdd)))\n",
    "    # Cutter\n",
    "    bCutter = BNode()\n",
    "    g.add((resource, BF.shelfMark, bCutter))\n",
    "    g.add((bCutter, RDF.type, BF.Classification))\n",
    "    g.add((bCutter, BF.classificationPortion, Literal(item.cutter)))\n",
    "    # Barcode\n",
    "    bNBarcode = BNode()\n",
    "    g.add((resource, BF.identifiedBy, bNBarcode))\n",
    "    g.add((bNBarcode, RDF.type, BF.Barcode))\n",
    "    g.add((bNBarcode, RDF.value, Literal(item.barcode)))\n",
    "    # shelf\n",
    "    bNsublocation = BNode()\n",
    "    g.add((resource, BF.sublocation, bNsublocation))\n",
    "    g.add((bNsublocation, RDF.type, BF.Sublocation))\n",
    "    g.add((bNsublocation, RDFS.label, Literal(item.shelf)))\n",
    "    g.add((resource, DCTERMS.isPartOf, URIRef(f\"{settings.base_url}/items\")))\n",
    "\n",
    "    graph = g.serialize(format='ttl')\n",
    "\n",
    "    return graph\n",
    "\n",
    "    \n",
    "    # print(g.serialize(format='ttl'))\n",
    "\n",
    "\n",
    "for item in request.items:\n",
    "    now = datetime.now()\n",
    "    item.adminMetadata.creationDate = now\n",
    "    item.adminMetadata.identifiedBy = \"teste\"\n",
    "    graph = MakeGraphItem(item, request.itemOf)\n",
    "    sparql = MakeCreateSparql(graph, \"teste\", \"items\")\n",
    "    \n",
    "\n",
    "    print(sparql)"
   ]
  },
  {
   "cell_type": "code",
   "execution_count": 24,
   "metadata": {},
   "outputs": [],
   "source": [
    "fuseki = FusekiUpdate(\"http://localhost:3030\" , 'bk') "
   ]
  },
  {
   "cell_type": "code",
   "execution_count": 27,
   "metadata": {},
   "outputs": [
    {
     "data": {
      "text/plain": [
       "<SPARQLWrapper.Wrapper.QueryResult at 0x287cbefa330>"
      ]
     },
     "execution_count": 27,
     "metadata": {},
     "output_type": "execute_result"
    }
   ],
   "source": [
    "response = fuseki.run_sparql(sparql) \n",
    "response"
   ]
  },
  {
   "cell_type": "markdown",
   "metadata": {},
   "source": [
    "Instance "
   ]
  },
  {
   "cell_type": "code",
   "execution_count": 14,
   "metadata": {},
   "outputs": [],
   "source": [
    "settings = Settings()"
   ]
  },
  {
   "cell_type": "code",
   "execution_count": 34,
   "metadata": {},
   "outputs": [],
   "source": [
    "req = {\n",
    "    \"instanceOf\": {\n",
    "        \"value\": \"https://bibliokeia.com/works/77\"\n",
    "    },\n",
    "    \"adminMetadata\": {\n",
    "        \"status\": {\n",
    "            \"value\": \"http://id.loc.gov/vocabulary/mstatus/n\",\n",
    "            \"label\": \"Novo\"\n",
    "        },\n",
    "        \"descriptionConventions\": {\n",
    "            \"value\": \"http://id.loc.gov/vocabulary/descriptionConventions/aacr\",\n",
    "            \"label\": \"AACr\"\n",
    "        }\n",
    "    },\n",
    "    \"resourceType\": [\n",
    "        {\n",
    "            \"value\": \"Instance\",\n",
    "            \"label\": \"Instância\"\n",
    "        },\n",
    "        {\n",
    "            \"value\": \"Print\",\n",
    "            \"label\": \"Impresso\"\n",
    "        }\n",
    "    ],\n",
    "    \"title\": {\n",
    "        \"mainTitle\": \"Sol de feira\"\n",
    "    },\n",
    "    \"physicalDetails\": {\n",
    "        \"carrier\": {\n",
    "            \"value\": \"http://id.loc.gov/vocabulary/carriers/nc\",\n",
    "            \"label\": \"Volume\"\n",
    "        },\n",
    "        \"extent\": \"124 p.\",\n",
    "        \"issuance\": {\n",
    "            \"value\": \"http://id.loc.gov/vocabulary/issuance/mono\",\n",
    "            \"label\": \"Unidade única\"\n",
    "        },\n",
    "        \"media\": {\n",
    "            \"value\": \"http://id.loc.gov/vocabulary/mediaTypes/n\",\n",
    "            \"label\": \"Não mediado\"\n",
    "        }\n",
    "    },\n",
    "    \"provisionActivity\": [\n",
    "        {\n",
    "            \"place\": \"Brasília\",\n",
    "            \"agent\": \"Editora Universidade de Brasília\",\n",
    "            \"date\": \"2012\"\n",
    "        }\n",
    "    ],\n",
    "    \"editionStatement\": {\n",
    "        \"value\": \"1. ed.\"\n",
    "    },\n",
    "    \"responsibilityStatement\": {\n",
    "        \"value\": \"Karl Raymund Popper\"\n",
    "    },\n",
    "    \"note\": [\n",
    "        {\n",
    "            \"value\": \"Este é um registro de teste\"\n",
    "        }\n",
    "    ],\n",
    "    \"image\": {\n",
    "        \"cover\": \"https://m.media-amazon.com/images/I/61vzOtbbfKL._SY466_.jpg\"\n",
    "    }\n",
    "}"
   ]
  },
  {
   "cell_type": "code",
   "execution_count": 35,
   "metadata": {},
   "outputs": [
    {
     "data": {
      "text/plain": [
       "'https://bibliokeia.com/works/77'"
      ]
     },
     "execution_count": 35,
     "metadata": {},
     "output_type": "execute_result"
    }
   ],
   "source": [
    "request = BfInstance(**req)\n",
    "now = datetime.now()\n",
    "request.adminMetadata.creationDate = now\n",
    "request.adminMetadata.identifiedBy = \"teste\"\n",
    "request.instanceOf.value"
   ]
  },
  {
   "cell_type": "code",
   "execution_count": 36,
   "metadata": {},
   "outputs": [
    {
     "data": {
      "text/plain": [
       "BfElement(value='https://bibliokeia.com/works/77', label=None)"
      ]
     },
     "execution_count": 36,
     "metadata": {},
     "output_type": "execute_result"
    }
   ],
   "source": [
    "request.instanceOf"
   ]
  },
  {
   "cell_type": "code",
   "execution_count": 10,
   "metadata": {},
   "outputs": [
    {
     "data": {
      "text/plain": [
       "{'id': 'instance#teste/instanceOf/work#76',\n",
       " 'uri': 'https://bibliokeia.com/works/76',\n",
       " 'label': None}"
      ]
     },
     "execution_count": 10,
     "metadata": {},
     "output_type": "execute_result"
    }
   ],
   "source": [
    "work_id = f'work#{request.instanceOf.value.split(\"/\")[-1]}'\n",
    "instance_id = f'instance#{request.adminMetadata.identifiedBy}'\n",
    "instanceOf = {\n",
    "    'id': f'{instance_id}/instanceOf/{work_id}', \n",
    "    'uri': request.instanceOf.value, \n",
    "    'label': request.instanceOf.label\n",
    "    } \n",
    "instanceOf\n"
   ]
  },
  {
   "cell_type": "code",
   "execution_count": null,
   "metadata": {},
   "outputs": [],
   "source": [
    "def DocInstance(request):\n",
    "\n",
    "    work_id = f'work#{request.instanceOf.value.split(\"/\")[-1]}'\n",
    "    instance_id = f'instance#{request.adminMetadata.identifiedBy}'\n",
    "    provisionActivity = request.provisionActivity[0]\n",
    "    instanceOf = {\n",
    "    'id': f'{instance_id}/instanceOf/{work_id}', \n",
    "    'uri': request.instanceOf.value, \n",
    "    'label': request.instanceOf.label\n",
    "    } \n",
    "\n",
    "    doc = {\n",
    "        \"id\": instance_id,\n",
    "        # \"creationDate\": request.adminMetadata.creationDate.strftime(\"%Y-%m-%dT%H:%M:%S\"),\n",
    "        \"type\": [i.value for i in request.resourceType],\n",
    "        \"mainTitle\": request.title.mainTitle,\n",
    "        \"subtitle\": request.title.subtitle if request.title.subtitle != \"\" else None,\n",
    "        \"carrier\": request.physicalDetails.carrier.label,\n",
    "        \"extent\": request.physicalDetails.extent,\n",
    "        \"issuance\": request.physicalDetails.issuance.label,\n",
    "        \"media\": request.physicalDetails.media.label,\n",
    "        \"publicationAgent\": provisionActivity.agent,\n",
    "        \"publicationDate\": provisionActivity.date,\n",
    "        \"publicationPlace\": provisionActivity.place,      \n",
    "        # \"serie\": request.seriesStatement,\n",
    "        \"image\": request.image.cover,\n",
    "        \"instanceOf\": instanceOf\n",
    "        }\n",
    "\n",
    "    \n",
    "    work = {\n",
    "        \"id\": work_id,\n",
    "        \"hasInstance\": {\"add\": doc }\n",
    "    }\n",
    "\n",
    "    response = solr.add([work], commit=True)\n",
    "    return response\n",
    "\n",
    "doc = DocInstance(request)\n",
    "doc"
   ]
  },
  {
   "cell_type": "code",
   "execution_count": 38,
   "metadata": {},
   "outputs": [],
   "source": [
    "solr = Solr(f'{settings.solr}/solr/catalog/', timeout=10)"
   ]
  },
  {
   "cell_type": "code",
   "execution_count": 21,
   "metadata": {},
   "outputs": [],
   "source": [
    "response = solr.add([doc], commit=True)"
   ]
  },
  {
   "cell_type": "code",
   "execution_count": null,
   "metadata": {},
   "outputs": [],
   "source": [
    "work = {\n",
    "        \"id\": \"work#77\",\n",
    "        \"hasInstance\": {\"add\": doc }\n",
    "    }\n",
    "work"
   ]
  },
  {
   "cell_type": "code",
   "execution_count": 48,
   "metadata": {},
   "outputs": [],
   "source": [
    "response = solr.add([work], commit=True)"
   ]
  },
  {
   "cell_type": "code",
   "execution_count": null,
   "metadata": {},
   "outputs": [],
   "source": [
    "work = {\n",
    "        \"id\": work_id,\n",
    "        \"hasInstance\": {\"add\": {\n",
    "            'id': 'work#76',\n",
    "            'mainTitle': 'Conjecturas e refutações'\n",
    "            }}\n",
    "    }\n",
    "response = solr.add([work], commit=True)"
   ]
  },
  {
   "cell_type": "code",
   "execution_count": 33,
   "metadata": {},
   "outputs": [
    {
     "data": {
      "text/plain": [
       "'work#76'"
      ]
     },
     "execution_count": 33,
     "metadata": {},
     "output_type": "execute_result"
    }
   ],
   "source": [
    "work = {\n",
    "        \"id\": work_id,\n",
    "        \"hasInstance\": {\n",
    "            \"remove\": {\n",
    "            'id': 'work#76',\n",
    "            'mainTitle': 'Conjecturas e refutações'\n",
    "            }}\n",
    "    }\n",
    "response = solr.add([work], commit=True)"
   ]
  },
  {
   "cell_type": "code",
   "execution_count": 67,
   "metadata": {},
   "outputs": [],
   "source": [
    "class BfElement(BaseModel):\n",
    "    value: str\n",
    "    label: Optional[str] = None\n",
    "    \n",
    "class AdminMetadata(BaseModel):\n",
    "    creationDate: datetime = None\n",
    "    status: BfElement\n",
    "    descriptionConventions: BfElement\n",
    "    identifiedBy: Optional[str] = None\n",
    "\n",
    "class Title(BaseModel):\n",
    "    mainTitle: str\n",
    "    subtitle: Optional[str] = None\n",
    "\n",
    "class PhysicalDetails(BaseModel):\n",
    "    carrier: BfElement\n",
    "    extent: str\n",
    "    issuance: BfElement\n",
    "    media: BfElement\n",
    "\n",
    "class ProvisionActivity(BaseModel):\n",
    "    place: str\n",
    "    agent: str\n",
    "    date: str    \n",
    "\n",
    "class EditionStatement(BaseModel):\n",
    "    value: str\n",
    "\n",
    "class BfInstance(BaseModel):\n",
    "    resourceType: list[BfElement]\n",
    "    adminMetadata: AdminMetadata\n",
    "    title: Title\n",
    "    variantTitle: Optional[list[Title]] = None\n",
    "    physicalDetails: PhysicalDetails\n",
    "    provisionActivity: list[ProvisionActivity]\n",
    "    editionStatement: BfElement\n",
    "    responsibilityStatement: BfElement\n",
    "    note: list[BfElement]\n",
    "    instanceOf: BfElement\n",
    "\n",
    "request = BfInstance(**req)\n"
   ]
  },
  {
   "cell_type": "code",
   "execution_count": 40,
   "metadata": {},
   "outputs": [],
   "source": [
    "def BFPhysicalDetails(g, resource, physicalDetails, BF):\n",
    "    carrier = URIRef(physicalDetails.carrier.value)\n",
    "    g.add((carrier, RDF.type, BF.Carrier))\n",
    "    g.add((carrier, RDFS.label, Literal(physicalDetails.carrier.label)))\n",
    "    g.add((resource, BF.carrier, carrier))\n",
    "\n",
    "    extent = BNode()\n",
    "    g.add((resource, BF.extent, extent))\n",
    "    g.add((extent, RDF.type, BF.Extent))\n",
    "    g.add((extent, RDFS.label, Literal(physicalDetails.extent)))\n",
    "\n",
    "    media = URIRef(physicalDetails.media.value)\n",
    "    g.add((media, RDF.type, BF.Media))\n",
    "    g.add((media, RDFS.label, Literal(physicalDetails.media.label)))\n",
    "    g.add((resource, BF.media, media))\n",
    "    \n",
    "    return g\n"
   ]
  },
  {
   "cell_type": "code",
   "execution_count": 54,
   "metadata": {},
   "outputs": [],
   "source": [
    "def BFNote(g, resource, notes, BF):\n",
    "    for note in notes:\n",
    "        bnNote = BNode()\n",
    "        g.add((resource, BF.note, bnNote))\n",
    "        g.add((bnNote, RDF.type, BF.Note))\n",
    "        g.add((bnNote, RDFS.label, Literal(note.value)))\n",
    "    return g\n",
    "        \n"
   ]
  },
  {
   "cell_type": "code",
   "execution_count": 57,
   "metadata": {},
   "outputs": [],
   "source": [
    "def BfProvisionActivity(g, resource, provisionActivity, BF):\n",
    "    for i in provisionActivity:\n",
    "        bnProvisionActivity = BNode()\n",
    "        g.add((bnProvisionActivity, RDF.type, BF.ProvisionActivity))\n",
    "        g.add((bnProvisionActivity, RDF.type, BF.Publication))\n",
    "        # Editor\n",
    "        bnAgent = BNode()\n",
    "        g.add((bnProvisionActivity, BF.agent, bnAgent))\n",
    "        g.add((bnAgent, RDF.type, BF.Agent))\n",
    "        g.add((bnAgent, RDFS.label, Literal(i.agent)))\n",
    "        # Date\n",
    "        g.add((bnProvisionActivity, BF.date, Literal(i.date)))\n",
    "        # Place\n",
    "        bnPlace = BNode()\n",
    "        g.add((bnProvisionActivity, BF.place, bnPlace))\n",
    "        g.add((bnPlace, RDF.type, BF.Place))\n",
    "        g.add((bnPlace, RDFS.label, Literal(i.place)))\n",
    "        g.add((resource, BF.provisionActivity, bnProvisionActivity))\n",
    "    \n",
    "    return g"
   ]
  },
  {
   "cell_type": "code",
   "execution_count": 61,
   "metadata": {},
   "outputs": [],
   "source": [
    "from src.function.catalog.bibframe.bfTitle import BfTitle\n",
    "from src.function.catalog.bibframe.bfAdminMetadata import BfAdminMetadata\n",
    "from src.function.catalog.bibframe.bfType import BfType\n",
    "\n",
    "\n",
    "def MakeGraphInstance(request):\n",
    "\n",
    "    BF = Namespace(\"http://id.loc.gov/ontologies/bibframe/\")\n",
    "    identifier = f\"https://bibliokeia/works/{request.adminMetadata.identifiedBy}\"\n",
    "    resource = URIRef(identifier)\n",
    "\n",
    "    g = Graph(identifier=identifier)\n",
    "    g.bind('bf', BF)\n",
    "    \n",
    "    # resourceType\n",
    "    BfType(g, resource, request.resourceType)\n",
    "    # AdminMetadata\n",
    "    g = BfAdminMetadata(g, request.adminMetadata, resource, BF) \n",
    "    # Title\n",
    "    g = BfTitle(g, request, resource, BF)  \n",
    "    \n",
    "    # PhysicalDetails\n",
    "    g = BFPhysicalDetails(g, resource, request.physicalDetails, BF)\n",
    "    g = BFNote(g, resource, request.note, BF)\n",
    "    g = BFProvisionActivity(g, resource, request.provisionActivity, BF)\n",
    "    g.add((resource, DCTERMS.isPartOf, URIRef(\"http://bibliokeia/resources/instances\")))\n",
    "\n",
    " \n",
    "    graph = g.serialize(format='ttl')\n",
    "    # g.serialize(destination=\"instance_test.ttl\", format='ttl')\n",
    "\n",
    "    return graph\n",
    "\n",
    "graph = MakeGraphInstance(request)"
   ]
  },
  {
   "cell_type": "code",
   "execution_count": 65,
   "metadata": {},
   "outputs": [
    {
     "name": "stdout",
     "output_type": "stream",
     "text": [
      "\n",
      "        PREFIX bf: <http://id.loc.gov/ontologies/bibframe/>  \n",
      "        PREFIX rdf: <http://www.w3.org/1999/02/22-rdf-syntax-ns#>\n",
      "        PREFIX rdfs: <http://www.w3.org/2000/01/rdf-schema#>\n",
      "        PREFIX xsd: <http://www.w3.org/2001/XMLSchema#>\n",
      "\n",
      "        INSERT DATA {\n",
      "            GRAPH <https://bibliokeia.com/instance/teste> \n",
      "            {\n",
      "                <https://bibliokeia/works/teste> a bf:Instance,\n",
      "        bf:Print ;\n",
      "    bf:adminMetadata [ a bf:AdminMetadata ;\n",
      "            bf:assigner <http://id.loc.gov/vocabulary/organizations/brmninpa> ;\n",
      "            bf:creationDate \"2024-03-19\"^^xsd:date ;\n",
      "            bf:descriptionConventions <http://id.loc.gov/vocabulary/descriptionConventions/aacr> ;\n",
      "            bf:generationProcess [ a bf:GenerationProcess ;\n",
      "                    rdfs:label \"BiblioKeia\" ;\n",
      "                    bf:generationDate \"2024-03-19T09:33:41\"^^xsd:dateTime ] ;\n",
      "            bf:identifiedBy [ a bf:Local ;\n",
      "                    bf:assigner <http://id.loc.gov/vocabulary/organizations/brmninpa> ;\n",
      "                    rdf:value \"teste\" ] ;\n",
      "            bf:status <http://id.loc.gov/vocabulary/mstatus/n> ] ;\n",
      "    bf:carrier <http://id.loc.gov/vocabulary/carriers/nc> ;\n",
      "    bf:extent [ a bf:Extent ;\n",
      "            rdfs:label \"449 p.\" ] ;\n",
      "    bf:media <http://id.loc.gov/vocabulary/mediaTypes/n> ;\n",
      "    bf:note [ a bf:Note ;\n",
      "            rdfs:label \"Este é um registro de teste\" ] ;\n",
      "    bf:provisionActivity [ a bf:ProvisionActivity,\n",
      "                bf:Publication ;\n",
      "            bf:agent [ a bf:Agent ;\n",
      "                    rdfs:label \"Editora Universidade de Brasília\" ] ;\n",
      "            bf:date \"1992\" ;\n",
      "            bf:place [ a bf:Place ;\n",
      "                    rdfs:label \"Brasília\" ] ] ;\n",
      "    bf:title [ a bf:Title ;\n",
      "            bf:mainTitle \"Conjecturas e refutações\" ] ;\n",
      "    dcterms:isPartOf <http://bibliokeia/resources/instances> .\n",
      "\n",
      "<http://id.loc.gov/vocabulary/carriers/nc> a bf:Carrier ;\n",
      "    rdfs:label \"Volume\" .\n",
      "\n",
      "<http://id.loc.gov/vocabulary/descriptionConventions/aacr> a bf:DescriptionConventions ;\n",
      "    rdfs:label \"AACr\" .\n",
      "\n",
      "<http://id.loc.gov/vocabulary/mediaTypes/n> a bf:Media ;\n",
      "    rdfs:label \"Não mediado\" .\n",
      "\n",
      "<http://id.loc.gov/vocabulary/mstatus/n> a bf:Status ;\n",
      "    rdfs:label \"Novo\" .\n",
      "\n",
      "<http://id.loc.gov/vocabulary/organizations/brmninpa> a bf:Organization ;\n",
      "    rdfs:label \"Instituto Nacional de Pesquisas da Amazônia\" .\n",
      "\n",
      " } } \n"
     ]
    }
   ],
   "source": [
    "sparql = MakeCreateSparql(graph, \"teste\", \"instance\")\n",
    "print(sparql)"
   ]
  },
  {
   "cell_type": "code",
   "execution_count": 17,
   "metadata": {},
   "outputs": [],
   "source": [
    "class ResourceProperties(BaseModel):\n",
    "    content: BfElement\n",
    "    genreForm: Optional[BfElement] = None\n",
    "\n",
    "class Contribution(BaseModel):\n",
    "    term: BfElement\n",
    "    role: BfElement\n",
    "\n",
    "class Subject(BaseModel):\n",
    "    type: str\n",
    "    lang: str\n",
    "    term: BfElement\n",
    "\n",
    "class Classification(BaseModel):\n",
    "    cdd: str\n",
    "    cutter: str\n",
    "\n",
    "class BfWork(BaseModel):\n",
    "    resourceType: list[BfElement]\n",
    "    adminMetadata: AdminMetadata\n",
    "    title: Title\n",
    "    variantTitle: Optional[list[Title]] = None\n",
    "    language: list[BfElement]\n",
    "    genreForm: list[BfElement] = None\n",
    "    contribution: Optional[list[Contribution]] = None\n",
    "    subject: Optional[list[Subject]] = None\n",
    "    classification: Classification\n",
    "    note: Optional[str] = None\n",
    "    summary: Optional[str] = None\n",
    "    tableOfContents: Optional[str] = None\n",
    "\n"
   ]
  },
  {
   "cell_type": "code",
   "execution_count": 18,
   "metadata": {},
   "outputs": [],
   "source": [
    "req = {\n",
    "    \"resourceType\": [\n",
    "        {\n",
    "            \"value\": \"Work\",\n",
    "            \"label\": \"Obra\"\n",
    "        },\n",
    "        {\n",
    "            \"value\": \"Text\",\n",
    "            \"label\": \"Texto\"\n",
    "        }\n",
    "    ],\n",
    "    \"adminMetadata\": {\n",
    "        \"status\": {\n",
    "            \"value\": \"http://id.loc.gov/vocabulary/mstatus/n\",\n",
    "            \"label\": \"Novo\"\n",
    "        },\n",
    "        \"descriptionConventions\": {\n",
    "            \"value\": \"http://id.loc.gov/vocabulary/descriptionConventions/aacr\",\n",
    "            \"label\": \"AACr\"\n",
    "        }\n",
    "    },\n",
    "    \"classification\": {\n",
    "        \"cdd\": \"001\",\n",
    "        \"cutter\": \"P831c\"\n",
    "    },\n",
    "    \"title\": {\n",
    "        \"mainTitle\": \"Conjecturas e refutações\"\n",
    "    },\n",
    "    \"language\": [\n",
    "        {\n",
    "            \"value\": \"por\",\n",
    "            \"label\": \"Português\"\n",
    "        }\n",
    "    ],\n",
    "    \"contribution\": [\n",
    "        {\n",
    "            \"term\": {\n",
    "                \"value\": \"https://bibliokeia.com/authority/PersonalName/10\",\n",
    "                \"label\": \"Popper, Karl R.\"\n",
    "            },\n",
    "            \"role\": {\n",
    "                \"value\": \"http://id.loc.gov/vocabulary/relators/aut\",\n",
    "                \"label\": \"Autor\"\n",
    "            }\n",
    "        },\n",
    "        {\n",
    "            \"term\": {\n",
    "                \"value\": \"https://bibliokeia.com/authority/PersonalName/12\",\n",
    "                \"label\": \"Bath, Sérgio\"\n",
    "            },\n",
    "            \"role\": {\n",
    "                \"value\": \"http://id.loc.gov/vocabulary/relators/trl\",\n",
    "                \"label\": \"Tradutor\"\n",
    "            }\n",
    "        }\n",
    "    ],\n",
    "    \"subject\": [\n",
    "        {\n",
    "            \"term\": {\n",
    "                \"value\": \"https://bibliokeia.com/authority/Topic/11\",\n",
    "                \"label\": \"Metodologia\"\n",
    "            },\n",
    "            \"lang\": \"por\",\n",
    "            \"type\": \"Topic\"\n",
    "        }\n",
    "    ]\n",
    "}\n",
    "request = BfWork(**req)"
   ]
  },
  {
   "cell_type": "code",
   "execution_count": 21,
   "metadata": {},
   "outputs": [],
   "source": [
    "request.adminMetadata.creationDate"
   ]
  },
  {
   "cell_type": "code",
   "execution_count": 4,
   "metadata": {},
   "outputs": [],
   "source": [
    "settings = Settings()"
   ]
  },
  {
   "cell_type": "code",
   "execution_count": 22,
   "metadata": {},
   "outputs": [],
   "source": [
    "\n",
    "\n",
    "def BfGenreForm(g, resource, genreForm, BF):\n",
    "    for i in genreForm:\n",
    "        uri = URIRef(i.value)\n",
    "        g.add((uri, RDF.type, BF.GenreForm ))\n",
    "        g.add((uri, RDFS.label, Literal(i.label)))\n",
    "        g.add((resource, BF.genreForm, uri))\n",
    "    return g\n",
    "\n",
    "\n",
    "def BfAdminMetadata(g, adminMetadata, resource, BF):\n",
    "    now = datetime.now()  \n",
    "\n",
    "    bNadminMetadata = BNode()\n",
    "    g.add((resource, BF.adminMetadata, bNadminMetadata))\n",
    "    g.add((bNadminMetadata, RDF.type, BF.AdminMetadata ))\n",
    "    # assigner\n",
    "    assigner_uri = URIRef(settings.organization_loc_uri)\n",
    "    g.add((assigner_uri, RDF.type, BF.Organization))\n",
    "    g.add((assigner_uri, RDFS.label, Literal(settings.organization)))\n",
    "    g.add((bNadminMetadata, BF.assigner, assigner_uri ))\n",
    "    # creationDate\n",
    "    formatted_date = now.strftime(\"%Y-%m-%d\")\n",
    "    g.add((bNadminMetadata, BF.creationDate, Literal(formatted_date, datatype=XSD.date) ))\n",
    "    # descriptionConventions\n",
    "    descriptionConventions = URIRef(adminMetadata.descriptionConventions.value)\n",
    "    g.add((descriptionConventions, RDF.type, BF.DescriptionConventions ))\n",
    "    g.add((descriptionConventions, RDFS.label, Literal(adminMetadata.descriptionConventions.label) ))\n",
    "    g.add((bNadminMetadata, BF.descriptionConventions, descriptionConventions ))\n",
    "    # generationProcess\n",
    "    formatted_dateTime = now.strftime(\"%Y-%m-%dT%H:%M:%S\")\n",
    "    generationProcess = BNode() \n",
    "    g.add((bNadminMetadata, BF.generationProcess, generationProcess))\n",
    "    g.add((generationProcess, RDF.type, BF.GenerationProcess))\n",
    "    g.add((generationProcess, RDFS.label, Literal(settings.app_name) ))\n",
    "    g.add((generationProcess, BF.generationDate, Literal(formatted_dateTime, datatype=XSD.dateTime) ))\n",
    "    # identifiedBy\n",
    "    identifiedBy =  BNode() \n",
    "    g.add((bNadminMetadata, BF.identifiedBy, identifiedBy))\n",
    "    g.add((identifiedBy, RDF.type, BF.Local))\n",
    "    g.add((identifiedBy, BF.assigner, assigner_uri))\n",
    "    g.add((identifiedBy, RDF.value, Literal(adminMetadata.identifiedBy)))\n",
    "    # status\n",
    "    status = URIRef(adminMetadata.status.value)\n",
    "    g.add((status, RDF.type, BF.Status))\n",
    "    g.add((status, RDFS.label, Literal(adminMetadata.status.label)))\n",
    "    g.add((bNadminMetadata, BF.status, status))\n",
    "\n",
    "    return g\n",
    "\n",
    "def BfTitle(g, resource, BF):\n",
    "    title = BNode()\n",
    "    g.add((resource, BF.title, title))\n",
    "    g.add((title, RDF.type, BF.Title))\n",
    "    g.add((title, BF.mainTitle, Literal(title.mainTitle)))\n",
    "    if request.title.subtitle:\n",
    "        g.add((title, BF.subtitle, Literal(request.title.subtitle)))\n",
    "    if request.variantTitle:\n",
    "        for i in request.variantTitle:\n",
    "            variantTitle = BNode()\n",
    "            g.add((resource, BF.title, variantTitle))\n",
    "            g.add((variantTitle, RDF.type, BF.VariantTitle))\n",
    "            g.add((variantTitle, BF.mainTitle, Literal(i.mainTitle)))\n",
    "            if i.subtitle:\n",
    "                g.add((variantTitle, BF.subtitle, Literal(i.subtitle)))\n",
    "\n",
    "    return g\n",
    "\n",
    "def BFLanguage(g, resource, BF):\n",
    "    for i in request.language:\n",
    "        language = URIRef(f\"http://id.loc.gov/vocabulary/languages/{i.value}\")\n",
    "        g.add((language, RDF.type, BF.Language))\n",
    "        g.add((language, RDFS.label, Literal(i.label)))\n",
    "        g.add((resource, BF.language, language ))\n",
    "    return g  \n",
    "\n",
    "def BFContribution(g, resource, BF):\n",
    "    for i in request.contribution:\n",
    "        contribution = BNode()\n",
    "        g.add((resource, BF.contribution, contribution))\n",
    "        g.add((contribution, RDF.type, BF.Contribution))\n",
    "        agent = URIRef(i.term.value)\n",
    "        g.add((agent, RDF.type, BF.Agent))\n",
    "        g.add((agent, RDF.type, BF.Person))\n",
    "        g.add((agent, RDFS.label, Literal(i.term.label)))\n",
    "        g.add((contribution, BF.agent, agent))\n",
    "        role = URIRef(i.role.value)\n",
    "        g.add((role, RDF.type, BF.Role))\n",
    "        g.add((role, RDFS.label, Literal(i.role.label)))\n",
    "        g.add((contribution, BF.role, role))\n",
    "\n",
    "    return g\n",
    "\n",
    "def BFSubject(g, resource, BF):\n",
    "    for i in request.subject:\n",
    "        subject = URIRef(i.term.value)\n",
    "        g.add((subject, RDF.type, BF.Topic))\n",
    "        g.add((subject, RDFS.label, Literal(i.term.label, lang=i.lang)))\n",
    "        g.add((resource, BF.subject, subject))\n",
    "\n",
    "    return g\n",
    "\n",
    "def BfClassification(g, resource, classification, BF):\n",
    "    cdd = BNode()\n",
    "    g.add((resource, BF.classification, cdd))\n",
    "    g.add((cdd, RDF.type, BF.ClassificationDdc))\n",
    "    g.add((cdd, BF.classificationPortion, Literal(classification.cdd)))\n",
    "    cutter = BNode()\n",
    "    g.add((resource, BF.classification, cutter))\n",
    "    g.add((cutter, RDF.type, BF.Classification))\n",
    "    g.add((cutter, BF.classificationPortion, Literal(classification.cutter)))\n",
    "    return g\n",
    "\n"
   ]
  },
  {
   "cell_type": "code",
   "execution_count": null,
   "metadata": {},
   "outputs": [],
   "source": [
    "def MakeGraphWork(request):\n",
    "\n",
    "    BF = Namespace(\"http://id.loc.gov/ontologies/bibframe/\")\n",
    "    identifier = f\"https://bibliokeia/works/{request.adminMetadata.identifiedBy}\"\n",
    "    resource = URIRef(identifier)\n",
    "\n",
    "    g = Graph(identifier=identifier)\n",
    "    g.bind('bf', BF)\n",
    "    \n",
    "    # resourceType\n",
    "    BfType(g, resource, request.resourceType)\n",
    "    # AdminMetadata\n",
    "    g = BfAdminMetadata(g, request.adminMetadata, request, resource, BF) \n",
    "    # BfClassification\n",
    "    g = BfClassification(g, resource, request.classification, BF)\n",
    "    # Title\n",
    "    g = BfTitle(g, request, resource, BF)\n",
    "    # Language\n",
    "    g = BFLanguage(g, request.language, resource, BF)\n",
    "    # Contribution\n",
    "    g = BFContribution(g, request.contribution, resource, BF)\n",
    "    # Subject\n",
    "    g = BFSubject(g, request.subject, resource, BF) \n",
    "    # GenreForm\n",
    "    if request.genreForm and request.genreForm.valeu != \"\":\n",
    "        g = BfGenreForm(g, resource, request.genreForm, BF)    \n",
    " \n",
    "    graph = g.serialize(format='ttl')\n",
    "    # g.serialize(destination=\"work_test.ttl\", format='ttl')\n",
    "\n",
    "    return graph\n",
    "\n",
    "def MakeSparql(graph, ):\n",
    "    graph = graph.split(\"\\n\\n\")\n",
    "    graph = \"\\n\\n\".join(graph[1:])\n",
    "\n",
    "    graph = f\"\"\"\n",
    "        PREFIX bf: <http://id.loc.gov/ontologies/bibframe/>  \n",
    "        PREFIX rdf: <http://www.w3.org/1999/02/22-rdf-syntax-ns#>\n",
    "        PREFIX rdfs: <http://www.w3.org/2000/01/rdf-schema#>\n",
    "        PREFIX xsd: <http://www.w3.org/2001/XMLSchema#>\n",
    "\n",
    "        INSERT DATA {{\n",
    "            GRAPH <https://bibliokeia/works/10> \n",
    "            {{\n",
    "                {graph} }} }} \"\"\"\n",
    "\n",
    "    return graph\n",
    "\n",
    "\n",
    "graph = MakeGraphWork(request)\n",
    "sparql = MakeSparql(graph)\n",
    "print(sparql)"
   ]
  },
  {
   "cell_type": "code",
   "execution_count": 27,
   "metadata": {},
   "outputs": [
    {
     "data": {
      "text/plain": [
       "{'statusCode': 200, 'message': 'Update succeeded'}"
      ]
     },
     "execution_count": 27,
     "metadata": {},
     "output_type": "execute_result"
    }
   ],
   "source": [
    "fuseki = FusekiUpdate(\"http://localhost:3030\" , 'bk') \n",
    "response = fuseki.run_sparql(sparql) \n",
    "response.convert()"
   ]
  },
  {
   "cell_type": "code",
   "execution_count": 50,
   "metadata": {},
   "outputs": [
    {
     "data": {
      "text/plain": [
       "<Graph identifier=Nf8a4447e118c409ab437162e76a2afcd (<class 'rdflib.graph.Graph'>)>"
      ]
     },
     "execution_count": 50,
     "metadata": {},
     "output_type": "execute_result"
    }
   ],
   "source": [
    "# url = 'http://localhost:3030/bk/data?graph=https:%2F%2Fbibliokeia%2Fworks%2F10'\n",
    "url = \"http://id.loc.gov/resources/works/21984730.rdf\"\n",
    "g = Graph()\n",
    "g.parse(url)"
   ]
  },
  {
   "cell_type": "code",
   "execution_count": 37,
   "metadata": {},
   "outputs": [
    {
     "name": "stdout",
     "output_type": "stream",
     "text": [
      "DOC: {'id': 'work#teste', 'creationDate': '2024-03-14T10:35:59', 'type': ['Work', 'Text'], 'mainTitle': 'Conjecturas e refutações', 'language': ['Português'], 'subtitle': None, 'cdd': '001', 'cutter': 'P831c', 'note': None, 'summary': None, 'tableOfContents': None, 'isPartOf': 'Work', 'contribution': [{'id': 'work#teste/contribution/10', 'agent': 'https://bibliokeia.com/authority/PersonalName/10', 'label': 'Popper, Karl R.', 'role': 'http://id.loc.gov/vocabulary/relators/aut', 'roleLabel': 'Autor'}, {'id': 'work#teste/contribution/12', 'agent': 'https://bibliokeia.com/authority/PersonalName/12', 'label': 'Bath, Sérgio', 'role': 'http://id.loc.gov/vocabulary/relators/trl', 'roleLabel': 'Tradutor'}], 'subject': [{'id': 'work#teste/subject/11', 'type': 'Topic', 'uri': 'https://bibliokeia.com/authority/Topic/11', 'label': 'Metodologia'}]}\n"
     ]
    }
   ],
   "source": [
    "def DocWork(request, work_id):\n",
    "\n",
    "    work_id = f'work#{work_id}'\n",
    "\n",
    "    doc = {\n",
    "        \"id\": work_id,\n",
    "        \"creationDate\": request.adminMetadata.creationDate.strftime(\"%Y-%m-%dT%H:%M:%S\"),\n",
    "        \"type\": [i.value for i in request.resourceType],\n",
    "        # \"content\": request.content.label,\n",
    "        \"mainTitle\": request.title.mainTitle,\n",
    "        'language': [i.label for i in request.language],\n",
    "        \"subtitle\": request.title.subtitle,\n",
    "        \"cdd\": request.classification.cdd,\n",
    "        \"cutter\": request.classification.cutter,\n",
    "        \"note\": request.note,\n",
    "        \"summary\": request.summary,\n",
    "        \"tableOfContents\": request.tableOfContents,\n",
    "        # \"supplementaryContent\": [i.label for i in request.supplementaryContent] if request.supplementaryContent else None,\n",
    "        # \"illustrativeContent\": [i.label for i in request.illustrativeContent] if request.illustrativeContent else None,\n",
    "        # \"intendedAudience\": [i.label for i in request.intendedAudience] if request.intendedAudience else None,\n",
    "        # \"geographicCoverage\": [i.label for i in request.geographicCoverage] if request.geographicCoverage else None,\n",
    "        \"isPartOf\": \"Work\"\n",
    "\n",
    "    }\n",
    "    # contribution\n",
    "    if request.contribution:\n",
    "        contributions = list()\n",
    "        for i in request.contribution:\n",
    "            c = {\"id\": f\"{work_id}/contribution/{i.term.value.split('/')[-1]}\",\n",
    "                 \"agent\": i.term.value,\n",
    "                 \"label\": i.term.label,\n",
    "                 \"role\": i.role.value,\n",
    "                 \"roleLabel\": i.role.label}\n",
    "            contributions.append(c)\n",
    "        doc['contribution'] = contributions\n",
    "\n",
    "    # subject\n",
    "    if request.subject:\n",
    "        subjects = list()\n",
    "        for i in request.subject:\n",
    "            s = {\"id\": f\"{work_id}/subject/{i.term.value.split('/')[-1]}\",\n",
    "                 \"type\": i.type,\n",
    "                 \"uri\": i.term.value,\n",
    "                 \"label\": i.term.label}\n",
    "            subjects.append(s)\n",
    "        doc['subject'] = subjects\n",
    "\n",
    "    if request.genreForm:\n",
    "        pass\n",
    "\n",
    "    responseSolr = solr.add([doc], commit=True)\n",
    "\n",
    "    return responseSolr\n",
    "\n",
    "doc = DocWork(request, \"teste\")"
   ]
  },
  {
   "cell_type": "code",
   "execution_count": 39,
   "metadata": {},
   "outputs": [],
   "source": [
    "solr = Solr(f'{settings.solr}/solr/catalog/', timeout=10)"
   ]
  },
  {
   "cell_type": "code",
   "execution_count": 40,
   "metadata": {},
   "outputs": [
    {
     "data": {
      "text/plain": [
       "'{\\n  \"responseHeader\":{\\n    \"status\":0,\\n    \"QTime\":82\\n  }\\n}'"
      ]
     },
     "execution_count": 40,
     "metadata": {},
     "output_type": "execute_result"
    }
   ],
   "source": [
    "responseSolr = solr.add([doc], commit=True)\n",
    "responseSolr"
   ]
  },
  {
   "cell_type": "code",
   "execution_count": 13,
   "metadata": {},
   "outputs": [
    {
     "data": {
      "text/plain": [
       "'08/03/2024'"
      ]
     },
     "execution_count": 13,
     "metadata": {},
     "output_type": "execute_result"
    }
   ],
   "source": [
    "request.adminMetadata.creationDate"
   ]
  }
 ],
 "metadata": {
  "kernelspec": {
   "display_name": "venv",
   "language": "python",
   "name": "python3"
  },
  "language_info": {
   "codemirror_mode": {
    "name": "ipython",
    "version": 3
   },
   "file_extension": ".py",
   "mimetype": "text/x-python",
   "name": "python",
   "nbconvert_exporter": "python",
   "pygments_lexer": "ipython3",
   "version": "3.12.0"
  }
 },
 "nbformat": 4,
 "nbformat_minor": 2
}
