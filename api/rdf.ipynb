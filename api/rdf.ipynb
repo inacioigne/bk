{
 "cells": [
  {
   "cell_type": "code",
   "execution_count": 6,
   "metadata": {},
   "outputs": [],
   "source": [
    "from src.schemas.thesaurus.mads import SchemaMads\n",
    "\n",
    "from src.schemas.settings import Settings\n",
    "from rdflib import URIRef, Namespace, Graph, Literal, BNode\n",
    "from rdflib.namespace import RDF, RDFS\n",
    "settings = Settings()"
   ]
  },
  {
   "cell_type": "code",
   "execution_count": 4,
   "metadata": {},
   "outputs": [],
   "source": [
    "from src.schemas.thesaurus.mads import SchemaMads \n",
    "from datetime import datetime"
   ]
  },
  {
   "cell_type": "code",
   "execution_count": 2,
   "metadata": {},
   "outputs": [],
   "source": [
    "req = {\n",
    "    \"adminMetadata\": {\n",
    "        \"status\": {\n",
    "            \"value\": \"http://id.loc.gov/vocabulary/mstatus/n\",\n",
    "            \"label\": \"Novo\"\n",
    "        },\n",
    "        \"descriptionConventions\": {\n",
    "            \"value\": \"http://id.loc.gov/vocabulary/descriptionConventions/aacr\",\n",
    "            \"label\": \"AACr\"\n",
    "        }\n",
    "    },\n",
    "    \"resource\": [\n",
    "        {\n",
    "            \"type\": {\n",
    "                \"value\": \"http://www.loc.gov/mads/rdf/v1#Authority\",\n",
    "                \"label\": \"Authority\"\n",
    "            }\n",
    "        },\n",
    "        {\n",
    "            \"type\": {\n",
    "                \"value\": \"http://www.loc.gov/mads/rdf/v1#PersonalName\",\n",
    "                \"label\": \"PersonalName\"\n",
    "            }\n",
    "        }\n",
    "    ],\n",
    "    \"isMemberOfMADSCollection\": [\n",
    "        {\n",
    "            \"collection\": {\n",
    "                \"value\": \"names\",\n",
    "                \"label\": \"Nomes\"\n",
    "            }\n",
    "        }\n",
    "    ],\n",
    "    \"elementList\": [\n",
    "        {\n",
    "            \"elementType\": {\n",
    "                \"value\": \"http://www.loc.gov/mads/rdf/v1#FullNameElement\",\n",
    "                \"label\": \"FullNameElement\"\n",
    "            },\n",
    "            \"elementValue\": \"Rafael, José Albertino\"\n",
    "        }\n",
    "    ],\n",
    "    \"authoritativeLabel\": {\n",
    "        \"value\": \"Rafael, José Albertino\"\n",
    "    },\n",
    "    \"hasAffiliation\": [\n",
    "        {\n",
    "            \"authority\": {\n",
    "                \"base\": \"loc\",\n",
    "                \"value\": \"http://id.loc.gov/authorities/names/n82139358\",\n",
    "                \"label\": \"Instituto Nacional de Pesquisas da Amazônia\"\n",
    "            }\n",
    "        }\n",
    "    ],\n",
    "    \"identifiersLccn\": \"n2013200155\"\n",
    "}"
   ]
  },
  {
   "cell_type": "code",
   "execution_count": 5,
   "metadata": {},
   "outputs": [
    {
     "data": {
      "text/plain": [
       "SchemaMads(adminMetadata=AdminMetadata(creationDate=None, changeDate=None, status=BfElement(value='http://id.loc.gov/vocabulary/mstatus/n', base=None, label='Novo'), descriptionConventions=BfElement(value='http://id.loc.gov/vocabulary/descriptionConventions/aacr', base=None, label='AACr'), identifiedBy=None), resource=[Resource(type=Element(value='http://www.loc.gov/mads/rdf/v1#Authority', label='Authority')), Resource(type=Element(value='http://www.loc.gov/mads/rdf/v1#PersonalName', label='PersonalName'))], identifiersLccn='n2013200155', identifiersLocal=None, authoritativeLabel=BfElement(value='Rafael, José Albertino', base=None, label=None), fullerName=None, elementList=[MadsElement(elementType=Element(value='http://www.loc.gov/mads/rdf/v1#FullNameElement', label='FullNameElement'), elementValue='Rafael, José Albertino', elementLang=None)], hasVariant=None, isMemberOfMADSCollection=[MADSCollection(collection=Element(value='names', label='Nomes'))], birth=None, death=None, hasAffiliation=[Affiliation(authority=Uri(base='loc', uri=None, label='Instituto Nacional de Pesquisas da Amazônia', elementLang=None), affiliationStart=None, affiliationEnd=None)], hasCloseExternalAuthority=None, hasBroaderAuthority=None, hasNarrowerAuthority=None, hasReciprocalAuthority=None, occupation=None, fieldOfActivity=None, identifiesRWO=None, imagem=None)"
      ]
     },
     "execution_count": 5,
     "metadata": {},
     "output_type": "execute_result"
    }
   ],
   "source": [
    "from src.schemas.catalog.work import BfWork\n",
    "\n",
    "\n",
    "request = SchemaMads(**req)\n",
    "request"
   ]
  },
  {
   "cell_type": "code",
   "execution_count": 7,
   "metadata": {},
   "outputs": [
    {
     "name": "stdout",
     "output_type": "stream",
     "text": [
      "authority=Uri(base='loc', uri=None, label='Instituto Nacional de Pesquisas da Amazônia', elementLang=None) affiliationStart=None affiliationEnd=None\n"
     ]
    }
   ],
   "source": [
    "for i in request.hasAffiliation:\n",
    "    print(i)"
   ]
  },
  {
   "cell_type": "code",
   "execution_count": 4,
   "metadata": {},
   "outputs": [],
   "source": [
    "now = datetime.now()\n",
    "request.adminMetadata.creationDate = now\n",
    "request.adminMetadata.identifiedBy = 'TESTE'"
   ]
  },
  {
   "cell_type": "code",
   "execution_count": 5,
   "metadata": {},
   "outputs": [],
   "source": [
    "from src.function.catalog.instance.graphInstance import MakeGraphInstance\n",
    "\n",
    "\n",
    "graph = MakeGraphInstance(request)\n"
   ]
  },
  {
   "cell_type": "code",
   "execution_count": 10,
   "metadata": {},
   "outputs": [
    {
     "data": {
      "text/plain": [
       "'Manaus (Brazil)'"
      ]
     },
     "execution_count": 10,
     "metadata": {},
     "output_type": "execute_result"
    }
   ],
   "source": [
    "provisionActivity = request.provisionActivity[0]\n",
    "provisionActivity.place.label\n"
   ]
  },
  {
   "cell_type": "code",
   "execution_count": 13,
   "metadata": {},
   "outputs": [],
   "source": [
    "from pysolr import Solr\n",
    "solr = Solr(f'{settings.solr}/solr/authority/', timeout=10)"
   ]
  },
  {
   "cell_type": "code",
   "execution_count": 14,
   "metadata": {},
   "outputs": [
    {
     "data": {
      "text/plain": [
       "'{\\n  \"responseHeader\":{\\n    \"status\":0,\\n    \"QTime\":146\\n  }\\n}'"
      ]
     },
     "execution_count": 14,
     "metadata": {},
     "output_type": "execute_result"
    }
   ],
   "source": [
    "responseSolr = solr.add([doc], commit=True)\n",
    "responseSolr"
   ]
  },
  {
   "cell_type": "code",
   "execution_count": 4,
   "metadata": {},
   "outputs": [],
   "source": [
    "from src.function.thesaurus.solr.updateSolr import UpdateSolr\n",
    "\n",
    "\n",
    "UpdateSolr(request)"
   ]
  },
  {
   "cell_type": "code",
   "execution_count": 1,
   "metadata": {},
   "outputs": [
    {
     "data": {
      "text/plain": [
       "<Graph identifier=Nce6f77d3a5df452c8bf7a7096de8d58c (<class 'rdflib.graph.Graph'>)>"
      ]
     },
     "execution_count": 1,
     "metadata": {},
     "output_type": "execute_result"
    }
   ],
   "source": [
    "from rdflib import Graph\n",
    "graph = Graph()\n",
    "graph.parse('http://id.loc.gov/authorities/names/no2011070109.rdf')\n",
    "graph.serialize('insetos.ttl')"
   ]
  }
 ],
 "metadata": {
  "kernelspec": {
   "display_name": "venv",
   "language": "python",
   "name": "python3"
  },
  "language_info": {
   "codemirror_mode": {
    "name": "ipython",
    "version": 3
   },
   "file_extension": ".py",
   "mimetype": "text/x-python",
   "name": "python",
   "nbconvert_exporter": "python",
   "pygments_lexer": "ipython3",
   "version": "3.12.0"
  }
 },
 "nbformat": 4,
 "nbformat_minor": 2
}
