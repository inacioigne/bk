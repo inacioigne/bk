{
 "cells": [
  {
   "cell_type": "code",
   "execution_count": 1,
   "metadata": {},
   "outputs": [],
   "source": [
    "import httpx"
   ]
  },
  {
   "cell_type": "code",
   "execution_count": 3,
   "metadata": {},
   "outputs": [
    {
     "name": "stdout",
     "output_type": "stream",
     "text": [
      "{'responseHeader': {'status': 0, 'QTime': 410}}\n"
     ]
    }
   ],
   "source": [
    "headers = {\n",
    "    'Content-type': 'application/json',\n",
    "}\n",
    "url = 'http://localhost:8983/solr/authority/schema'\n",
    "\n",
    "json_data = {\n",
    "    'replace-field': {\n",
    "        'name': 'lang',\n",
    "        'type': 'string',\n",
    "    },\n",
    "}\n",
    "\n",
    "response = httpx.post(url, headers=headers, json=json_data, timeout=600)\n",
    "print(response.json())"
   ]
  }
 ],
 "metadata": {
  "kernelspec": {
   "display_name": "venv",
   "language": "python",
   "name": "python3"
  },
  "language_info": {
   "codemirror_mode": {
    "name": "ipython",
    "version": 3
   },
   "file_extension": ".py",
   "mimetype": "text/x-python",
   "name": "python",
   "nbconvert_exporter": "python",
   "pygments_lexer": "ipython3",
   "version": "3.12.0"
  }
 },
 "nbformat": 4,
 "nbformat_minor": 2
}
