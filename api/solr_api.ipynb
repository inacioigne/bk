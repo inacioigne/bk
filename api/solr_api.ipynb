{
 "cells": [
  {
   "cell_type": "code",
   "execution_count": 1,
   "metadata": {},
   "outputs": [],
   "source": [
    "import httpx"
   ]
  },
  {
   "cell_type": "code",
   "execution_count": 3,
   "metadata": {},
   "outputs": [
    {
     "name": "stdout",
     "output_type": "stream",
     "text": [
      "{'responseHeader': {'status': 0, 'QTime': 410}}\n"
     ]
    }
   ],
   "source": [
    "headers = {\n",
    "    'Content-type': 'application/json',\n",
    "}\n",
    "url = 'http://localhost:8983/solr/authority/schema'\n",
    "\n",
    "json_data = {\n",
    "    'replace-field': {\n",
    "        'name': 'lang',\n",
    "        'type': 'string',\n",
    "    },\n",
    "}\n",
    "\n",
    "response = httpx.post(url, headers=headers, json=json_data, timeout=600)\n",
    "print(response.json())"
   ]
  },
  {
   "cell_type": "code",
   "execution_count": 10,
   "metadata": {},
   "outputs": [],
   "source": [
    "from pydantic import BaseModel\n",
    "from typing import Optional\n",
    "\n",
    "class Uri(BaseModel):\n",
    "    uri: str\n",
    "    uriLabel: Optional[str] = None"
   ]
  },
  {
   "cell_type": "code",
   "execution_count": 16,
   "metadata": {},
   "outputs": [],
   "source": [
    "e1 = {\n",
    "        \"uri\": \"fdsfsd\",\n",
    "        \"uriLabel\": \"Bibliografia\"\n",
    "    }\n",
    "e2 = {\n",
    "        \"uri\": \"\"\n",
    "    }\n",
    "\n",
    "el1 = Uri(**e1)\n",
    "\n",
    "el2 = Uri(**e2)\n",
    "\n",
    "elements = [el1, el2]"
   ]
  },
  {
   "cell_type": "code",
   "execution_count": 22,
   "metadata": {},
   "outputs": [
    {
     "name": "stdout",
     "output_type": "stream",
     "text": [
      "U:  fdsfsd\n",
      "U:  \n"
     ]
    },
    {
     "data": {
      "text/plain": [
       "[Uri(uri='fdsfsd', uriLabel='Bibliografia')]"
      ]
     },
     "execution_count": 22,
     "metadata": {},
     "output_type": "execute_result"
    }
   ],
   "source": [
    "def clean_list(elements):\n",
    "    print(\"U: \",elements.uri)\n",
    "    return elements.uri != \"\"\n",
    "\n",
    "es = list(filter(clean_list, elements))\n",
    "es\n"
   ]
  },
  {
   "cell_type": "code",
   "execution_count": 30,
   "metadata": {},
   "outputs": [],
   "source": [
    "from rdflib import Graph"
   ]
  },
  {
   "cell_type": "code",
   "execution_count": 24,
   "metadata": {},
   "outputs": [],
   "source": [
    "rdf = \"\"\"<bf:Work rdf:about=\"http://id.loc.gov/resources/works/100\" >\n",
    "<bf:illustrativeContent >\n",
    "<bf:Illustration rdf:about=\"http://id.loc.gov/vocabulary/millus/ill\" >\n",
    "<rdfs:label >Illustrations</rdfs:label>\n",
    "</bf:Illustration>\n",
    "</bf:illustrativeContent>\n",
    "</bf:Work>\"\"\""
   ]
  },
  {
   "cell_type": "code",
   "execution_count": 38,
   "metadata": {},
   "outputs": [],
   "source": [
    "g = Graph()"
   ]
  },
  {
   "cell_type": "code",
   "execution_count": 39,
   "metadata": {},
   "outputs": [
    {
     "data": {
      "text/plain": [
       "<Graph identifier=N72b5a99a70504393a4f6f7ed4531279b (<class 'rdflib.graph.Graph'>)>"
      ]
     },
     "execution_count": 39,
     "metadata": {},
     "output_type": "execute_result"
    }
   ],
   "source": [
    "g.parse('http://id.loc.gov/resources/works/100.rdf')"
   ]
  },
  {
   "cell_type": "code",
   "execution_count": 43,
   "metadata": {},
   "outputs": [
    {
     "name": "stdout",
     "output_type": "stream",
     "text": [
      "@prefix bf: <http://id.loc.gov/ontologies/bibframe/> .\n",
      "@prefix bflc: <http://id.loc.gov/ontologies/bflc/> .\n",
      "@prefix dcterms: <http://purl.org/dc/terms/> .\n",
      "@prefix lclocal: <http://id.loc.gov/ontologies/lclocal/> .\n",
      "@prefix madsrdf: <http://www.loc.gov/mads/rdf/v1#> .\n",
      "@prefix rdf: <http://www.w3.org/1999/02/22-rdf-syntax-ns#> .\n",
      "@prefix rdfs: <http://www.w3.org/2000/01/rdf-schema#> .\n",
      "@prefix xsd: <http://www.w3.org/2001/XMLSchema#> .\n",
      "\n",
      "<http://id.loc.gov/resources/works/100> a bf:Multimedia,\n",
      "        bf:Text,\n",
      "        bf:Work ;\n",
      "    bflc:aap \"Education in Colorado\" ;\n",
      "    bflc:aap-normalized \"educationincolorado\" ;\n",
      "    bf:adminMetadata [ a bf:AdminMetadata ;\n",
      "            bflc:encodingLevel <http://id.loc.gov/vocabulary/menclvl/f> ;\n",
      "            bf:assigner <http://id.loc.gov/vocabulary/organizations/dlc> ;\n",
      "            bf:changeDate \"2018-12-28T10:35:39\"^^xsd:dateTime ;\n",
      "            bf:creationDate \"1999-05-27\"^^xsd:date ;\n",
      "            bf:descriptionConventions <http://id.loc.gov/vocabulary/descriptionConventions/aacr> ;\n",
      "            bf:descriptionModifier <http://id.loc.gov/vocabulary/organizations/dlc> ;\n",
      "            bf:generationProcess [ a bf:GenerationProcess ;\n",
      "                    rdfs:label \"DLC marc2bibframe2 v1.7.0\" ;\n",
      "                    bf:generationDate \"2022-02-02T18:05:19.122747-05:00\"^^xsd:dateTime ] ;\n",
      "            bf:identifiedBy [ a bf:Local ;\n",
      "                    bf:assigner <http://id.loc.gov/vocabulary/organizations/dlc> ;\n",
      "                    rdf:value \"100\" ] ;\n",
      "            bf:status <http://id.loc.gov/vocabulary/mstatus/c> ;\n",
      "            lclocal:d906 \"=906     $a 7 $b cbc $c orignew $d 3 $e ncip $f 19 $g y-gencatlg\" ;\n",
      "            lclocal:d955 \"=955     $a NEW INPUT; sj01 05-27-99; sj03 08-10-99; sj10 08-12-99; sj04 08-12-99; to BCCD 08-23-99\" ] ;\n",
      "    bf:classification [ a bf:ClassificationLcc ;\n",
      "            bf:assigner <http://id.loc.gov/vocabulary/organizations/dlc> ;\n",
      "            bf:classificationPortion \"LA246\" ;\n",
      "            bf:itemPortion \".E38 1885\" ] ;\n",
      "    bf:content <http://id.loc.gov/vocabulary/contentTypes/txt> ;\n",
      "    bf:contribution [ a bf:Contribution ;\n",
      "            bf:agent <http://id.loc.gov/rwo/agents/n99057137> ;\n",
      "            bf:role <http://id.loc.gov/vocabulary/relators/ctb> ] ;\n",
      "    bf:genreForm <http://id.loc.gov/authorities/genreForms/gf2014026049> ;\n",
      "    bf:geographicCoverage <http://id.loc.gov/vocabulary/geographicAreas/n-us-co> ;\n",
      "    bf:hasInstance <http://id.loc.gov/resources/instances/100>,\n",
      "        <http://id.loc.gov/resources/instances/100-856-21> ;\n",
      "    bf:illustrativeContent <http://id.loc.gov/vocabulary/millus/ill> ;\n",
      "    bf:language <http://id.loc.gov/vocabulary/languages/eng> ;\n",
      "    bf:subject [ a bf:Topic,\n",
      "                madsrdf:ComplexSubject ;\n",
      "            rdfs:label \"Education--Colorado--History--19th century.\" ;\n",
      "            bflc:aap-normalized \"educationcoloradohistory19thcentury\" ;\n",
      "            bf:source <http://id.loc.gov/authorities/subjects> ;\n",
      "            madsrdf:authoritativeLabel \"Education--Colorado--History--19th century.\" ;\n",
      "            madsrdf:componentList ( <http://id.loc.gov/authorities/subjects/sh85040989> <http://id.loc.gov/rwo/agents/n80125532-781> <http://id.loc.gov/authorities/subjects/sh99005024> <http://id.loc.gov/authorities/subjects/sh2002012475> ) ;\n",
      "            madsrdf:isMemberOfMADSScheme <http://id.loc.gov/authorities/subjects> ],\n",
      "        [ a bf:Topic,\n",
      "                madsrdf:ComplexSubject ;\n",
      "            bflc:aap-normalized \"coloradostateteachers'associationhistory19thcentury\" ;\n",
      "            bf:source <http://id.loc.gov/authorities/subjects> ;\n",
      "            madsrdf:authoritativeLabel \"Colorado State Teachers' Association--History--19th century.\" ;\n",
      "            madsrdf:componentList ( <http://id.loc.gov/resources/REPLACE/100#Agent610-19> <http://id.loc.gov/authorities/subjects/sh99005024> <http://id.loc.gov/authorities/subjects/sh2002012475> ) ;\n",
      "            madsrdf:isMemberOfMADSScheme <http://id.loc.gov/authorities/subjects> ],\n",
      "        [ a bf:Topic,\n",
      "                madsrdf:ComplexSubject ;\n",
      "            rdfs:label \"Educators--Colorado--Biography.\" ;\n",
      "            bflc:aap-normalized \"educatorscoloradobiography\" ;\n",
      "            bf:source <http://id.loc.gov/authorities/subjects> ;\n",
      "            madsrdf:authoritativeLabel \"Educators--Colorado--Biography.\" ;\n",
      "            madsrdf:componentList ( <http://id.loc.gov/authorities/subjects/sh85041161> <http://id.loc.gov/rwo/agents/n80125532-781> <http://id.loc.gov/authorities/subjects/sh99001237> ) ;\n",
      "            madsrdf:isMemberOfMADSScheme <http://id.loc.gov/authorities/subjects> ] ;\n",
      "    bf:title [ a bf:Title ;\n",
      "            bf:mainTitle \"Education in Colorado\" ] ;\n",
      "    dcterms:isPartOf <http://id.loc.gov/resources/works> .\n",
      "\n",
      "<http://id.loc.gov/authorities/genreForms/gf2014026049> a bf:GenreForm ;\n",
      "    rdfs:label \"Biographies\"@en ;\n",
      "    bflc:marcKey \"155  $aBiographies\" .\n",
      "\n",
      "<http://id.loc.gov/authorities/subjects/sh85040989> a madsrdf:Topic ;\n",
      "    rdfs:label \"Education\"@en ;\n",
      "    bflc:marcKey \"150  $aEducation\" .\n",
      "\n",
      "<http://id.loc.gov/authorities/subjects/sh85041161> a madsrdf:Topic ;\n",
      "    rdfs:label \"Educators\"@en ;\n",
      "    bflc:marcKey \"150  $aEducators\" .\n",
      "\n",
      "<http://id.loc.gov/authorities/subjects/sh99001237> a madsrdf:GenreForm ;\n",
      "    rdfs:label \"Biography\"@en ;\n",
      "    bflc:marcKey \"185  $vBiography\" .\n",
      "\n",
      "<http://id.loc.gov/resources/REPLACE/100#Agent610-19> a bf:Agent,\n",
      "        bf:Organization,\n",
      "        madsrdf:CorporateName ;\n",
      "    rdfs:label \"Colorado State Teachers' Association\" ;\n",
      "    bflc:name10MarcKey \"61020$aColorado State Teachers' Association$xHistory$y19th century.\" ;\n",
      "    bflc:name10MatchKey \"Colorado State Teachers' Association\" ;\n",
      "    bf:source <http://id.loc.gov/authorities/subjects> ;\n",
      "    madsrdf:authoritativeLabel \"Colorado State Teachers' Association\" ;\n",
      "    madsrdf:isMemberOfMADSScheme <http://id.loc.gov/authorities/subjects> .\n",
      "\n",
      "<http://id.loc.gov/resources/instances/100> a bf:Instance ;\n",
      "    bf:title [ a bf:Title ;\n",
      "            bf:mainTitle \"Education in Colorado\" ;\n",
      "            bf:subtitle \"1861-1885 : a brief history of the early educational interests of Colorado, together with the history of the State Teachers' Association, and short sketches of private and denominational institutions\" ] .\n",
      "\n",
      "<http://id.loc.gov/rwo/agents/n99057137> a bf:Agent,\n",
      "        bf:Organization ;\n",
      "    rdfs:label \"Colorado State Teachers' Association\" ;\n",
      "    bflc:marcKey \"1102 $aColorado State Teachers' Association\" .\n",
      "\n",
      "<http://id.loc.gov/vocabulary/contentTypes/txt> a bf:Content ;\n",
      "    rdfs:label \"text\" .\n",
      "\n",
      "<http://id.loc.gov/vocabulary/descriptionConventions/aacr> a bf:DescriptionConventions ;\n",
      "    rdfs:label \"Anglo-American cataloguing rules\" .\n",
      "\n",
      "<http://id.loc.gov/vocabulary/geographicAreas/n-us-co> a bf:GeographicCoverage ;\n",
      "    rdfs:label \"Colorado\"@en .\n",
      "\n",
      "<http://id.loc.gov/vocabulary/languages/eng> a bf:Language ;\n",
      "    rdfs:label \"English\"@en .\n",
      "\n",
      "<http://id.loc.gov/vocabulary/menclvl/f> a bflc:EncodingLevel ;\n",
      "    rdfs:label \"full\" .\n",
      "\n",
      "<http://id.loc.gov/vocabulary/millus/ill> a bf:Illustration ;\n",
      "    rdfs:label \"Illustrations\" .\n",
      "\n",
      "<http://id.loc.gov/vocabulary/mstatus/c> a bf:Status ;\n",
      "    rdfs:label \"changed\" .\n",
      "\n",
      "<http://id.loc.gov/vocabulary/relators/ctb> a bf:Role ;\n",
      "    rdfs:label \"Contributor\" .\n",
      "\n",
      "<http://id.loc.gov/authorities/subjects/sh2002012475> a madsrdf:Temporal ;\n",
      "    rdfs:label \"19th century\"@en ;\n",
      "    bflc:marcKey \"182  $y19th century\" .\n",
      "\n",
      "<http://id.loc.gov/authorities/subjects/sh99005024> a madsrdf:Topic ;\n",
      "    rdfs:label \"History\"@en ;\n",
      "    bflc:marcKey \"180  $xHistory\" .\n",
      "\n",
      "<http://id.loc.gov/rwo/agents/n80125532-781> a madsrdf:Geographic ;\n",
      "    rdfs:label \"Colorado\" ;\n",
      "    bflc:marcKey \"181  $zColorado\" .\n",
      "\n",
      "<http://id.loc.gov/vocabulary/organizations/dlc> a bf:Organization ;\n",
      "    rdfs:label \"United States, Library of Congress\" .\n",
      "\n",
      "<http://id.loc.gov/authorities/subjects> a bf:Source,\n",
      "        madsrdf:MADSScheme ;\n",
      "    rdfs:label \"\"\"Library of\n",
      "            Congress Subject Headings\"\"\"@en .\n",
      "\n",
      "\n"
     ]
    }
   ],
   "source": [
    "print(g.serialize(format='turtle'))"
   ]
  },
  {
   "cell_type": "code",
   "execution_count": 42,
   "metadata": {},
   "outputs": [
    {
     "data": {
      "text/plain": [
       "<Graph identifier=N72b5a99a70504393a4f6f7ed4531279b (<class 'rdflib.graph.Graph'>)>"
      ]
     },
     "execution_count": 42,
     "metadata": {},
     "output_type": "execute_result"
    }
   ],
   "source": [
    "g.serialize( destination=\"work.ttl\", format='turtle')"
   ]
  }
 ],
 "metadata": {
  "kernelspec": {
   "display_name": "venv",
   "language": "python",
   "name": "python3"
  },
  "language_info": {
   "codemirror_mode": {
    "name": "ipython",
    "version": 3
   },
   "file_extension": ".py",
   "mimetype": "text/x-python",
   "name": "python",
   "nbconvert_exporter": "python",
   "pygments_lexer": "ipython3",
   "version": "3.12.0"
  }
 },
 "nbformat": 4,
 "nbformat_minor": 2
}
