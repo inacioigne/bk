{
 "cells": [
  {
   "cell_type": "code",
   "execution_count": 20,
   "metadata": {},
   "outputs": [],
   "source": [
    "from pysolr import Solr\n",
    "from src.schemas.settings import Settings\n",
    "from src.schemas.thesaurus.mads import SchemaMads \n",
    "import json\n"
   ]
  },
  {
   "cell_type": "code",
   "execution_count": null,
   "metadata": {},
   "outputs": [],
   "source": [
    "with open(\"test.json\") as file:\n",
    "    reader = json.load(file)\n",
    "\n",
    "reader"
   ]
  },
  {
   "cell_type": "code",
   "execution_count": 23,
   "metadata": {},
   "outputs": [
    {
     "data": {
      "text/plain": [
       "SchemaMads(type='Topic', identifiersLccn='sh85066670', identifiersLocal='4', adminMetadata=AdminMetadata(assigner='http://id.loc.gov/vocabulary/organizations/brmninpa', descriptionModifier='http://id.loc.gov/vocabulary/organizations/brmninpa', changeDate=None, creationDate=datetime.date(2023, 11, 9), descriptionLanguage='http://id.loc.gov/vocabulary/languages/por', generationProcess='BiblioKeia v.1', generationDate='2023-11-09T17:06:16', status=Status(value='n', label='novo')), authoritativeLabel='Insects', elementList=[Element(type='TopicElement', elementValue=Label(value='Insects', lang='en'))], fullerName=None, hasVariant=[Variant(type='Topic', elementList=[Element(type='TopicElement', elementValue=Label(value='Hexapoda', lang=None))]), Variant(type='Topic', elementList=[Element(type='TopicElement', elementValue=Label(value='Insecta', lang=None))]), Variant(type='Topic', elementList=[Element(type='TopicElement', elementValue=Label(value='Pterygota', lang=None))])], identifiesRWO=None, birthPlace=None, birthDayDate=None, birthMonthDate=None, birthYearDate=None, hasAffiliation=None, fieldOfActivity=None, deathPlace=None, deathDayDate=None, deathMonthDate=None, deathYearDate=None, occupation=None, hasCloseExternalAuthority=[Uri(uri='http://www.wikidata.org/entity/Q1390', label='insect', type=None, base='www.wikidata.org', lang=None), Uri(uri='http://datos.bne.es/resource/XX524421', label='Insectos', type=None, base='datos.bne.es', lang=None), Uri(uri='http://lod.nal.usda.gov/nalt/45487', label='Insecta', type=None, base='lod.nal.usda.gov', lang=None), Uri(uri='http://purl.org/bncf/tid/634', label='Insetti', type=None, base='purl.org', lang=None), Uri(uri='http://lod.nal.usda.gov/nalt/76', label='Hexapoda', type=None, base='lod.nal.usda.gov', lang=None), Uri(uri='http://data.bnf.fr/ark:/12148/cb11932119n', label='Insectes', type=None, base='data.bnf.fr', lang=None), Uri(uri='http://www.yso.fi/onto/yso/p1983', label='hyÃ¶nteiset', type=None, base='www.yso.fi', lang=None), Uri(uri='https://d-nb.info/gnd/4027110-9', label='Insekten', type=None, base='d-nb.info', lang=None), Uri(uri='http://id.worldcat.org/fast/974074', label='Insects', type=None, base='id.worldcat.org', lang=None)], hasExactExternalAuthority=None, hasBroaderAuthority=[Uri(uri='http://id.loc.gov/authorities/subjects/sh85008134', label='Arthropoda', type=None, base='loc', lang=None)], hasNarrowerAuthority=[Uri(uri='http://id.loc.gov/authorities/subjects/sh85108332', label='Psocoptera', type=None, base='loc', lang=None), Uri(uri='http://id.loc.gov/authorities/subjects/sh85042686', label='Embioptera', type=None, base='loc', lang=None), Uri(uri='http://id.loc.gov/authorities/subjects/sh85076759', label='Lice', type=None, base='loc', lang=None), Uri(uri='http://id.loc.gov/authorities/subjects/sh85060175', label='Hemiptera', type=None, base='loc', lang=None), Uri(uri='http://id.loc.gov/authorities/subjects/sh90005479', label='Bloodsucking insects', type=None, base='loc', lang=None), Uri(uri='http://id.loc.gov/authorities/subjects/sh85107825', label='Protura', type=None, base='loc', lang=None), Uri(uri='http://id.loc.gov/authorities/subjects/sh2005020304', label='Carrion insects', type=None, base='loc', lang=None), Uri(uri='http://id.loc.gov/authorities/subjects/sh85094090', label='Odonata', type=None, base='loc', lang=None), Uri(uri='http://id.loc.gov/authorities/subjects/sh85006203', label='Apterygota', type=None, base='loc', lang=None), Uri(uri='http://id.loc.gov/authorities/subjects/sh2008020096', label='Saproxylic insects', type=None, base='loc', lang=None), Uri(uri='http://id.loc.gov/authorities/subjects/sh92000807', label='Gnats', type=None, base='loc', lang=None), Uri(uri='http://id.loc.gov/authorities/subjects/sh85050594', label='Forest insects', type=None, base='loc', lang=None), Uri(uri='http://id.loc.gov/authorities/subjects/sh85066645', label='Insect pests', type=None, base='loc', lang=None), Uri(uri='http://id.loc.gov/authorities/subjects/sh85128674', label='Strepsiptera', type=None, base='loc', lang=None), Uri(uri='http://id.loc.gov/authorities/subjects/sh85128335', label='Stoneflies', type=None, base='loc', lang=None), Uri(uri='http://id.loc.gov/authorities/subjects/sh85076067', label='Lepidoptera', type=None, base='loc', lang=None), Uri(uri='http://id.loc.gov/authorities/subjects/sh2001008516', label='Mantodea', type=None, base='loc', lang=None), Uri(uri='http://id.loc.gov/authorities/subjects/sh93001373', label='Queens (Insects)', type=None, base='loc', lang=None), Uri(uri='http://id.loc.gov/authorities/subjects/sh85041874', label='Electric organs in insects', type=None, base='loc', lang=None), Uri(uri='http://id.loc.gov/authorities/subjects/sh85082422', label='Mayflies', type=None, base='loc', lang=None), Uri(uri='http://id.loc.gov/authorities/subjects/sh85134031', label='Termites', type=None, base='loc', lang=None), Uri(uri='http://id.loc.gov/authorities/subjects/sh91001313', label='Phasmatoptera', type=None, base='loc', lang=None), Uri(uri='http://id.loc.gov/authorities/subjects/sh93002360', label='Predatory insects', type=None, base='loc', lang=None), Uri(uri='http://id.loc.gov/authorities/subjects/sh85013131', label='Beneficial insects', type=None, base='loc', lang=None), Uri(uri='http://id.loc.gov/authorities/subjects/sh85049104', label='Flies', type=None, base='loc', lang=None), Uri(uri='http://id.loc.gov/authorities/subjects/sh85091166', label='Neuroptera', type=None, base='loc', lang=None), Uri(uri='http://id.loc.gov/authorities/subjects/sh85049052', label='Fleas', type=None, base='loc', lang=None), Uri(uri='http://id.loc.gov/authorities/subjects/sh88006704', label='Phytophagous insects', type=None, base='loc', lang=None), Uri(uri='http://id.loc.gov/authorities/subjects/sh85101352', label='Photography of insects', type=None, base='loc', lang=None), Uri(uri='http://id.loc.gov/authorities/subjects/sh92000131', label='Rare insects', type=None, base='loc', lang=None), Uri(uri='http://id.loc.gov/authorities/subjects/sh2021005269', label='Classification--Books--Insects', type=None, base='loc', lang=None), Uri(uri='http://id.loc.gov/authorities/subjects/sh2002004915', label='Archaeognatha', type=None, base='loc', lang=None), Uri(uri='http://id.loc.gov/authorities/subjects/sh85005450', label='Anoplura', type=None, base='loc', lang=None), Uri(uri='http://id.loc.gov/authorities/subjects/sh85047912', label='Fertilization of plants by insects', type=None, base='loc', lang=None), Uri(uri='http://id.loc.gov/authorities/subjects/sh85135052', label='Thrips', type=None, base='loc', lang=None), Uri(uri='http://id.loc.gov/authorities/subjects/sh85066657', label='Insect societies', type=None, base='loc', lang=None), Uri(uri='http://id.loc.gov/authorities/subjects/sh85012867', label='Beetles', type=None, base='loc', lang=None), Uri(uri='http://id.loc.gov/authorities/subjects/sh2007005354', label='Introduced insects', type=None, base='loc', lang=None), Uri(uri='http://id.loc.gov/authorities/subjects/sh85066699', label='Aquatic insects', type=None, base='loc', lang=None), Uri(uri='http://id.loc.gov/authorities/subjects/sh85027610', label='Cockroaches', type=None, base='loc', lang=None), Uri(uri='http://id.loc.gov/authorities/subjects/sh85038238', label='Diptera', type=None, base='loc', lang=None), Uri(uri='http://id.loc.gov/authorities/subjects/sh85095822', label='Orthoptera', type=None, base='loc', lang=None), Uri(uri='http://id.loc.gov/authorities/subjects/sh85063592', label='Hymenoptera', type=None, base='loc', lang=None), Uri(uri='http://id.loc.gov/authorities/subjects/sh85082794', label='Mecoptera', type=None, base='loc', lang=None), Uri(uri='http://id.loc.gov/authorities/subjects/sh85037080', label='Earwigs', type=None, base='loc', lang=None), Uri(uri='http://id.loc.gov/authorities/subjects/sh85080166', label='Mallophaga', type=None, base='loc', lang=None), Uri(uri='http://id.loc.gov/authorities/subjects/sh00003441', label='Insect pollinators', type=None, base='loc', lang=None), Uri(uri='http://id.loc.gov/authorities/subjects/sh99000944', label='Raphidioptera', type=None, base='loc', lang=None), Uri(uri='http://id.loc.gov/authorities/subjects/sh99000943', label='Megaloptera', type=None, base='loc', lang=None), Uri(uri='http://id.loc.gov/authorities/subjects/sh85066704', label='Edible insects', type=None, base='loc', lang=None), Uri(uri='http://id.loc.gov/authorities/subjects/sh85038214', label='Diplura', type=None, base='loc', lang=None), Uri(uri='http://id.loc.gov/authorities/subjects/sh92002134', label='Extinct insects', type=None, base='loc', lang=None), Uri(uri='http://id.loc.gov/authorities/subjects/sh85097913', label='Parasitic insects', type=None, base='loc', lang=None), Uri(uri='http://id.loc.gov/authorities/subjects/sh85061775', label='Homoptera', type=None, base='loc', lang=None), Uri(uri='http://id.loc.gov/authorities/subjects/sh2012001922', label='Workers (Insects)', type=None, base='loc', lang=None), Uri(uri='http://id.loc.gov/authorities/subjects/sh2002004123', label='Grylloblattodea', type=None, base='loc', lang=None), Uri(uri='http://id.loc.gov/authorities/subjects/sh85018616', label='Caddisflies', type=None, base='loc', lang=None), Uri(uri='http://id.loc.gov/authorities/subjects/sh85028419', label='Collembola', type=None, base='loc', lang=None), Uri(uri='http://id.loc.gov/authorities/subjects/sh2002000222', label='Mycophagous insects', type=None, base='loc', lang=None), Uri(uri='http://id.loc.gov/authorities/subjects/sh85135184', label='Thysanura', type=None, base='loc', lang=None)], hasReciprocalAuthority=[Uri(uri='http://id.loc.gov/authorities/subjects/sh85044125', label='Entomology', type=None, base='loc', lang=None)], imagem=None, isMemberOfMADSCollection='subjects')"
      ]
     },
     "execution_count": 23,
     "metadata": {},
     "output_type": "execute_result"
    }
   ],
   "source": [
    "request = SchemaMads(**reader)\n",
    "request"
   ]
  },
  {
   "cell_type": "code",
   "execution_count": 3,
   "metadata": {},
   "outputs": [],
   "source": [
    "settings = Settings()\n",
    "solr = Solr(f'{settings.solr}/solr/authority/', timeout=10)"
   ]
  },
  {
   "cell_type": "code",
   "execution_count": 6,
   "metadata": {},
   "outputs": [],
   "source": [
    "r = solr.search(q=f'id:6', **{'fl': '*,[child]'})\n",
    "[doc] = r.docs"
   ]
  },
  {
   "cell_type": "code",
   "execution_count": 11,
   "metadata": {},
   "outputs": [
    {
     "data": {
      "text/plain": [
       "{'id': '6/hasBroaderAuthority#sh85149983',\n",
       " 'label': ['Zoology'],\n",
       " 'uri': 'http://id.loc.gov/authorities/subjects/sh85149983',\n",
       " 'base': 'loc',\n",
       " '_version_': 1782118705651515392}"
      ]
     },
     "execution_count": 11,
     "metadata": {},
     "output_type": "execute_result"
    }
   ],
   "source": [
    "doc.get('hasBroaderAuthority')"
   ]
  },
  {
   "cell_type": "code",
   "execution_count": 16,
   "metadata": {},
   "outputs": [],
   "source": [
    "uri = f'https://bibliokeia.com/authority/Topic/6'\n"
   ]
  },
  {
   "cell_type": "code",
   "execution_count": 18,
   "metadata": {},
   "outputs": [],
   "source": [
    "delUri = doc.get('hasBroaderAuthority')['uri']\n",
    "request = {'authority': uri, \n",
    "                        'uri': delUri, \n",
    "                        'type': 'hasNarrowerAuthority' }"
   ]
  },
  {
   "cell_type": "code",
   "execution_count": 9,
   "metadata": {},
   "outputs": [],
   "source": [
    "id = doc['id']\n",
    "ids = [id]\n",
    "nMeta = [\n",
    "        \"id\", \"identifiersLccn\",\"type\", \"creationDate\", \"authority\", \"affiliation\", \"occupation\", \"isMemberOfMADSCollection\", \n",
    "        \"note\", \"variant\", \"imagem\", \"fullerName\", \"birthDate\", \"birthPlace\",\"deathDate\",  \"_version_\", \n",
    "        \"label\", \"changeDate\", \"deathPlace\", \"birthDayDate\", \"birthMonthDate\", \"birthYearDate\", \"deathDayDate\",\n",
    "        \"deathMonthDate\", \"deathYearDate\", \"occupationLabels\", \"hasBroaderAuthorityLabels\", \"hasNarrowerAuthorityLabels\", \n",
    "          \"hasReciprocalAuthorityLabels\"  ]"
   ]
  },
  {
   "cell_type": "code",
   "execution_count": 10,
   "metadata": {},
   "outputs": [
    {
     "name": "stdout",
     "output_type": "stream",
     "text": [
      "hasReciprocalAuthority\n",
      "hasBroaderAuthority\n",
      "hasCloseExternalAuthority\n",
      "hasNarrowerAuthority\n"
     ]
    }
   ],
   "source": [
    "for k, v in doc.items():\n",
    "        if k not in nMeta:\n",
    "                print(k)"
   ]
  }
 ],
 "metadata": {
  "kernelspec": {
   "display_name": "Python 3",
   "language": "python",
   "name": "python3"
  },
  "language_info": {
   "codemirror_mode": {
    "name": "ipython",
    "version": 3
   },
   "file_extension": ".py",
   "mimetype": "text/x-python",
   "name": "python",
   "nbconvert_exporter": "python",
   "pygments_lexer": "ipython3",
   "version": "3.12.0"
  }
 },
 "nbformat": 4,
 "nbformat_minor": 2
}
