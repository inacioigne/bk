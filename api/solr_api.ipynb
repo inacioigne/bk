{
 "cells": [
  {
   "cell_type": "code",
   "execution_count": 2,
   "metadata": {},
   "outputs": [],
   "source": [
    "import httpx"
   ]
  },
  {
   "cell_type": "code",
   "execution_count": 3,
   "metadata": {},
   "outputs": [
    {
     "name": "stdout",
     "output_type": "stream",
     "text": [
      "{'responseHeader': {'status': 0, 'QTime': 448}}\n"
     ]
    }
   ],
   "source": [
    "headers = {\n",
    "    'Content-type': 'application/json',\n",
    "}\n",
    "url = 'http://localhost:8983/solr/catalog/schema'\n",
    "\n",
    "json_data = {\n",
    "    'replace-field': {\n",
    "        'name': 'summary',\n",
    "        'type': 'string',\n",
    "    },\n",
    "}\n",
    "\n",
    "response = httpx.post(url, headers=headers, json=json_data, timeout=600)\n",
    "print(response.json())"
   ]
  },
  {
   "cell_type": "code",
   "execution_count": 10,
   "metadata": {},
   "outputs": [],
   "source": [
    "from pydantic import BaseModel\n",
    "from typing import Optional\n",
    "\n",
    "class Uri(BaseModel):\n",
    "    uri: str\n",
    "    uriLabel: Optional[str] = None"
   ]
  },
  {
   "cell_type": "code",
   "execution_count": 16,
   "metadata": {},
   "outputs": [],
   "source": [
    "e1 = {\n",
    "        \"uri\": \"fdsfsd\",\n",
    "        \"uriLabel\": \"Bibliografia\"\n",
    "    }\n",
    "e2 = {\n",
    "        \"uri\": \"\"\n",
    "    }\n",
    "\n",
    "el1 = Uri(**e1)\n",
    "\n",
    "el2 = Uri(**e2)\n",
    "\n",
    "elements = [el1, el2]"
   ]
  },
  {
   "cell_type": "code",
   "execution_count": 22,
   "metadata": {},
   "outputs": [
    {
     "name": "stdout",
     "output_type": "stream",
     "text": [
      "U:  fdsfsd\n",
      "U:  \n"
     ]
    },
    {
     "data": {
      "text/plain": [
       "[Uri(uri='fdsfsd', uriLabel='Bibliografia')]"
      ]
     },
     "execution_count": 22,
     "metadata": {},
     "output_type": "execute_result"
    }
   ],
   "source": [
    "def clean_list(elements):\n",
    "    print(\"U: \",elements.uri)\n",
    "    return elements.uri != \"\"\n",
    "\n",
    "es = list(filter(clean_list, elements))\n",
    "es\n"
   ]
  },
  {
   "cell_type": "code",
   "execution_count": 30,
   "metadata": {},
   "outputs": [],
   "source": [
    "from rdflib import Graph"
   ]
  },
  {
   "cell_type": "code",
   "execution_count": 38,
   "metadata": {},
   "outputs": [],
   "source": [
    "g = Graph()"
   ]
  },
  {
   "cell_type": "code",
   "execution_count": 39,
   "metadata": {},
   "outputs": [
    {
     "data": {
      "text/plain": [
       "<Graph identifier=N72b5a99a70504393a4f6f7ed4531279b (<class 'rdflib.graph.Graph'>)>"
      ]
     },
     "execution_count": 39,
     "metadata": {},
     "output_type": "execute_result"
    }
   ],
   "source": [
    "g.parse('http://id.loc.gov/resources/works/100.rdf')"
   ]
  },
  {
   "cell_type": "code",
   "execution_count": 42,
   "metadata": {},
   "outputs": [
    {
     "data": {
      "text/plain": [
       "<Graph identifier=N72b5a99a70504393a4f6f7ed4531279b (<class 'rdflib.graph.Graph'>)>"
      ]
     },
     "execution_count": 42,
     "metadata": {},
     "output_type": "execute_result"
    }
   ],
   "source": [
    "g.serialize( destination=\"work.ttl\", format='turtle')"
   ]
  }
 ],
 "metadata": {
  "kernelspec": {
   "display_name": "venv",
   "language": "python",
   "name": "python3"
  },
  "language_info": {
   "codemirror_mode": {
    "name": "ipython",
    "version": 3
   },
   "file_extension": ".py",
   "mimetype": "text/x-python",
   "name": "python",
   "nbconvert_exporter": "python",
   "pygments_lexer": "ipython3",
   "version": "3.12.0"
  }
 },
 "nbformat": 4,
 "nbformat_minor": 2
}
