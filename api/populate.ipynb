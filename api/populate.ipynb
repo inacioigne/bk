{
 "cells": [
  {
   "cell_type": "code",
   "execution_count": 6,
   "metadata": {},
   "outputs": [],
   "source": [
    "import json\n",
    "import httpx"
   ]
  },
  {
   "cell_type": "markdown",
   "metadata": {},
   "source": [
    "Nomes"
   ]
  },
  {
   "cell_type": "code",
   "execution_count": 3,
   "metadata": {},
   "outputs": [],
   "source": [
    "path = '../data/names.json'\n",
    "with open(path) as file:\n",
    "    reader  = file.read()\n",
    "    names = json.loads(reader)\n",
    "    file.close()"
   ]
  },
  {
   "cell_type": "code",
   "execution_count": 7,
   "metadata": {},
   "outputs": [],
   "source": [
    "name = names[1]"
   ]
  },
  {
   "cell_type": "code",
   "execution_count": 8,
   "metadata": {},
   "outputs": [
    {
     "data": {
      "text/plain": [
       "<Response [201 Created]>"
      ]
     },
     "execution_count": 8,
     "metadata": {},
     "output_type": "execute_result"
    }
   ],
   "source": [
    "headers = {\n",
    "    'accept': 'application/json',\n",
    "    'Content-Type': 'application/json',\n",
    "}\n",
    "response = httpx.post('http://localhost:8000/thesarus/create', headers=headers, json=name)\n",
    "response"
   ]
  },
  {
   "cell_type": "markdown",
   "metadata": {},
   "source": [
    "Assuntos"
   ]
  },
  {
   "cell_type": "code",
   "execution_count": 9,
   "metadata": {},
   "outputs": [],
   "source": [
    "path = '../data/subjects.json'\n",
    "with open(path) as file:\n",
    "    reader  = file.read()\n",
    "    subjects = json.loads(reader)\n",
    "    file.close()"
   ]
  },
  {
   "cell_type": "code",
   "execution_count": 13,
   "metadata": {},
   "outputs": [
    {
     "name": "stdout",
     "output_type": "stream",
     "text": [
      "<Response [201 Created]>\n"
     ]
    }
   ],
   "source": [
    "for subject in subjects:\n",
    "    response = httpx.post('http://localhost:8000/thesarus/create', headers=headers, json=subject)\n",
    "    print(response)"
   ]
  },
  {
   "cell_type": "markdown",
   "metadata": {},
   "source": [
    "Lugares"
   ]
  },
  {
   "cell_type": "code",
   "execution_count": 14,
   "metadata": {},
   "outputs": [
    {
     "data": {
      "text/plain": [
       "1"
      ]
     },
     "execution_count": 14,
     "metadata": {},
     "output_type": "execute_result"
    }
   ],
   "source": [
    "path = '../data/places.json'\n",
    "with open(path) as file:\n",
    "    reader  = file.read()\n",
    "    places = json.loads(reader)\n",
    "    file.close()\n",
    "len(places)"
   ]
  },
  {
   "cell_type": "code",
   "execution_count": 15,
   "metadata": {},
   "outputs": [
    {
     "name": "stdout",
     "output_type": "stream",
     "text": [
      "{'value': 'Manaus (Brasil)'} <Response [201 Created]>\n"
     ]
    }
   ],
   "source": [
    "for place in places:\n",
    "    response = httpx.post('http://localhost:8000/thesarus/create', headers=headers, json=place)\n",
    "    print(place['authoritativeLabel'], response)"
   ]
  },
  {
   "cell_type": "markdown",
   "metadata": {},
   "source": [
    "Editoras"
   ]
  },
  {
   "cell_type": "code",
   "execution_count": 16,
   "metadata": {},
   "outputs": [
    {
     "data": {
      "text/plain": [
       "1"
      ]
     },
     "execution_count": 16,
     "metadata": {},
     "output_type": "execute_result"
    }
   ],
   "source": [
    "path = '../data/publishers.json'\n",
    "with open(path) as file:\n",
    "    reader  = file.read()\n",
    "    publishers = json.loads(reader)\n",
    "    file.close()\n",
    "len(publishers)"
   ]
  },
  {
   "cell_type": "code",
   "execution_count": 17,
   "metadata": {},
   "outputs": [
    {
     "name": "stdout",
     "output_type": "stream",
     "text": [
      "{'value': 'Editora INPA'} <Response [201 Created]>\n"
     ]
    }
   ],
   "source": [
    "for publisher in publishers:\n",
    "    response = httpx.post('http://localhost:8000/thesarus/create', headers=headers, json=publisher)\n",
    "    print(publisher['authoritativeLabel'], response)"
   ]
  },
  {
   "cell_type": "markdown",
   "metadata": {},
   "source": [
    "Work"
   ]
  },
  {
   "cell_type": "code",
   "execution_count": 18,
   "metadata": {},
   "outputs": [
    {
     "data": {
      "text/plain": [
       "1"
      ]
     },
     "execution_count": 18,
     "metadata": {},
     "output_type": "execute_result"
    }
   ],
   "source": [
    "path = '../data/work.json'\n",
    "with open(path) as file:\n",
    "    reader  = file.read()\n",
    "    works = json.loads(reader)\n",
    "    file.close()\n",
    "len(works)"
   ]
  },
  {
   "cell_type": "code",
   "execution_count": 19,
   "metadata": {},
   "outputs": [
    {
     "name": "stdout",
     "output_type": "stream",
     "text": [
      "[{'adminMetadata': {'status': {'value': 'http://id.loc.gov/vocabulary/mstatus/n', 'label': 'Novo'}, 'descriptionConventions': {'value': 'http://id.loc.gov/vocabulary/descriptionConventions/aacr', 'label': 'AACr'}}, 'resource': [{'type': {'value': 'Work', 'label': 'Obra'}}, {'type': {'value': 'Text', 'label': 'Texto'}}, {'type': {'value': 'Monograph', 'label': 'Monografia'}}], 'language': [{'lang': {'value': 'eng', 'label': 'PortuguÃªs'}}], 'classification': {'cdd': '597 ', 'cutter': 'B615'}, 'title': {'mainTitle': 'Biology of tropical fishes'}, 'contribution': [{'authority': {'base': 'bk', 'value': 'https://bibliokeia.com/authority/88', 'label': 'Val, Adalberto LuÃ\\xads'}, 'role': {'value': 'http://id.loc.gov/vocabulary/relators/aut'}}, {'authority': {'base': 'bk', 'value': 'https://bibliokeia.com/authority/89', 'label': 'Val, Vera Maria Almeida'}, 'role': {'value': 'http://id.loc.gov/vocabulary/relators/aut', 'label': 'Autor'}}], 'subject': [{'type': {'value': 'Topic'}, 'authority': {'base': 'bk', 'value': 'https://bibliokeia.com/authority/94', 'label': 'Peixes'}, 'lang': {'value': 'por'}}], 'genreForm': [{'genre': {'value': 'http://id.loc.gov/authorities/genreForms/gf2014026068'}}], 'illustrativeContent': {'millus': {'value': 'http://id.loc.gov/vocabulary/millus/ill', 'label': 'IlustraÃ§Ã£o'}}}]\n"
     ]
    }
   ],
   "source": [
    "print(works)"
   ]
  }
 ],
 "metadata": {
  "kernelspec": {
   "display_name": "VENV",
   "language": "python",
   "name": "python3"
  },
  "language_info": {
   "codemirror_mode": {
    "name": "ipython",
    "version": 3
   },
   "file_extension": ".py",
   "mimetype": "text/x-python",
   "name": "python",
   "nbconvert_exporter": "python",
   "pygments_lexer": "ipython3",
   "version": "3.12.0"
  }
 },
 "nbformat": 4,
 "nbformat_minor": 2
}
